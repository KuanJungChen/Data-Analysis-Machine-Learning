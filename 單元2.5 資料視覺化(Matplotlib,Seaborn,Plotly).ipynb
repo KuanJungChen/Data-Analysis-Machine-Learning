{
 "cells": [
  {
   "cell_type": "code",
   "execution_count": 1,
   "metadata": {},
   "outputs": [],
   "source": [
    "from sklearn import datasets\n",
    "import pandas as pd\n",
    "import numpy as np"
   ]
  },
  {
   "cell_type": "code",
   "execution_count": 2,
   "metadata": {},
   "outputs": [
    {
     "name": "stdout",
     "output_type": "stream",
     "text": [
      "target_name: ['setosa' 'versicolor' 'virginica']\n"
     ]
    },
    {
     "data": {
      "text/html": [
       "<div>\n",
       "<style scoped>\n",
       "    .dataframe tbody tr th:only-of-type {\n",
       "        vertical-align: middle;\n",
       "    }\n",
       "\n",
       "    .dataframe tbody tr th {\n",
       "        vertical-align: top;\n",
       "    }\n",
       "\n",
       "    .dataframe thead th {\n",
       "        text-align: right;\n",
       "    }\n",
       "</style>\n",
       "<table border=\"1\" class=\"dataframe\">\n",
       "  <thead>\n",
       "    <tr style=\"text-align: right;\">\n",
       "      <th></th>\n",
       "      <th>sepal length (cm)</th>\n",
       "      <th>sepal width (cm)</th>\n",
       "      <th>petal length (cm)</th>\n",
       "      <th>petal width (cm)</th>\n",
       "      <th>target</th>\n",
       "    </tr>\n",
       "  </thead>\n",
       "  <tbody>\n",
       "    <tr>\n",
       "      <td>0</td>\n",
       "      <td>5.1</td>\n",
       "      <td>3.5</td>\n",
       "      <td>1.4</td>\n",
       "      <td>0.2</td>\n",
       "      <td>0</td>\n",
       "    </tr>\n",
       "    <tr>\n",
       "      <td>1</td>\n",
       "      <td>4.9</td>\n",
       "      <td>3.0</td>\n",
       "      <td>1.4</td>\n",
       "      <td>0.2</td>\n",
       "      <td>0</td>\n",
       "    </tr>\n",
       "    <tr>\n",
       "      <td>2</td>\n",
       "      <td>4.7</td>\n",
       "      <td>3.2</td>\n",
       "      <td>1.3</td>\n",
       "      <td>0.2</td>\n",
       "      <td>0</td>\n",
       "    </tr>\n",
       "  </tbody>\n",
       "</table>\n",
       "</div>"
      ],
      "text/plain": [
       "   sepal length (cm)  sepal width (cm)  petal length (cm)  petal width (cm)  \\\n",
       "0                5.1               3.5                1.4               0.2   \n",
       "1                4.9               3.0                1.4               0.2   \n",
       "2                4.7               3.2                1.3               0.2   \n",
       "\n",
       "   target  \n",
       "0       0  \n",
       "1       0  \n",
       "2       0  "
      ]
     },
     "execution_count": 2,
     "metadata": {},
     "output_type": "execute_result"
    }
   ],
   "source": [
    "iris = datasets.load_iris()\n",
    "x = pd.DataFrame(iris['data'], columns = iris['feature_names'])\n",
    "print('target_name: '+str(iris['target_names']))\n",
    "y = pd.DataFrame(iris['target'], columns = ['target'])\n",
    "iris_data = pd.concat([x,y], axis=1)\n",
    "iris_data.head(3)"
   ]
  },
  {
   "cell_type": "code",
   "execution_count": 3,
   "metadata": {},
   "outputs": [],
   "source": [
    "import matplotlib.pyplot as plt"
   ]
  },
  {
   "cell_type": "code",
   "execution_count": null,
   "metadata": {},
   "outputs": [],
   "source": []
  },
  {
   "cell_type": "markdown",
   "metadata": {},
   "source": [
    "Matplotlib"
   ]
  },
  {
   "cell_type": "code",
   "execution_count": 4,
   "metadata": {},
   "outputs": [
    {
     "data": {
      "text/plain": [
       "[<matplotlib.lines.Line2D at 0x1df1fe98708>]"
      ]
     },
     "execution_count": 4,
     "metadata": {},
     "output_type": "execute_result"
    },
    {
     "data": {
      "image/png": "[encoded data removed]",
      "text/plain": [
       "<Figure size 432x288 with 1 Axes>"
      ]
     },
     "metadata": {
      "needs_background": "light"
     },
     "output_type": "display_data"
    }
   ],
   "source": [
    "plt.plot([1,2,3,4])"
   ]
  },
  {
   "cell_type": "code",
   "execution_count": 5,
   "metadata": {},
   "outputs": [
    {
     "data": {
      "image/png": "[encoded data removed]",
      "text/plain": [
       "<Figure size 432x288 with 1 Axes>"
      ]
     },
     "metadata": {
      "needs_background": "light"
     },
     "output_type": "display_data"
    }
   ],
   "source": [
    "plt.plot([1,2,3,4])\n",
    "plt.show()"
   ]
  },
  {
   "cell_type": "code",
   "execution_count": 6,
   "metadata": {},
   "outputs": [],
   "source": [
    "#不用加上show()就能畫圖了\n",
    "%matplotlib inline"
   ]
  },
  {
   "cell_type": "code",
   "execution_count": 7,
   "metadata": {},
   "outputs": [
    {
     "data": {
      "text/plain": [
       "[<matplotlib.lines.Line2D at 0x1df20359348>]"
      ]
     },
     "execution_count": 7,
     "metadata": {},
     "output_type": "execute_result"
    },
    {
     "data": {
      "image/png": "[encoded data removed]",
      "text/plain": [
       "<Figure size 432x288 with 1 Axes>"
      ]
     },
     "metadata": {
      "needs_background": "light"
     },
     "output_type": "display_data"
    }
   ],
   "source": [
    "plt.plot([1,2,3,4])"
   ]
  },
  {
   "cell_type": "code",
   "execution_count": 8,
   "metadata": {},
   "outputs": [
    {
     "data": {
      "text/plain": [
       "Text(0.5, 0, 'x label')"
      ]
     },
     "execution_count": 8,
     "metadata": {},
     "output_type": "execute_result"
    },
    {
     "data": {
      "image/png": "[encoded data removed]",
      "text/plain": [
       "<Figure size 432x288 with 1 Axes>"
      ]
     },
     "metadata": {
      "needs_background": "light"
     },
     "output_type": "display_data"
    }
   ],
   "source": [
    "#第一個放x，第二個放y\n",
    "plt.plot([1,2,3,4],[1,4,9,16])\n",
    "plt.ylabel('y label')\n",
    "plt.xlabel('x label')"
   ]
  },
  {
   "cell_type": "code",
   "execution_count": 15,
   "metadata": {},
   "outputs": [
    {
     "data": {
      "text/plain": [
       "[<matplotlib.lines.Line2D at 0x1df20879208>]"
      ]
     },
     "execution_count": 15,
     "metadata": {},
     "output_type": "execute_result"
    },
    {
     "data": {
      "image/png": "[encoded data removed]",
      "text/plain": [
       "<Figure size 432x288 with 1 Axes>"
      ]
     },
     "metadata": {
      "needs_background": "light"
     },
     "output_type": "display_data"
    }
   ],
   "source": [
    "#ro 第一個字元為顏色，第二個字元為圖案樣式\n",
    "plt.plot([1,2,3,4],[1,4,9,16],'ro')"
   ]
  },
  {
   "cell_type": "code",
   "execution_count": 16,
   "metadata": {},
   "outputs": [
    {
     "data": {
      "text/plain": [
       "[0, 6, 0, 20]"
      ]
     },
     "execution_count": 16,
     "metadata": {},
     "output_type": "execute_result"
    },
    {
     "data": {
      "image/png": "[encoded data removed]",
      "text/plain": [
       "<Figure size 432x288 with 1 Axes>"
      ]
     },
     "metadata": {
      "needs_background": "light"
     },
     "output_type": "display_data"
    }
   ],
   "source": [
    "plt.plot([1,2,3,4],[1,4,9,16],'ro')\n",
    "#x軸範圍為0-6，y軸範圍為0-20\n",
    "plt.axis([0,6,0,20])"
   ]
  },
  {
   "cell_type": "code",
   "execution_count": 17,
   "metadata": {},
   "outputs": [
    {
     "name": "stdout",
     "output_type": "stream",
     "text": [
      "t: [0.  0.2 0.4 0.6 0.8 1.  1.2 1.4 1.6 1.8 2.  2.2 2.4 2.6 2.8 3.  3.2 3.4\n",
      " 3.6 3.8 4.  4.2 4.4 4.6 4.8]\n"
     ]
    },
    {
     "data": {
      "text/plain": [
       "[<matplotlib.lines.Line2D at 0x1df209531c8>,\n",
       " <matplotlib.lines.Line2D at 0x1df20953348>,\n",
       " <matplotlib.lines.Line2D at 0x1df20953508>]"
      ]
     },
     "execution_count": 17,
     "metadata": {},
     "output_type": "execute_result"
    },
    {
     "data": {
      "image/png": "[encoded data removed]",
      "text/plain": [
       "<Figure size 432x288 with 1 Axes>"
      ]
     },
     "metadata": {
      "needs_background": "light"
     },
     "output_type": "display_data"
    }
   ],
   "source": [
    "#多個圖形的方程式，三個三個一組\n",
    "t = np.arange(0., 5., 0.2)\n",
    "print('t: '+str(t))\n",
    "plt.plot(t,t,'r--',t,t**2,'bs',t,t**3,'g^')"
   ]
  },
  {
   "cell_type": "code",
   "execution_count": 30,
   "metadata": {},
   "outputs": [
    {
     "data": {
      "text/plain": [
       "<BarContainer object of 38 artists>"
      ]
     },
     "execution_count": 30,
     "metadata": {},
     "output_type": "execute_result"
    },
    {
     "data": {
      "image/png": "[encoded data removed]",
      "text/plain": [
       "<Figure size 432x288 with 1 Axes>"
      ]
     },
     "metadata": {
      "needs_background": "light"
     },
     "output_type": "display_data"
    }
   ],
   "source": [
    "#直方圖\n",
    "x = [4, 4, 7, 7, 8, 9, 10, 10, 10, 11, 11, 12, 12, 12, 12, 13, 13, 13, 13, 13, 14, 14, 14, 15, 16, 16, 17, 17, 17, 17, 17, 17, 17, 17, 18, 18, 19, 20]\n",
    "y = [2, 10, 4, 22, 16, 10, 18, 26, 34, 17, 28, 14, 20, 24, 28, 26, 34, 34, 46, 26, 36, 60, 80, 20, 26, 54, 32, 40, 32, 40, 48, 60, 100, 80, 66, 80, 70, 68]\n",
    "plt.bar(x,y)"
   ]
  },
  {
   "cell_type": "code",
   "execution_count": 31,
   "metadata": {},
   "outputs": [
    {
     "data": {
      "text/plain": [
       "<matplotlib.collections.PathCollection at 0x1df20b89108>"
      ]
     },
     "execution_count": 31,
     "metadata": {},
     "output_type": "execute_result"
    },
    {
     "data": {
      "image/png": "[encoded data removed]",
      "text/plain": [
       "<Figure size 432x288 with 1 Axes>"
      ]
     },
     "metadata": {
      "needs_background": "light"
     },
     "output_type": "display_data"
    }
   ],
   "source": [
    "#散佈圖\n",
    "x = [4, 4, 7, 7, 8, 9, 10, 10, 10, 11, 11, 12, 12, 12, 12, 13, 13, 13, 13, 13, 14, 14, 14, 15, 16, 16, 17, 17, 17, 17, 17, 17, 17, 17, 18, 18, 19, 20]\n",
    "y = [2, 10, 4, 22, 16, 10, 18, 26, 34, 17, 28, 14, 20, 24, 28, 26, 34, 34, 46, 26, 36, 60, 80, 20, 26, 54, 32, 40, 32, 40, 48, 60, 100, 80, 66, 80, 70, 68]\n",
    "plt.scatter(x,y)"
   ]
  },
  {
   "cell_type": "code",
   "execution_count": null,
   "metadata": {},
   "outputs": [],
   "source": []
  },
  {
   "cell_type": "markdown",
   "metadata": {},
   "source": [
    "Pandas plot"
   ]
  },
  {
   "cell_type": "code",
   "execution_count": 33,
   "metadata": {},
   "outputs": [
    {
     "data": {
      "text/plain": [
       "<matplotlib.axes._subplots.AxesSubplot at 0x1df20bbdc88>"
      ]
     },
     "execution_count": 33,
     "metadata": {},
     "output_type": "execute_result"
    },
    {
     "data": {
      "image/png": "[encoded data removed]",
      "text/plain": [
       "<Figure size 432x288 with 2 Axes>"
      ]
     },
     "metadata": {
      "needs_background": "light"
     },
     "output_type": "display_data"
    }
   ],
   "source": [
    "iris_data.plot.scatter(x = 'sepal length (cm)', y = 'sepal width (cm)', c = 'target')"
   ]
  },
  {
   "cell_type": "code",
   "execution_count": 34,
   "metadata": {},
   "outputs": [],
   "source": [
    "color = {0:'r',\n",
    "         1:'g',\n",
    "         2:'b'}"
   ]
  },
  {
   "cell_type": "code",
   "execution_count": 35,
   "metadata": {},
   "outputs": [],
   "source": [
    "iris_data['color'] = iris_data['target'].map(color)"
   ]
  },
  {
   "cell_type": "code",
   "execution_count": 36,
   "metadata": {},
   "outputs": [
    {
     "data": {
      "text/html": [
       "<div>\n",
       "<style scoped>\n",
       "    .dataframe tbody tr th:only-of-type {\n",
       "        vertical-align: middle;\n",
       "    }\n",
       "\n",
       "    .dataframe tbody tr th {\n",
       "        vertical-align: top;\n",
       "    }\n",
       "\n",
       "    .dataframe thead th {\n",
       "        text-align: right;\n",
       "    }\n",
       "</style>\n",
       "<table border=\"1\" class=\"dataframe\">\n",
       "  <thead>\n",
       "    <tr style=\"text-align: right;\">\n",
       "      <th></th>\n",
       "      <th>sepal length (cm)</th>\n",
       "      <th>sepal width (cm)</th>\n",
       "      <th>petal length (cm)</th>\n",
       "      <th>petal width (cm)</th>\n",
       "      <th>target</th>\n",
       "      <th>color</th>\n",
       "    </tr>\n",
       "  </thead>\n",
       "  <tbody>\n",
       "    <tr>\n",
       "      <td>0</td>\n",
       "      <td>5.1</td>\n",
       "      <td>3.5</td>\n",
       "      <td>1.4</td>\n",
       "      <td>0.2</td>\n",
       "      <td>0</td>\n",
       "      <td>r</td>\n",
       "    </tr>\n",
       "    <tr>\n",
       "      <td>1</td>\n",
       "      <td>4.9</td>\n",
       "      <td>3.0</td>\n",
       "      <td>1.4</td>\n",
       "      <td>0.2</td>\n",
       "      <td>0</td>\n",
       "      <td>r</td>\n",
       "    </tr>\n",
       "    <tr>\n",
       "      <td>2</td>\n",
       "      <td>4.7</td>\n",
       "      <td>3.2</td>\n",
       "      <td>1.3</td>\n",
       "      <td>0.2</td>\n",
       "      <td>0</td>\n",
       "      <td>r</td>\n",
       "    </tr>\n",
       "    <tr>\n",
       "      <td>3</td>\n",
       "      <td>4.6</td>\n",
       "      <td>3.1</td>\n",
       "      <td>1.5</td>\n",
       "      <td>0.2</td>\n",
       "      <td>0</td>\n",
       "      <td>r</td>\n",
       "    </tr>\n",
       "    <tr>\n",
       "      <td>4</td>\n",
       "      <td>5.0</td>\n",
       "      <td>3.6</td>\n",
       "      <td>1.4</td>\n",
       "      <td>0.2</td>\n",
       "      <td>0</td>\n",
       "      <td>r</td>\n",
       "    </tr>\n",
       "  </tbody>\n",
       "</table>\n",
       "</div>"
      ],
      "text/plain": [
       "   sepal length (cm)  sepal width (cm)  petal length (cm)  petal width (cm)  \\\n",
       "0                5.1               3.5                1.4               0.2   \n",
       "1                4.9               3.0                1.4               0.2   \n",
       "2                4.7               3.2                1.3               0.2   \n",
       "3                4.6               3.1                1.5               0.2   \n",
       "4                5.0               3.6                1.4               0.2   \n",
       "\n",
       "   target color  \n",
       "0       0     r  \n",
       "1       0     r  \n",
       "2       0     r  \n",
       "3       0     r  \n",
       "4       0     r  "
      ]
     },
     "execution_count": 36,
     "metadata": {},
     "output_type": "execute_result"
    }
   ],
   "source": [
    "iris_data.head(5)"
   ]
  },
  {
   "cell_type": "code",
   "execution_count": 38,
   "metadata": {},
   "outputs": [
    {
     "data": {
      "text/plain": [
       "<matplotlib.axes._subplots.AxesSubplot at 0x1df20d23388>"
      ]
     },
     "execution_count": 38,
     "metadata": {},
     "output_type": "execute_result"
    },
    {
     "data": {
      "image/png": "[encoded data removed]",
      "text/plain": [
       "<Figure size 432x288 with 1 Axes>"
      ]
     },
     "metadata": {
      "needs_background": "light"
     },
     "output_type": "display_data"
    }
   ],
   "source": [
    "iris_data.plot.scatter(x = 'sepal length (cm)', y = 'sepal width (cm)', c = iris_data['color'])"
   ]
  },
  {
   "cell_type": "code",
   "execution_count": null,
   "metadata": {},
   "outputs": [],
   "source": []
  },
  {
   "cell_type": "markdown",
   "metadata": {},
   "source": [
    "add label"
   ]
  },
  {
   "cell_type": "code",
   "execution_count": 40,
   "metadata": {},
   "outputs": [
    {
     "data": {
      "text/plain": [
       "<matplotlib.axes._subplots.AxesSubplot at 0x1df21e75e08>"
      ]
     },
     "execution_count": 40,
     "metadata": {},
     "output_type": "execute_result"
    },
    {
     "data": {
      "image/png": "[encoded data removed]",
      "text/plain": [
       "<Figure size 432x288 with 1 Axes>"
      ]
     },
     "metadata": {
      "needs_background": "light"
     },
     "output_type": "display_data"
    },
    {
     "data": {
      "image/png": "[encoded data removed]",
      "text/plain": [
       "<Figure size 432x288 with 1 Axes>"
      ]
     },
     "metadata": {
      "needs_background": "light"
     },
     "output_type": "display_data"
    },
    {
     "data": {
      "image/png": "[encoded data removed]",
      "text/plain": [
       "<Figure size 432x288 with 1 Axes>"
      ]
     },
     "metadata": {
      "needs_background": "light"
     },
     "output_type": "display_data"
    }
   ],
   "source": [
    "iris_data[iris_data['target']==0].plot.scatter(x = \"sepal length (cm)\", y = \"petal width (cm)\", color = 'r', label = 'setosa')\n",
    "iris_data[iris_data['target']==1].plot.scatter(x = \"sepal length (cm)\", y = \"petal width (cm)\", color = 'g', label = 'versicolor')\n",
    "iris_data[iris_data['target']==2].plot.scatter(x = \"sepal length (cm)\", y = \"petal width (cm)\", color = 'b', label = 'virginica')"
   ]
  },
  {
   "cell_type": "code",
   "execution_count": 41,
   "metadata": {},
   "outputs": [
    {
     "data": {
      "text/plain": [
       "<matplotlib.axes._subplots.AxesSubplot at 0x1df21f051c8>"
      ]
     },
     "execution_count": 41,
     "metadata": {},
     "output_type": "execute_result"
    },
    {
     "data": {
      "image/png": "[encoded data removed]",
      "text/plain": [
       "<Figure size 432x288 with 1 Axes>"
      ]
     },
     "metadata": {
      "needs_background": "light"
     },
     "output_type": "display_data"
    }
   ],
   "source": [
    "ax = iris_data[iris_data['target']==0].plot.scatter(x = \"sepal length (cm)\", y = \"petal width (cm)\", color = 'r', label = 'setosa')\n",
    "ax = iris_data[iris_data['target']==1].plot.scatter(x = \"sepal length (cm)\", y = \"petal width (cm)\", color = 'g', label = 'versicolor', ax=ax)\n",
    "iris_data[iris_data['target']==2].plot.scatter(x = \"sepal length (cm)\", y = \"petal width (cm)\", color = 'b', label = 'virginica', ax=ax)"
   ]
  },
  {
   "cell_type": "code",
   "execution_count": 44,
   "metadata": {},
   "outputs": [
    {
     "data": {
      "text/plain": [
       "<matplotlib.collections.PathCollection at 0x1df22082d48>"
      ]
     },
     "execution_count": 44,
     "metadata": {},
     "output_type": "execute_result"
    },
    {
     "data": {
      "image/png": "[encoded data removed]",
      "text/plain": [
       "<Figure size 432x288 with 1 Axes>"
      ]
     },
     "metadata": {
      "needs_background": "light"
     },
     "output_type": "display_data"
    }
   ],
   "source": [
    "N = 50\n",
    "x = np.random.rand(N)\n",
    "y = np.random.rand(N)\n",
    "colors = np.random.rand(N)\n",
    "area = np.pi * (15 * np.random.rand(N))**2\n",
    "\n",
    "#alpha為透明度\n",
    "plt.scatter(x, y, s = area, c = colors, alpha = 0.5)\n"
   ]
  },
  {
   "cell_type": "code",
   "execution_count": 45,
   "metadata": {},
   "outputs": [
    {
     "data": {
      "text/plain": [
       "['bmh',\n",
       " 'classic',\n",
       " 'dark_background',\n",
       " 'fast',\n",
       " 'fivethirtyeight',\n",
       " 'ggplot',\n",
       " 'grayscale',\n",
       " 'seaborn-bright',\n",
       " 'seaborn-colorblind',\n",
       " 'seaborn-dark-palette',\n",
       " 'seaborn-dark',\n",
       " 'seaborn-darkgrid',\n",
       " 'seaborn-deep',\n",
       " 'seaborn-muted',\n",
       " 'seaborn-notebook',\n",
       " 'seaborn-paper',\n",
       " 'seaborn-pastel',\n",
       " 'seaborn-poster',\n",
       " 'seaborn-talk',\n",
       " 'seaborn-ticks',\n",
       " 'seaborn-white',\n",
       " 'seaborn-whitegrid',\n",
       " 'seaborn',\n",
       " 'Solarize_Light2',\n",
       " 'tableau-colorblind10',\n",
       " '_classic_test']"
      ]
     },
     "execution_count": 45,
     "metadata": {},
     "output_type": "execute_result"
    }
   ],
   "source": [
    "#類似模板\n",
    "plt.style.available"
   ]
  },
  {
   "cell_type": "code",
   "execution_count": 46,
   "metadata": {},
   "outputs": [],
   "source": [
    "plt.style.use('ggplot')"
   ]
  },
  {
   "cell_type": "code",
   "execution_count": 47,
   "metadata": {},
   "outputs": [
    {
     "data": {
      "text/plain": [
       "<matplotlib.collections.PathCollection at 0x1df220ec908>"
      ]
     },
     "execution_count": 47,
     "metadata": {},
     "output_type": "execute_result"
    },
    {
     "data": {
      "image/png": "[encoded data removed]",
      "text/plain": [
       "<Figure size 432x288 with 1 Axes>"
      ]
     },
     "metadata": {},
     "output_type": "display_data"
    }
   ],
   "source": [
    "N = 50\n",
    "x = np.random.rand(N)\n",
    "y = np.random.rand(N)\n",
    "colors = np.random.rand(N)\n",
    "area = np.pi * (15 * np.random.rand(N))**2\n",
    "\n",
    "#alpha為透明度\n",
    "plt.scatter(x, y, s = area, c = colors, alpha = 0.5)\n"
   ]
  },
  {
   "cell_type": "code",
   "execution_count": 48,
   "metadata": {},
   "outputs": [],
   "source": [
    "plt.style.use('classic')"
   ]
  },
  {
   "cell_type": "code",
   "execution_count": 49,
   "metadata": {},
   "outputs": [
    {
     "data": {
      "text/plain": [
       "<matplotlib.collections.PathCollection at 0x1df22157c08>"
      ]
     },
     "execution_count": 49,
     "metadata": {},
     "output_type": "execute_result"
    },
    {
     "data": {
      "image/png": "[encoded data removed]",
      "text/plain": [
       "<Figure size 640x480 with 1 Axes>"
      ]
     },
     "metadata": {},
     "output_type": "display_data"
    }
   ],
   "source": [
    "N = 50\n",
    "x = np.random.rand(N)\n",
    "y = np.random.rand(N)\n",
    "colors = np.random.rand(N)\n",
    "area = np.pi * (15 * np.random.rand(N))**2\n",
    "\n",
    "#alpha為透明度\n",
    "plt.scatter(x, y, s = area, c = colors, alpha = 0.5)\n"
   ]
  },
  {
   "cell_type": "code",
   "execution_count": null,
   "metadata": {},
   "outputs": [],
   "source": []
  },
  {
   "cell_type": "markdown",
   "metadata": {},
   "source": [
    "Seaborn"
   ]
  },
  {
   "cell_type": "code",
   "execution_count": 50,
   "metadata": {},
   "outputs": [],
   "source": [
    "import seaborn as sns"
   ]
  },
  {
   "cell_type": "code",
   "execution_count": 56,
   "metadata": {},
   "outputs": [
    {
     "data": {
      "text/plain": [
       "<seaborn.axisgrid.FacetGrid at 0x1df21e10b08>"
      ]
     },
     "execution_count": 56,
     "metadata": {},
     "output_type": "execute_result"
    },
    {
     "data": {
      "image/png": "[encoded data removed]",
      "text/plain": [
       "<Figure size 467.85x400 with 1 Axes>"
      ]
     },
     "metadata": {},
     "output_type": "display_data"
    }
   ],
   "source": [
    "sns.lmplot('sepal length (cm)', 'petal width (cm)', data = iris_data, fit_reg = False, hue = 'target')"
   ]
  },
  {
   "cell_type": "code",
   "execution_count": 52,
   "metadata": {},
   "outputs": [],
   "source": [
    "target_name = {0:'setosa',\n",
    "               1:'versicolor',\n",
    "               2:'virginica'}"
   ]
  },
  {
   "cell_type": "code",
   "execution_count": 54,
   "metadata": {},
   "outputs": [],
   "source": [
    "iris_data['target_name'] = iris_data['target'].map(target_name)"
   ]
  },
  {
   "cell_type": "code",
   "execution_count": 55,
   "metadata": {},
   "outputs": [
    {
     "data": {
      "text/plain": [
       "<seaborn.axisgrid.FacetGrid at 0x1df223e5648>"
      ]
     },
     "execution_count": 55,
     "metadata": {},
     "output_type": "execute_result"
    },
    {
     "data": {
      "image/png": "[encoded data removed]",
      "text/plain": [
       "<Figure size 535.725x400 with 1 Axes>"
      ]
     },
     "metadata": {},
     "output_type": "display_data"
    }
   ],
   "source": [
    "#fit_reg = False，表示回歸線\n",
    "sns.lmplot('sepal length (cm)', 'petal width (cm)', data = iris_data, fit_reg = False, hue = 'target_name')"
   ]
  },
  {
   "cell_type": "code",
   "execution_count": null,
   "metadata": {},
   "outputs": [],
   "source": []
  },
  {
   "cell_type": "markdown",
   "metadata": {},
   "source": [
    "Plotly"
   ]
  },
  {
   "cell_type": "code",
   "execution_count": 57,
   "metadata": {},
   "outputs": [
    {
     "data": {
      "text/html": [
       "        <script type=\"text/javascript\">\n",
       "        window.PlotlyConfig = {MathJaxConfig: 'local'};\n",
       "        if (window.MathJax) {MathJax.Hub.Config({SVG: {font: \"STIX-Web\"}});}\n",
       "        if (typeof require !== 'undefined') {\n",
       "        require.undef(\"plotly\");\n",
       "        requirejs.config({\n",
       "            paths: {\n",
       "                'plotly': ['https://cdn.plot.ly/plotly-latest.min']\n",
       "            }\n",
       "        });\n",
       "        require(['plotly'], function(Plotly) {\n",
       "            window._Plotly = Plotly;\n",
       "        });\n",
       "        }\n",
       "        </script>\n",
       "        "
      ]
     },
     "metadata": {},
     "output_type": "display_data"
    },
    {
     "data": {
      "application/vnd.plotly.v1+json": {
       "config": {
        "linkText": "Export to plot.ly",
        "plotlyServerURL": "https://plot.ly",
        "showLink": false
       },
       "data": [
        {
         "type": "scatter",
         "x": [
          1,
          2,
          3,
          4
         ],
         "y": [
          4,
          3,
          2,
          1
         ]
        }
       ],
       "layout": {
        "template": {
         "data": {
          "bar": [
           {
            "error_x": {
             "color": "#2a3f5f"
            },
            "error_y": {
             "color": "#2a3f5f"
            },
            "marker": {
             "line": {
              "color": "#E5ECF6",
              "width": 0.5
             }
            },
            "type": "bar"
           }
          ],
          "barpolar": [
           {
            "marker": {
             "line": {
              "color": "#E5ECF6",
              "width": 0.5
             }
            },
            "type": "barpolar"
           }
          ],
          "carpet": [
           {
            "aaxis": {
             "endlinecolor": "#2a3f5f",
             "gridcolor": "white",
             "linecolor": "white",
             "minorgridcolor": "white",
             "startlinecolor": "#2a3f5f"
            },
            "baxis": {
             "endlinecolor": "#2a3f5f",
             "gridcolor": "white",
             "linecolor": "white",
             "minorgridcolor": "white",
             "startlinecolor": "#2a3f5f"
            },
            "type": "carpet"
           }
          ],
          "choropleth": [
           {
            "colorbar": {
             "outlinewidth": 0,
             "ticks": ""
            },
            "type": "choropleth"
           }
          ],
          "contour": [
           {
            "colorbar": {
             "outlinewidth": 0,
             "ticks": ""
            },
            "colorscale": [
             [
              0,
              "#0d0887"
             ],
             [
              0.1111111111111111,
              "#46039f"
             ],
             [
              0.2222222222222222,
              "#7201a8"
             ],
             [
              0.3333333333333333,
              "#9c179e"
             ],
             [
              0.4444444444444444,
              "#bd3786"
             ],
             [
              0.5555555555555556,
              "#d8576b"
             ],
             [
              0.6666666666666666,
              "#ed7953"
             ],
             [
              0.7777777777777778,
              "#fb9f3a"
             ],
             [
              0.8888888888888888,
              "#fdca26"
             ],
             [
              1,
              "#f0f921"
             ]
            ],
            "type": "contour"
           }
          ],
          "contourcarpet": [
           {
            "colorbar": {
             "outlinewidth": 0,
             "ticks": ""
            },
            "type": "contourcarpet"
           }
          ],
          "heatmap": [
           {
            "colorbar": {
             "outlinewidth": 0,
             "ticks": ""
            },
            "colorscale": [
             [
              0,
              "#0d0887"
             ],
             [
              0.1111111111111111,
              "#46039f"
             ],
             [
              0.2222222222222222,
              "#7201a8"
             ],
             [
              0.3333333333333333,
              "#9c179e"
             ],
             [
              0.4444444444444444,
              "#bd3786"
             ],
             [
              0.5555555555555556,
              "#d8576b"
             ],
             [
              0.6666666666666666,
              "#ed7953"
             ],
             [
              0.7777777777777778,
              "#fb9f3a"
             ],
             [
              0.8888888888888888,
              "#fdca26"
             ],
             [
              1,
              "#f0f921"
             ]
            ],
            "type": "heatmap"
           }
          ],
          "heatmapgl": [
           {
            "colorbar": {
             "outlinewidth": 0,
             "ticks": ""
            },
            "colorscale": [
             [
              0,
              "#0d0887"
             ],
             [
              0.1111111111111111,
              "#46039f"
             ],
             [
              0.2222222222222222,
              "#7201a8"
             ],
             [
              0.3333333333333333,
              "#9c179e"
             ],
             [
              0.4444444444444444,
              "#bd3786"
             ],
             [
              0.5555555555555556,
              "#d8576b"
             ],
             [
              0.6666666666666666,
              "#ed7953"
             ],
             [
              0.7777777777777778,
              "#fb9f3a"
             ],
             [
              0.8888888888888888,
              "#fdca26"
             ],
             [
              1,
              "#f0f921"
             ]
            ],
            "type": "heatmapgl"
           }
          ],
          "histogram": [
           {
            "marker": {
             "colorbar": {
              "outlinewidth": 0,
              "ticks": ""
             }
            },
            "type": "histogram"
           }
          ],
          "histogram2d": [
           {
            "colorbar": {
             "outlinewidth": 0,
             "ticks": ""
            },
            "colorscale": [
             [
              0,
              "#0d0887"
             ],
             [
              0.1111111111111111,
              "#46039f"
             ],
             [
              0.2222222222222222,
              "#7201a8"
             ],
             [
              0.3333333333333333,
              "#9c179e"
             ],
             [
              0.4444444444444444,
              "#bd3786"
             ],
             [
              0.5555555555555556,
              "#d8576b"
             ],
             [
              0.6666666666666666,
              "#ed7953"
             ],
             [
              0.7777777777777778,
              "#fb9f3a"
             ],
             [
              0.8888888888888888,
              "#fdca26"
             ],
             [
              1,
              "#f0f921"
             ]
            ],
            "type": "histogram2d"
           }
          ],
          "histogram2dcontour": [
           {
            "colorbar": {
             "outlinewidth": 0,
             "ticks": ""
            },
            "colorscale": [
             [
              0,
              "#0d0887"
             ],
             [
              0.1111111111111111,
              "#46039f"
             ],
             [
              0.2222222222222222,
              "#7201a8"
             ],
             [
              0.3333333333333333,
              "#9c179e"
             ],
             [
              0.4444444444444444,
              "#bd3786"
             ],
             [
              0.5555555555555556,
              "#d8576b"
             ],
             [
              0.6666666666666666,
              "#ed7953"
             ],
             [
              0.7777777777777778,
              "#fb9f3a"
             ],
             [
              0.8888888888888888,
              "#fdca26"
             ],
             [
              1,
              "#f0f921"
             ]
            ],
            "type": "histogram2dcontour"
           }
          ],
          "mesh3d": [
           {
            "colorbar": {
             "outlinewidth": 0,
             "ticks": ""
            },
            "type": "mesh3d"
           }
          ],
          "parcoords": [
           {
            "line": {
             "colorbar": {
              "outlinewidth": 0,
              "ticks": ""
             }
            },
            "type": "parcoords"
           }
          ],
          "pie": [
           {
            "automargin": true,
            "type": "pie"
           }
          ],
          "scatter": [
           {
            "marker": {
             "colorbar": {
              "outlinewidth": 0,
              "ticks": ""
             }
            },
            "type": "scatter"
           }
          ],
          "scatter3d": [
           {
            "line": {
             "colorbar": {
              "outlinewidth": 0,
              "ticks": ""
             }
            },
            "marker": {
             "colorbar": {
              "outlinewidth": 0,
              "ticks": ""
             }
            },
            "type": "scatter3d"
           }
          ],
          "scattercarpet": [
           {
            "marker": {
             "colorbar": {
              "outlinewidth": 0,
              "ticks": ""
             }
            },
            "type": "scattercarpet"
           }
          ],
          "scattergeo": [
           {
            "marker": {
             "colorbar": {
              "outlinewidth": 0,
              "ticks": ""
             }
            },
            "type": "scattergeo"
           }
          ],
          "scattergl": [
           {
            "marker": {
             "colorbar": {
              "outlinewidth": 0,
              "ticks": ""
             }
            },
            "type": "scattergl"
           }
          ],
          "scattermapbox": [
           {
            "marker": {
             "colorbar": {
              "outlinewidth": 0,
              "ticks": ""
             }
            },
            "type": "scattermapbox"
           }
          ],
          "scatterpolar": [
           {
            "marker": {
             "colorbar": {
              "outlinewidth": 0,
              "ticks": ""
             }
            },
            "type": "scatterpolar"
           }
          ],
          "scatterpolargl": [
           {
            "marker": {
             "colorbar": {
              "outlinewidth": 0,
              "ticks": ""
             }
            },
            "type": "scatterpolargl"
           }
          ],
          "scatterternary": [
           {
            "marker": {
             "colorbar": {
              "outlinewidth": 0,
              "ticks": ""
             }
            },
            "type": "scatterternary"
           }
          ],
          "surface": [
           {
            "colorbar": {
             "outlinewidth": 0,
             "ticks": ""
            },
            "colorscale": [
             [
              0,
              "#0d0887"
             ],
             [
              0.1111111111111111,
              "#46039f"
             ],
             [
              0.2222222222222222,
              "#7201a8"
             ],
             [
              0.3333333333333333,
              "#9c179e"
             ],
             [
              0.4444444444444444,
              "#bd3786"
             ],
             [
              0.5555555555555556,
              "#d8576b"
             ],
             [
              0.6666666666666666,
              "#ed7953"
             ],
             [
              0.7777777777777778,
              "#fb9f3a"
             ],
             [
              0.8888888888888888,
              "#fdca26"
             ],
             [
              1,
              "#f0f921"
             ]
            ],
            "type": "surface"
           }
          ],
          "table": [
           {
            "cells": {
             "fill": {
              "color": "#EBF0F8"
             },
             "line": {
              "color": "white"
             }
            },
            "header": {
             "fill": {
              "color": "#C8D4E3"
             },
             "line": {
              "color": "white"
             }
            },
            "type": "table"
           }
          ]
         },
         "layout": {
          "annotationdefaults": {
           "arrowcolor": "#2a3f5f",
           "arrowhead": 0,
           "arrowwidth": 1
          },
          "autotypenumbers": "strict",
          "coloraxis": {
           "colorbar": {
            "outlinewidth": 0,
            "ticks": ""
           }
          },
          "colorscale": {
           "diverging": [
            [
             0,
             "#8e0152"
            ],
            [
             0.1,
             "#c51b7d"
            ],
            [
             0.2,
             "#de77ae"
            ],
            [
             0.3,
             "#f1b6da"
            ],
            [
             0.4,
             "#fde0ef"
            ],
            [
             0.5,
             "#f7f7f7"
            ],
            [
             0.6,
             "#e6f5d0"
            ],
            [
             0.7,
             "#b8e186"
            ],
            [
             0.8,
             "#7fbc41"
            ],
            [
             0.9,
             "#4d9221"
            ],
            [
             1,
             "#276419"
            ]
           ],
           "sequential": [
            [
             0,
             "#0d0887"
            ],
            [
             0.1111111111111111,
             "#46039f"
            ],
            [
             0.2222222222222222,
             "#7201a8"
            ],
            [
             0.3333333333333333,
             "#9c179e"
            ],
            [
             0.4444444444444444,
             "#bd3786"
            ],
            [
             0.5555555555555556,
             "#d8576b"
            ],
            [
             0.6666666666666666,
             "#ed7953"
            ],
            [
             0.7777777777777778,
             "#fb9f3a"
            ],
            [
             0.8888888888888888,
             "#fdca26"
            ],
            [
             1,
             "#f0f921"
            ]
           ],
           "sequentialminus": [
            [
             0,
             "#0d0887"
            ],
            [
             0.1111111111111111,
             "#46039f"
            ],
            [
             0.2222222222222222,
             "#7201a8"
            ],
            [
             0.3333333333333333,
             "#9c179e"
            ],
            [
             0.4444444444444444,
             "#bd3786"
            ],
            [
             0.5555555555555556,
             "#d8576b"
            ],
            [
             0.6666666666666666,
             "#ed7953"
            ],
            [
             0.7777777777777778,
             "#fb9f3a"
            ],
            [
             0.8888888888888888,
             "#fdca26"
            ],
            [
             1,
             "#f0f921"
            ]
           ]
          },
          "colorway": [
           "#636efa",
           "#EF553B",
           "#00cc96",
           "#ab63fa",
           "#FFA15A",
           "#19d3f3",
           "#FF6692",
           "#B6E880",
           "#FF97FF",
           "#FECB52"
          ],
          "font": {
           "color": "#2a3f5f"
          },
          "geo": {
           "bgcolor": "white",
           "lakecolor": "white",
           "landcolor": "#E5ECF6",
           "showlakes": true,
           "showland": true,
           "subunitcolor": "white"
          },
          "hoverlabel": {
           "align": "left"
          },
          "hovermode": "closest",
          "mapbox": {
           "style": "light"
          },
          "paper_bgcolor": "white",
          "plot_bgcolor": "#E5ECF6",
          "polar": {
           "angularaxis": {
            "gridcolor": "white",
            "linecolor": "white",
            "ticks": ""
           },
           "bgcolor": "#E5ECF6",
           "radialaxis": {
            "gridcolor": "white",
            "linecolor": "white",
            "ticks": ""
           }
          },
          "scene": {
           "xaxis": {
            "backgroundcolor": "#E5ECF6",
            "gridcolor": "white",
            "gridwidth": 2,
            "linecolor": "white",
            "showbackground": true,
            "ticks": "",
            "zerolinecolor": "white"
           },
           "yaxis": {
            "backgroundcolor": "#E5ECF6",
            "gridcolor": "white",
            "gridwidth": 2,
            "linecolor": "white",
            "showbackground": true,
            "ticks": "",
            "zerolinecolor": "white"
           },
           "zaxis": {
            "backgroundcolor": "#E5ECF6",
            "gridcolor": "white",
            "gridwidth": 2,
            "linecolor": "white",
            "showbackground": true,
            "ticks": "",
            "zerolinecolor": "white"
           }
          },
          "shapedefaults": {
           "line": {
            "color": "#2a3f5f"
           }
          },
          "ternary": {
           "aaxis": {
            "gridcolor": "white",
            "linecolor": "white",
            "ticks": ""
           },
           "baxis": {
            "gridcolor": "white",
            "linecolor": "white",
            "ticks": ""
           },
           "bgcolor": "#E5ECF6",
           "caxis": {
            "gridcolor": "white",
            "linecolor": "white",
            "ticks": ""
           }
          },
          "title": {
           "x": 0.05
          },
          "xaxis": {
           "automargin": true,
           "gridcolor": "white",
           "linecolor": "white",
           "ticks": "",
           "title": {
            "standoff": 15
           },
           "zerolinecolor": "white",
           "zerolinewidth": 2
          },
          "yaxis": {
           "automargin": true,
           "gridcolor": "white",
           "linecolor": "white",
           "ticks": "",
           "title": {
            "standoff": 15
           },
           "zerolinecolor": "white",
           "zerolinewidth": 2
          }
         }
        },
        "title": {
         "text": "hello world"
        }
       }
      },
      "text/html": [
       "<div>                            <div id=\"23914f27-5e3d-44c2-b539-ccebcffaec6c\" class=\"plotly-graph-div\" style=\"height:525px; width:100%;\"></div>            <script type=\"text/javascript\">                require([\"plotly\"], function(Plotly) {                    window.PLOTLYENV=window.PLOTLYENV || {};                                    if (document.getElementById(\"23914f27-5e3d-44c2-b539-ccebcffaec6c\")) {                    Plotly.newPlot(                        \"23914f27-5e3d-44c2-b539-ccebcffaec6c\",                        [{\"type\": \"scatter\", \"x\": [1, 2, 3, 4], \"y\": [4, 3, 2, 1]}],                        {\"template\": {\"data\": {\"bar\": [{\"error_x\": {\"color\": \"#2a3f5f\"}, \"error_y\": {\"color\": \"#2a3f5f\"}, \"marker\": {\"line\": {\"color\": \"#E5ECF6\", \"width\": 0.5}}, \"type\": \"bar\"}], \"barpolar\": [{\"marker\": {\"line\": {\"color\": \"#E5ECF6\", \"width\": 0.5}}, \"type\": \"barpolar\"}], \"carpet\": [{\"aaxis\": {\"endlinecolor\": \"#2a3f5f\", \"gridcolor\": \"white\", \"linecolor\": \"white\", \"minorgridcolor\": \"white\", \"startlinecolor\": \"#2a3f5f\"}, \"baxis\": {\"endlinecolor\": \"#2a3f5f\", \"gridcolor\": \"white\", \"linecolor\": \"white\", \"minorgridcolor\": \"white\", \"startlinecolor\": \"#2a3f5f\"}, \"type\": \"carpet\"}], \"choropleth\": [{\"colorbar\": {\"outlinewidth\": 0, \"ticks\": \"\"}, \"type\": \"choropleth\"}], \"contour\": [{\"colorbar\": {\"outlinewidth\": 0, \"ticks\": \"\"}, \"colorscale\": [[0.0, \"#0d0887\"], [0.1111111111111111, \"#46039f\"], [0.2222222222222222, \"#7201a8\"], [0.3333333333333333, \"#9c179e\"], [0.4444444444444444, \"#bd3786\"], [0.5555555555555556, \"#d8576b\"], [0.6666666666666666, \"#ed7953\"], [0.7777777777777778, \"#fb9f3a\"], [0.8888888888888888, \"#fdca26\"], [1.0, \"#f0f921\"]], \"type\": \"contour\"}], \"contourcarpet\": [{\"colorbar\": {\"outlinewidth\": 0, \"ticks\": \"\"}, \"type\": \"contourcarpet\"}], \"heatmap\": [{\"colorbar\": {\"outlinewidth\": 0, \"ticks\": \"\"}, \"colorscale\": [[0.0, \"#0d0887\"], [0.1111111111111111, \"#46039f\"], [0.2222222222222222, \"#7201a8\"], [0.3333333333333333, \"#9c179e\"], [0.4444444444444444, \"#bd3786\"], [0.5555555555555556, \"#d8576b\"], [0.6666666666666666, \"#ed7953\"], [0.7777777777777778, \"#fb9f3a\"], [0.8888888888888888, \"#fdca26\"], [1.0, \"#f0f921\"]], \"type\": \"heatmap\"}], \"heatmapgl\": [{\"colorbar\": {\"outlinewidth\": 0, \"ticks\": \"\"}, \"colorscale\": [[0.0, \"#0d0887\"], [0.1111111111111111, \"#46039f\"], [0.2222222222222222, \"#7201a8\"], [0.3333333333333333, \"#9c179e\"], [0.4444444444444444, \"#bd3786\"], [0.5555555555555556, \"#d8576b\"], [0.6666666666666666, \"#ed7953\"], [0.7777777777777778, \"#fb9f3a\"], [0.8888888888888888, \"#fdca26\"], [1.0, \"#f0f921\"]], \"type\": \"heatmapgl\"}], \"histogram\": [{\"marker\": {\"colorbar\": {\"outlinewidth\": 0, \"ticks\": \"\"}}, \"type\": \"histogram\"}], \"histogram2d\": [{\"colorbar\": {\"outlinewidth\": 0, \"ticks\": \"\"}, \"colorscale\": [[0.0, \"#0d0887\"], [0.1111111111111111, \"#46039f\"], [0.2222222222222222, \"#7201a8\"], [0.3333333333333333, \"#9c179e\"], [0.4444444444444444, \"#bd3786\"], [0.5555555555555556, \"#d8576b\"], [0.6666666666666666, \"#ed7953\"], [0.7777777777777778, \"#fb9f3a\"], [0.8888888888888888, \"#fdca26\"], [1.0, \"#f0f921\"]], \"type\": \"histogram2d\"}], \"histogram2dcontour\": [{\"colorbar\": {\"outlinewidth\": 0, \"ticks\": \"\"}, \"colorscale\": [[0.0, \"#0d0887\"], [0.1111111111111111, \"#46039f\"], [0.2222222222222222, \"#7201a8\"], [0.3333333333333333, \"#9c179e\"], [0.4444444444444444, \"#bd3786\"], [0.5555555555555556, \"#d8576b\"], [0.6666666666666666, \"#ed7953\"], [0.7777777777777778, \"#fb9f3a\"], [0.8888888888888888, \"#fdca26\"], [1.0, \"#f0f921\"]], \"type\": \"histogram2dcontour\"}], \"mesh3d\": [{\"colorbar\": {\"outlinewidth\": 0, \"ticks\": \"\"}, \"type\": \"mesh3d\"}], \"parcoords\": [{\"line\": {\"colorbar\": {\"outlinewidth\": 0, \"ticks\": \"\"}}, \"type\": \"parcoords\"}], \"pie\": [{\"automargin\": true, \"type\": \"pie\"}], \"scatter\": [{\"marker\": {\"colorbar\": {\"outlinewidth\": 0, \"ticks\": \"\"}}, \"type\": \"scatter\"}], \"scatter3d\": [{\"line\": {\"colorbar\": {\"outlinewidth\": 0, \"ticks\": \"\"}}, \"marker\": {\"colorbar\": {\"outlinewidth\": 0, \"ticks\": \"\"}}, \"type\": \"scatter3d\"}], \"scattercarpet\": [{\"marker\": {\"colorbar\": {\"outlinewidth\": 0, \"ticks\": \"\"}}, \"type\": \"scattercarpet\"}], \"scattergeo\": [{\"marker\": {\"colorbar\": {\"outlinewidth\": 0, \"ticks\": \"\"}}, \"type\": \"scattergeo\"}], \"scattergl\": [{\"marker\": {\"colorbar\": {\"outlinewidth\": 0, \"ticks\": \"\"}}, \"type\": \"scattergl\"}], \"scattermapbox\": [{\"marker\": {\"colorbar\": {\"outlinewidth\": 0, \"ticks\": \"\"}}, \"type\": \"scattermapbox\"}], \"scatterpolar\": [{\"marker\": {\"colorbar\": {\"outlinewidth\": 0, \"ticks\": \"\"}}, \"type\": \"scatterpolar\"}], \"scatterpolargl\": [{\"marker\": {\"colorbar\": {\"outlinewidth\": 0, \"ticks\": \"\"}}, \"type\": \"scatterpolargl\"}], \"scatterternary\": [{\"marker\": {\"colorbar\": {\"outlinewidth\": 0, \"ticks\": \"\"}}, \"type\": \"scatterternary\"}], \"surface\": [{\"colorbar\": {\"outlinewidth\": 0, \"ticks\": \"\"}, \"colorscale\": [[0.0, \"#0d0887\"], [0.1111111111111111, \"#46039f\"], [0.2222222222222222, \"#7201a8\"], [0.3333333333333333, \"#9c179e\"], [0.4444444444444444, \"#bd3786\"], [0.5555555555555556, \"#d8576b\"], [0.6666666666666666, \"#ed7953\"], [0.7777777777777778, \"#fb9f3a\"], [0.8888888888888888, \"#fdca26\"], [1.0, \"#f0f921\"]], \"type\": \"surface\"}], \"table\": [{\"cells\": {\"fill\": {\"color\": \"#EBF0F8\"}, \"line\": {\"color\": \"white\"}}, \"header\": {\"fill\": {\"color\": \"#C8D4E3\"}, \"line\": {\"color\": \"white\"}}, \"type\": \"table\"}]}, \"layout\": {\"annotationdefaults\": {\"arrowcolor\": \"#2a3f5f\", \"arrowhead\": 0, \"arrowwidth\": 1}, \"autotypenumbers\": \"strict\", \"coloraxis\": {\"colorbar\": {\"outlinewidth\": 0, \"ticks\": \"\"}}, \"colorscale\": {\"diverging\": [[0, \"#8e0152\"], [0.1, \"#c51b7d\"], [0.2, \"#de77ae\"], [0.3, \"#f1b6da\"], [0.4, \"#fde0ef\"], [0.5, \"#f7f7f7\"], [0.6, \"#e6f5d0\"], [0.7, \"#b8e186\"], [0.8, \"#7fbc41\"], [0.9, \"#4d9221\"], [1, \"#276419\"]], \"sequential\": [[0.0, \"#0d0887\"], [0.1111111111111111, \"#46039f\"], [0.2222222222222222, \"#7201a8\"], [0.3333333333333333, \"#9c179e\"], [0.4444444444444444, \"#bd3786\"], [0.5555555555555556, \"#d8576b\"], [0.6666666666666666, \"#ed7953\"], [0.7777777777777778, \"#fb9f3a\"], [0.8888888888888888, \"#fdca26\"], [1.0, \"#f0f921\"]], \"sequentialminus\": [[0.0, \"#0d0887\"], [0.1111111111111111, \"#46039f\"], [0.2222222222222222, \"#7201a8\"], [0.3333333333333333, \"#9c179e\"], [0.4444444444444444, \"#bd3786\"], [0.5555555555555556, \"#d8576b\"], [0.6666666666666666, \"#ed7953\"], [0.7777777777777778, \"#fb9f3a\"], [0.8888888888888888, \"#fdca26\"], [1.0, \"#f0f921\"]]}, \"colorway\": [\"#636efa\", \"#EF553B\", \"#00cc96\", \"#ab63fa\", \"#FFA15A\", \"#19d3f3\", \"#FF6692\", \"#B6E880\", \"#FF97FF\", \"#FECB52\"], \"font\": {\"color\": \"#2a3f5f\"}, \"geo\": {\"bgcolor\": \"white\", \"lakecolor\": \"white\", \"landcolor\": \"#E5ECF6\", \"showlakes\": true, \"showland\": true, \"subunitcolor\": \"white\"}, \"hoverlabel\": {\"align\": \"left\"}, \"hovermode\": \"closest\", \"mapbox\": {\"style\": \"light\"}, \"paper_bgcolor\": \"white\", \"plot_bgcolor\": \"#E5ECF6\", \"polar\": {\"angularaxis\": {\"gridcolor\": \"white\", \"linecolor\": \"white\", \"ticks\": \"\"}, \"bgcolor\": \"#E5ECF6\", \"radialaxis\": {\"gridcolor\": \"white\", \"linecolor\": \"white\", \"ticks\": \"\"}}, \"scene\": {\"xaxis\": {\"backgroundcolor\": \"#E5ECF6\", \"gridcolor\": \"white\", \"gridwidth\": 2, \"linecolor\": \"white\", \"showbackground\": true, \"ticks\": \"\", \"zerolinecolor\": \"white\"}, \"yaxis\": {\"backgroundcolor\": \"#E5ECF6\", \"gridcolor\": \"white\", \"gridwidth\": 2, \"linecolor\": \"white\", \"showbackground\": true, \"ticks\": \"\", \"zerolinecolor\": \"white\"}, \"zaxis\": {\"backgroundcolor\": \"#E5ECF6\", \"gridcolor\": \"white\", \"gridwidth\": 2, \"linecolor\": \"white\", \"showbackground\": true, \"ticks\": \"\", \"zerolinecolor\": \"white\"}}, \"shapedefaults\": {\"line\": {\"color\": \"#2a3f5f\"}}, \"ternary\": {\"aaxis\": {\"gridcolor\": \"white\", \"linecolor\": \"white\", \"ticks\": \"\"}, \"baxis\": {\"gridcolor\": \"white\", \"linecolor\": \"white\", \"ticks\": \"\"}, \"bgcolor\": \"#E5ECF6\", \"caxis\": {\"gridcolor\": \"white\", \"linecolor\": \"white\", \"ticks\": \"\"}}, \"title\": {\"x\": 0.05}, \"xaxis\": {\"automargin\": true, \"gridcolor\": \"white\", \"linecolor\": \"white\", \"ticks\": \"\", \"title\": {\"standoff\": 15}, \"zerolinecolor\": \"white\", \"zerolinewidth\": 2}, \"yaxis\": {\"automargin\": true, \"gridcolor\": \"white\", \"linecolor\": \"white\", \"ticks\": \"\", \"title\": {\"standoff\": 15}, \"zerolinecolor\": \"white\", \"zerolinewidth\": 2}}}, \"title\": {\"text\": \"hello world\"}},                        {\"responsive\": true}                    ).then(function(){\n",
       "                            \n",
       "var gd = document.getElementById('23914f27-5e3d-44c2-b539-ccebcffaec6c');\n",
       "var x = new MutationObserver(function (mutations, observer) {{\n",
       "        var display = window.getComputedStyle(gd).display;\n",
       "        if (!display || display === 'none') {{\n",
       "            console.log([gd, 'removed!']);\n",
       "            Plotly.purge(gd);\n",
       "            observer.disconnect();\n",
       "        }}\n",
       "}});\n",
       "\n",
       "// Listen for the removal of the full notebook cells\n",
       "var notebookContainer = gd.closest('#notebook-container');\n",
       "if (notebookContainer) {{\n",
       "    x.observe(notebookContainer, {childList: true});\n",
       "}}\n",
       "\n",
       "// Listen for the clearing of the current output cell\n",
       "var outputEl = gd.closest('.output');\n",
       "if (outputEl) {{\n",
       "    x.observe(outputEl, {childList: true});\n",
       "}}\n",
       "\n",
       "                        })                };                });            </script>        </div>"
      ]
     },
     "metadata": {},
     "output_type": "display_data"
    }
   ],
   "source": [
    "import plotly\n",
    "from plotly.graph_objs import Scatter, Layout\n",
    "plotly.offline.init_notebook_mode(connected = True)\n",
    "plotly.offline.iplot({\"data\" : [Scatter(x = [1, 2, 3, 4], y = [4, 3, 2, 1])],\n",
    "                      \"layout\" : Layout(title = \"hello world\")})"
   ]
  },
  {
   "cell_type": "code",
   "execution_count": 59,
   "metadata": {},
   "outputs": [
    {
     "data": {
      "application/vnd.plotly.v1+json": {
       "config": {
        "linkText": "Export to plot.ly",
        "plotlyServerURL": "https://plot.ly",
        "showLink": false
       },
       "data": [
        {
         "mode": "markers",
         "type": "scatter",
         "x": [
          -0.7162719483539887,
          -1.6968862127741149,
          -0.9894309389623781,
          1.2598312069798077,
          -1.1095763627461017,
          0.36489228592523704,
          0.30766399943438627,
          0.39822856838274456,
          -0.7203531544004012,
          0.5690716817135538,
          -0.24232861052765228,
          0.29835455793063187,
          0.3266662067875188,
          -0.6257040556520819,
          -0.5636751282986063,
          -0.3069136224271239,
          -2.129529489124649,
          -0.31626915491658514,
          1.3930198069251036,
          1.1946525009979858,
          2.246924572915262,
          -0.601952006975616,
          1.0902452403018956,
          0.4253474207531389,
          2.1476904707720736,
          -0.5476561822850711,
          -0.30670545998015575,
          1.8217432955120259,
          0.740079283319132,
          -0.236761301807232,
          0.27080433807815185,
          -0.9580588541026512,
          -1.045813497487345,
          0.20764891065741412,
          -1.761103213737328,
          1.2591423568173223,
          0.1995420347603093,
          -0.607551553566153,
          0.903225468896764,
          -0.7189660312510392,
          -1.9376967188562955,
          -0.12121458323207522,
          0.8899315388504621,
          -0.25948043872807575,
          -2.0584697103817193,
          -1.2460804511168648,
          -0.38253547226765056,
          0.7551092961619928,
          -0.4014529040900327,
          1.1710963207100284,
          -0.37326781339688675,
          -0.8420471478007779,
          -0.21275366980707455,
          0.05973665782550905,
          -1.6679712628394001,
          0.12284556705863621,
          -0.5959231794704742,
          0.5128429027170615,
          0.6521837379570508,
          0.16359618958655847,
          -1.3408969760238572,
          0.015344794181394937,
          0.12300467870382649,
          -0.06502488520294729,
          0.019545170685319337,
          -0.6979257486481976,
          -0.48415968676745386,
          -0.8555232681126107,
          -0.640861386228804,
          0.1937117810865011,
          -0.8537608795120643,
          0.5326264554936229,
          1.9896657335102574,
          0.7330949581670838,
          0.4337909214784427,
          -2.0136565479243704,
          -1.4345018068304023,
          0.5559629445718595,
          -0.6509453787585651,
          -0.26320082518915666,
          0.22718750526835313,
          0.1806117469241518,
          -0.9991991266863017,
          0.06496254181519519,
          -3.2403024215297793,
          -0.1472542431790558,
          1.0277589603276283,
          1.5710196157211471,
          -0.9501577693050574,
          1.7249323848445817,
          -0.1008949321954231,
          0.46945404139689545,
          -2.018446419340283,
          -0.36676082705718177,
          0.1363001757913478,
          1.1638848222858593,
          0.3053600741880295,
          0.5188158752956538,
          -0.4112345881650495,
          -0.02837321983432587,
          0.06336767012180977,
          -0.7449048921450669,
          -0.14491162561414028,
          -1.3267410736610348,
          -0.5462446502872987,
          0.20870246255970656,
          -1.4253339672462273,
          0.48999965977458554,
          -0.7471406758612851,
          0.1261806683912953,
          0.6039335892574376,
          -0.48035070708581584,
          -0.3277275875134323,
          -0.5572083654598431,
          0.8668927821524793,
          0.9774265390346109,
          0.07271104307503258,
          0.6652531782376584,
          1.6809827476884496,
          0.6683130273710652,
          -0.6422559261868042,
          -0.4228934829198854,
          0.5525328842450268,
          -1.4077480191028018,
          -0.10798308069954472,
          -0.3842464476460266,
          0.6432993766116943,
          -0.3931492940810547,
          0.37446763817245227,
          0.29768639615353837,
          1.042002195696504,
          -1.0449919926768172,
          0.59912089699276,
          1.5962487612477725,
          -0.29849723147222385,
          1.51428519609661,
          0.3279193871239057,
          0.06275332606812338,
          0.21295815800785867,
          -0.7794877376053312,
          -1.3003672647731286,
          1.5613657532224572,
          1.0180035166642794,
          0.8485786601602892,
          -0.6978996413190763,
          -1.2037429742053558,
          -0.1500479299520218,
          -1.9385812018269863,
          0.6139967945209999,
          1.7296043077906664,
          -0.7603594631496009,
          2.0009088639683377,
          1.0819771027669436,
          2.3536176640134907,
          -1.8507133878812807,
          -0.12590981148357971,
          0.634786942746939,
          -2.18995764952504,
          -0.5165253891968412,
          0.7678515222213464,
          0.053358836247327984,
          1.1146649409333693,
          -0.5761063946958132,
          -2.024291582874018,
          1.4215372723149091,
          -0.9149670880399635,
          -0.23965215015923239,
          0.253037729382556,
          -0.21184995141806534,
          1.3811913873184511,
          -0.7997326999039156,
          1.9214301626956574,
          -0.3744895316971763,
          -1.275231762146648,
          0.7258781827446313,
          0.5566028123270381,
          -0.14843674454307113,
          -0.017421785300600155,
          1.1572235234037849,
          1.4158541799173778,
          -0.05980361289520402,
          0.18953801043726257,
          1.7311297763604663,
          -0.3042535858742044,
          -2.0042259251301044,
          -1.078564208690662,
          -0.21818874524342122,
          -0.7474412863725001,
          -1.1917556536961422,
          0.18833003353292416,
          -0.0864055847681153,
          -0.5119835394440058,
          -0.34331511914194063,
          1.5953353273590323,
          -0.13881303998291694,
          -1.641402964052635,
          0.434828108459776,
          0.17123502282072633,
          -0.2464609120785875,
          -0.39901452450485714,
          0.009927739755313655,
          1.1941909065707268,
          -0.9891857910358905,
          -0.21055698444731505,
          0.28009241260750384,
          -0.08017642073192577,
          0.009257497532278119,
          -0.48556269256964285,
          0.7670046594038878,
          0.5116951881473014,
          0.07427234613051657,
          -0.12367828125893313,
          0.4694211950248903,
          -0.8073295952027191,
          -1.6525166946170846,
          0.329729055328312,
          -0.4284641804152901,
          -1.1115769484107563,
          1.5164314133324834,
          -1.8971846889654025,
          0.40811410931897873,
          0.6306704480110293,
          -0.3571803081209823,
          -0.00988531134182554,
          -1.7418183916141747,
          -0.21449682033114126,
          0.47355438898968194,
          0.20132910857094463,
          2.0412791531890244,
          -0.41063542605764347,
          0.4127381397072394,
          -0.7971281198879357,
          -1.30169208533838,
          -1.8109413973311068,
          0.37878418481584225,
          0.357962460638573,
          -0.9150541236734105,
          0.026890879072776264,
          -0.29904680720521115,
          0.21900964953093377,
          1.0546320818116866,
          -0.9870837160741381,
          1.3136765354809972,
          -0.4349744249536553,
          -0.9384595201802746,
          0.6810542789428301,
          1.7362907091689406,
          -0.5712430700821108,
          -0.07097903871768164,
          -0.6503431849542596,
          1.5801808200943768,
          -0.6637282843825016,
          2.52256704607857,
          2.2937871136191372,
          -0.07558959306597984,
          0.5211791821652049,
          -0.6391809927343983,
          0.5352197307002917,
          -0.09961322410303884,
          -1.0021105513785955,
          -0.6425464842521029,
          0.5115313331762424,
          -0.015829093313148093,
          -0.306395091717795,
          -1.460800099065623,
          0.45207820123435166,
          0.4433796893433994,
          0.4480815676156963,
          0.46996366336826506,
          0.04354385584078417,
          -1.0859600556336224,
          0.24326425884055208,
          0.14944198662209818,
          -0.19727027062051944,
          0.6388603064679362,
          0.8207507164500084,
          1.2374041281080586,
          -0.7389409904610152,
          -0.34496624460066994,
          0.2161925605469404,
          -2.17490996531729,
          -0.05648852431480361,
          1.1819080708719312,
          1.7035405441156974,
          -1.8567184347528156,
          1.8742179390443328,
          0.17095913894011508,
          1.1805246313154412,
          0.7602832355393453,
          -0.3746226732597161,
          0.42423639938898294,
          0.032895055592447785,
          -0.4542513976078727,
          0.7912943947962783,
          -0.16551755652169933,
          -1.4936328410357038,
          0.607286860890655,
          0.8361618348175173,
          -0.07107631364227732,
          -1.8589880037213282,
          -0.17442143649672037,
          -0.5996753377825887,
          0.4075446550236202,
          0.6886016765454842,
          1.572873620152463,
          0.2451653479385328,
          0.8619918926558846,
          0.3653105937716941,
          -0.9459549019819992,
          -0.32018210003599046,
          -0.19367258417974811,
          -0.8139711767828296,
          -0.5537639419247263,
          -1.3443304401333107,
          0.8814721410370497,
          0.16802789153965228,
          0.03338334685913607,
          0.22019659752162235,
          0.6053722382734228,
          0.23391256438271416,
          1.1759313399658076,
          1.2337756109516669,
          0.9315635358534703,
          0.19120954935094497,
          0.9806062350842241,
          0.4618327563567159,
          0.43820438253320015,
          -0.7064875061984874,
          -0.4965009254446853,
          0.4995283532859405,
          -0.14948818836122085,
          1.634894292294844,
          -0.6968068043872421,
          -2.207053816554029,
          -0.472785858268195,
          0.09164994375633694,
          0.7741454183729835,
          -0.5421612602206035,
          0.562364760300757,
          0.4077034868359733,
          -0.495364665862775,
          -0.4589142132580188,
          -1.3391336739883861,
          -0.3915590925195808,
          -1.0425228268970181,
          -0.012413951234422741,
          -1.9178587627328372,
          -0.10345315060075327,
          0.022567004597963996,
          0.34765130571923647,
          -0.11120701657058144,
          0.13490635049743147,
          0.9886335680370498,
          -1.1845065656272644,
          0.12542054390902316,
          -0.0724996449818234,
          -0.31287696181597535,
          -1.646470738392234,
          -0.9993004478754318,
          0.18833802684548845,
          -1.7288567086174593,
          0.20968374561539,
          -0.6408988910429089,
          0.7306838586387085,
          3.0955571561260813,
          1.1879833818521908,
          -0.30839478069316656,
          0.8892452992678809,
          -1.463458747737538,
          0.7609093654077007,
          0.9961123362577906,
          0.4971218577886563,
          0.397099988444104,
          0.938990063539954,
          0.45611524084973554,
          -0.940155291954712,
          -0.31269931067284357,
          1.7894752388985058,
          1.1155855187702342,
          0.025221172181325923,
          1.1068366694819385,
          0.748303149867635,
          -1.9202872062113971,
          -0.5812541210753049,
          -0.09600665747996372,
          -1.3775701519390973,
          0.4288100574257421,
          -1.6812025933908186,
          -0.41725950506310105,
          -0.9653108881618978,
          0.7836796128203808,
          0.2924939389098496,
          0.6252750337878213,
          -0.37566397104448884,
          1.6671010005154707,
          -2.015845053168031,
          -0.7103093410040546,
          1.5196567621566524,
          -2.294274404265247,
          -0.4747335039992729,
          0.6410147454604004,
          -0.37927101215922,
          0.4777753272688577,
          0.015502952636094048,
          -0.047540657212424606,
          1.126530045254338,
          0.05078724126782175,
          0.7182399043066989,
          0.6712415579544716,
          1.701762281889086,
          0.23546812025550387,
          -0.8150001488269812,
          1.7102764852583014,
          -2.630455257476671,
          0.9834647429186939,
          -0.48418667085049216,
          1.408223667229703,
          0.8841790465238818,
          0.8534371113711866,
          1.496939307186966,
          -1.3346207108962331,
          -0.008790208101334237,
          0.502487591158705,
          -1.3291898302508856,
          -0.310670166904874,
          -0.16267213739348937,
          -0.47552433028923086,
          -0.3210151400749272,
          0.8275627294413177,
          -1.308208781077107,
          0.7745219824155481,
          -1.4488359202636718,
          1.6845980080257612,
          2.072392659083649,
          -0.06819459668341235,
          0.778006569798469,
          0.7811430101601063,
          1.3654346748555735,
          -0.48864983063916917,
          -0.3224397841304762,
          0.7155823868024208,
          -1.8936094960100993,
          0.22210096856418188,
          -0.9968712842915411,
          -1.0688112811644108,
          0.44989427636663865,
          -0.4726053223198261,
          -0.7794681177559784,
          2.080062939397208,
          1.2048271493705691,
          0.6550618245182839,
          1.0542067767729753,
          1.2612905263887364,
          -0.026108897450934296,
          0.5272564681465026,
          -0.5448418459252476,
          -0.9445331434592226,
          -1.031414108102934,
          -0.6923834294011424,
          -0.21335215019019643,
          0.7489195338592866,
          1.3532803366243011,
          1.0420916547306052,
          1.5425551117306708,
          0.7280792218748836,
          -1.258762386353182,
          0.15476305797238918,
          1.4654531469929235,
          1.2991522018485457,
          -0.2838420277615544,
          1.9246217500746137,
          2.828251569872035,
          -0.5483123014213734,
          -1.7990461315323163,
          -1.1492143435817939,
          0.24535374150264627,
          -0.8952284520983821,
          -0.4553189478793732,
          -1.906008920832291,
          -1.1511158409214435,
          0.7329731179071786,
          -0.2488635988919215,
          0.4781410547840114,
          0.27056950276652275,
          -1.033029985057794,
          0.7342326813854863,
          -0.2945020190475064,
          0.9520922704586556,
          0.08191899679115187,
          1.6147254061990262,
          -0.13286334825825097,
          1.3541924471279871,
          0.6514442929318742,
          -0.03326942813833015,
          0.14873945332636204,
          -0.9696429394637912,
          1.0815761306631577,
          -0.4090893046342193,
          -0.5031317411420451,
          -0.10662417098803248,
          -0.7680850057016582,
          1.1927929009240874,
          -1.0758519156417596,
          -0.7693855856153013,
          -1.4791367073328836,
          2.4535569659200234,
          0.6684645453638838,
          -1.5105418267071384,
          1.5474187005254958,
          2.052407338740365,
          1.2254879221461132,
          -1.0535501000698853,
          1.1170328429639662,
          2.798009867971348,
          0.8086997868652641,
          -0.2657799276711743,
          0.2936810706184676,
          -0.5713457334425147,
          0.23646879303962937,
          -0.3367651495222335,
          0.304500806149659,
          0.6992803515367656,
          -0.8150283415440452,
          0.36607952066481886,
          -0.44449682817822306,
          1.1144204444632337,
          0.5836900218462765,
          -0.5972384649242211,
          0.056670294592283586,
          -1.3839362763065246,
          0.6130500955373676,
          0.714640269075776,
          0.7361730062247415,
          -1.1918225658865078,
          -0.23995775838875333,
          -1.2793394423601276,
          0.6583212450649175,
          2.4881958754659,
          -0.3421298134110526,
          -1.4849140403791372,
          -0.01040650563448365,
          -0.2765376973491589,
          0.608720235242921,
          -0.1524064497886056,
          -1.6518462915002916,
          0.3531798530754079,
          0.003264327681378337,
          0.4165833431794126,
          -0.29059794587061777,
          0.32676954216402027,
          0.9729977519643319,
          -1.176437440390001,
          0.9341430631831659,
          -2.689095683263156,
          0.6748297268643695,
          0.7932334783504169,
          -0.4828280858881439,
          0.11380278772552428,
          0.7137396347247568,
          0.3456300544185797,
          -0.8806325130492378,
          0.35590092881941165,
          0.07828016835849154,
          1.000575079366705,
          0.5058381232234908,
          0.30998066068768193,
          -0.49865629544716894,
          0.5084082902305043,
          0.022618718536356983,
          -0.14813495654528408,
          -0.8400666192920384,
          -0.41199037793764676,
          -0.8507572604276036,
          2.434847450031553,
          -0.04572221702492857,
          -1.0762128186899413,
          -1.6469099117412938,
          -0.8543448241015272,
          0.39681657617973154,
          0.4069685582545503,
          -0.23904579127799774,
          -1.0577518224405658,
          -0.5581323734121163,
          -0.5795865425396473,
          -0.44009876039832996,
          2.02076141813159,
          0.5401888900299526,
          0.3482616926799606,
          1.1736751032747714,
          1.0815176622409763,
          -0.19694286129991495,
          -2.2546523537353513,
          -0.961356692099188,
          2.1342450869264074,
          0.8741108948080061,
          -0.007835809751202492,
          -1.0807167426503428,
          0.6815836240266542,
          -0.4452712555832775,
          0.18626550456914348,
          -0.7262668715301381,
          -0.20323314107675308,
          -1.014754314872922,
          -0.11989441615294046,
          0.05385248343370029,
          -0.22730012878868117,
          0.498099283133783,
          -0.04600116904219772,
          0.7865332882609997,
          -1.0645439601838962,
          0.20507206716692228,
          -0.44611367266843155,
          -1.0171082858995244,
          -0.4010896044098226,
          1.7292052734975312,
          -0.1069415977036958,
          -0.10033317819784665,
          0.31220428307978226,
          0.43715853214712624,
          1.1418967140720988,
          -0.06867143503291528,
          -0.8481094853772673,
          0.639186335904864,
          1.1730690994415098,
          -0.5339254469750043,
          0.5408675245394485,
          0.6508776162924537,
          0.8826517825802239,
          -1.0314355409859344,
          0.330503029931148,
          -0.29787941937763956,
          1.9744317597162724,
          1.6045670505638108,
          -2.0093025442853825,
          -0.3720073040251174,
          -0.007835813323609574,
          0.36428161667401704,
          -0.4975767776384998,
          -0.028569401619102923,
          1.7140648040722914,
          -1.7810198132595305,
          1.2107249513097107,
          0.2743010523966246,
          -0.7068065105757452,
          -1.9738191389665833,
          -0.6097840222031933,
          0.4447255729343316,
          0.35356281669331185,
          -0.374241029116743,
          -0.8756972083682457,
          -0.1133098762108152,
          -0.450213953542403,
          -1.3664845712227711,
          -1.0428250717444112,
          -1.8766218985837892,
          1.1396502912917907,
          1.6628912530509634,
          0.46334339990847284,
          1.2884346471341637,
          0.08641352914110564,
          1.1218544806077317,
          -2.6790991713741947,
          0.12867935406399203,
          -1.4200040040974382,
          0.11483858420510398,
          -1.911083230146704,
          -0.09849735462588147,
          -0.49856139052289855,
          -0.6837551155567928,
          -0.9458725091796164,
          -1.2407011343436312,
          0.2693208547519422,
          0.3308366125239558,
          -0.8287013039392791,
          -0.1367237572250328,
          1.089347830666891,
          0.2140094212901856,
          0.97350014284028,
          -1.1731657996966947,
          -0.9889222246337309,
          -0.313617136163652,
          0.3753107577830095,
          -0.7865490779220826,
          0.15961889942815186,
          -1.3333726822348566,
          1.1327929908574716,
          0.9323994817667811,
          0.8781861783420609,
          0.4258312216824622,
          0.184765648399281,
          1.4127175065965483,
          -0.3149227569070981,
          1.7875646053870913,
          -0.32153823963965555,
          -0.7336263230223534,
          0.7106434791872638,
          0.8221580678457779,
          -0.18558945623858983,
          0.014532410664550953,
          0.23872371157000524,
          -0.59857147901833,
          0.3986462918472986,
          2.0321153149162865,
          0.8117698571455573,
          -0.182631194036948,
          -1.3126419770359992,
          0.36305968944590755,
          -0.3013920056363782,
          -0.020992257594953705,
          1.1357872671683529,
          0.34357829775070503,
          0.7086087498303637,
          -1.0654903760938452,
          -2.127892426111429,
          -1.9046459417236148,
          1.2615109699419345,
          0.20560838857817026,
          0.71553292417279,
          0.8681682632263046,
          -1.2480596809007782,
          1.1350512753157898,
          1.5772897712551457,
          -0.27083882024362194,
          1.1611875558292228,
          0.3286992706731436,
          -1.0104289060073812,
          0.9091112461958866,
          0.5391726612901728,
          1.2179237595890724,
          -0.266793172253868,
          -1.3858154051929708,
          1.0452100765125638,
          -0.18949981247838665,
          0.38895297810936746,
          -0.471150542147248,
          -0.5612200876784867,
          1.2364932033739167,
          0.05173350941622971,
          -0.12531773119277226,
          -0.45583181579914794,
          -0.20875339000605891,
          0.41337105193109486,
          0.47497323407704783,
          1.5525240753577163,
          -0.39478096530052115,
          -0.5051241445190399,
          -0.05999337196035063,
          1.8335216860381667,
          -1.3745718699693346,
          0.6851202099603381,
          -0.14231412036974544,
          -0.43453298653845807,
          1.1508972650806257,
          -0.46531891451338786,
          -1.6015654182344203,
          0.6223184723736553,
          -1.8146174110609687,
          0.6005520327739572,
          0.9891276742411553,
          -0.6082056906180006,
          0.04219230838207431,
          0.2319882092998644,
          1.7596715244484464,
          -0.3921437275950398,
          -0.2539035335128537,
          1.2157545278679762,
          -0.9097204124625297,
          -1.45541171333866,
          0.3176978981834575,
          -1.735791818030721,
          1.6948588195955128,
          -0.10045834508724857,
          -1.0547295014732274,
          -1.1224759633796744,
          0.516283076719954,
          0.6671538388438046,
          1.2792807333727898,
          -0.7431406952863383,
          -1.2045511301122294,
          -0.44667993228638553,
          1.2178714330345133,
          0.035854186130113284,
          -0.001858971349799774,
          0.880771908894144,
          0.4687490414248188,
          -0.9023551435097549,
          0.5869856203328039,
          1.1335786930684175,
          -0.30988757109710685,
          -0.9379631593198019,
          1.4971134070476972,
          -0.29600950043758223,
          0.6453655213101794,
          -1.1841614804355631,
          0.5893155816132565,
          1.0919519694728823,
          0.6462544998640922,
          -0.40821787857214453,
          0.4922811816131356,
          -0.3930537571596278,
          -0.5607966035962276,
          1.574578484187142,
          0.2170357295027871,
          -0.093350585634769,
          1.0468563224579792,
          0.043755805951180844,
          0.4243200602903922,
          -1.190161266201254,
          1.0834211251886536,
          0.27975596289567534,
          0.6711312830546944,
          0.960321022599783,
          0.4093434543447717,
          1.1939776398257183,
          -0.1549651994200666,
          1.881082106912246,
          0.9068430678169774,
          1.7735489846771173,
          2.043375480797897,
          -1.8863551592208712,
          -1.6777350690326798,
          -0.40748469954152305,
          1.764302937860561,
          0.415138377590415,
          -0.3520952004288169,
          -1.4667822205537666,
          -0.8639092065343608,
          0.2582423915719395,
          0.5194838083691237,
          -0.6452894712092545,
          0.9241097576767474,
          0.006570817580399589,
          0.08595502972962273,
          0.09047497605814889,
          -0.028629740633360604,
          0.15108277119018163,
          -0.6328385390903614,
          0.812946139403585,
          -1.1097050328070748,
          0.05725172849924997,
          0.5211075219433975,
          -1.2220259656138626,
          -0.29142161528377286,
          0.9930147127787614,
          -0.889031567428748,
          -0.03377607904268508,
          0.5023677179431876,
          -0.17085616796003628,
          0.1826591170069521,
          0.9209452124799695,
          -2.5037310027958712,
          0.7314826263453028,
          -0.7255356439558144,
          -0.1952040564605791,
          -0.6459694023819459,
          0.8010818863694966,
          1.232062135543431,
          -2.170021775782455,
          0.7489355149673175,
          -0.13376995632736766,
          0.5002326747308118,
          2.3133427927956722,
          -1.1805383093106,
          0.18250296675353572,
          -0.6004455102019159,
          -0.5757628211394172,
          0.8941108284486916,
          1.5989573752482418,
          0.4849246209099532,
          1.6592261740017313,
          0.8120726780584429,
          0.029681984200695267,
          0.8261400027969784,
          -0.848722844822244,
          0.9982652614868014,
          0.42352477931632176,
          0.5550090139503092,
          1.1912683117955256,
          0.045395474171227294,
          1.049611220064665,
          -0.423955900147146,
          2.1185683813644505,
          -1.1976685627677695,
          0.5510295063741103,
          0.6096924300491551,
          -1.20685936481678,
          0.7115871371680988,
          -0.15528672022024076,
          0.4350091774462449,
          0.9854785046508017,
          1.9001844153306229,
          -0.12220368365084507,
          0.7571072778352488,
          1.263581670420464,
          0.3749916729895746,
          0.5830896698228296,
          -1.5128000517206068,
          -0.4315451434997901,
          -0.18767420503848808,
          -0.892727315103137,
          0.1459128354711354,
          1.5880607660555917,
          2.7679991319966013,
          -0.5666956498916065,
          0.40996430814232626,
          -0.40172898714869504,
          0.8714363488325031,
          -0.13754861328836482,
          0.21892949467059628,
          2.785953474674921,
          1.0962659219770923,
          1.5150666570595444,
          0.18876209989180903,
          0.6773608519290508,
          0.024164645457916883,
          0.9546683960022032,
          1.1751616941391911,
          -0.102082721037682,
          1.0597819114696887,
          -0.5836115789506804,
          0.6124169473101331,
          -1.4996607725242665,
          -2.1204812232998185,
          -1.5456625438865097,
          -0.7347965294651926,
          0.476327644097612,
          1.975751715614723,
          -0.8482610224585325,
          0.14053305439335959,
          -0.7869816063090764,
          -1.435692340842013,
          -0.5112886226124334,
          -2.043327789259978,
          0.1344157912824331,
          -0.02358809067687668,
          -1.9973006197233178,
          -1.2337057512005205,
          -1.1489874502911628,
          -0.3118516589382267,
          -0.02207796973602677,
          -0.6085795215778906,
          -0.620295811190066,
          -0.2981436057988727,
          0.21637146503986024,
          0.8140247705644897,
          -1.4903273269292403,
          -0.7430772930696325,
          0.3095405749506489,
          -1.3409772887125515,
          0.17769417159276932,
          0.04301698914795583,
          -1.5488892961367986,
          0.21762910335411753,
          -1.1947891324409454,
          1.8383845324212136,
          -0.7238981447638237,
          0.06356368740580068,
          -0.8718882997223693,
          1.3503298316806964,
          0.7174606832816951,
          0.5095568054512032,
          -1.5239278967602026,
          0.12351591537667803,
          0.4644915388282979,
          0.7112310831991426,
          -1.2423057480814017,
          1.3318742678560307,
          0.2424718567341062,
          0.964534675529062,
          -1.6507356620229585,
          -0.22770015223880177,
          -0.28798548379130845,
          -0.680953247588703,
          0.16406061257199703,
          1.3622267064724176,
          -1.259006269387451,
          1.8697543657829558,
          0.6255915017321172,
          -1.0748945769417597,
          -0.6917472980165743,
          -0.730349527457001,
          0.2333441609780808,
          -1.1551459888228435,
          0.953535750969793,
          1.117516569407786,
          -0.6486453627135274,
          0.4962402034627174,
          0.5519447810199574,
          -0.15597848486979707,
          -0.06568526547075827,
          -0.28904723072130484,
          -0.6496190827730559,
          -0.8731795461264897,
          0.19031410367111487,
          -0.08395972590340826,
          0.492250500818893,
          0.2585838321906747,
          2.2361877335274425,
          0.6359217598462881,
          0.9127745044864607
         ],
         "y": [
          0.16657307968882493,
          -0.45208374202141227,
          0.041692492576188324,
          -0.35882631021114253,
          0.10258983729369181,
          -0.010748059468602597,
          1.3871484689696838,
          -0.7947300067927893,
          -0.6615509666594109,
          0.7280661204431288,
          0.32140885599643637,
          1.0331426075282746,
          1.3294412638539015,
          0.49672986711299094,
          -0.9861326524606245,
          0.6944134163164065,
          1.8055526908270485,
          0.5857705916895801,
          -0.4012518639706665,
          -0.8043869138962587,
          -0.9376746570478539,
          -1.3466818822681064,
          -1.0931525820119348,
          0.4542123470838164,
          -1.0135910426438943,
          0.11074900184467566,
          0.0020150656243422263,
          0.6321826638322607,
          0.5791939067390126,
          -0.2755481178603882,
          -3.0970281177979824,
          -1.4044352342484965,
          -0.9525569421641655,
          -0.7235323332252122,
          0.6490709458292815,
          -0.3715302866589,
          1.062941950446856,
          -0.1644950398685041,
          -0.5732493809252188,
          0.5343090022784546,
          -0.28691855905287983,
          -0.7043425965683848,
          0.7208860614956757,
          0.025989088233176166,
          0.5546108077084291,
          -0.675042150598907,
          -0.46357648875580015,
          0.8485486691452028,
          -0.45956196832232693,
          -0.1533785477123367,
          1.1129758209848715,
          -0.31698683770238917,
          1.0476691700419138,
          0.6598040200665614,
          -0.40395542800623896,
          1.1162517365008875,
          -1.0462797477916073,
          1.1652677332669885,
          0.9136746083886437,
          -1.0247102769601724,
          1.6064515582802081,
          0.5389875496190311,
          0.5278541937967864,
          -0.5340448787672516,
          -1.3932497394114642,
          0.6756924732219135,
          -1.4261960384924175,
          1.1087724790124334,
          1.1397542466371793,
          -0.7432473339168675,
          1.5643708731911246,
          -0.7396605372039433,
          -1.2076147147369003,
          -2.1512181434835838,
          1.4020890604658827,
          0.4894389169244639,
          1.1122829014864661,
          -1.1577130207582114,
          0.4222104578232169,
          2.0646778593964275,
          1.5940407145091384,
          1.0627123027519527,
          2.1353226576520368,
          -0.05744014958559845,
          -0.5448894835585583,
          -0.3551593711715004,
          1.4602785119709216,
          0.20992758875069817,
          -0.675858038519277,
          -0.5697593200036734,
          -0.9186580501783441,
          0.21431622309946394,
          0.2540070076046409,
          -0.5457560814376915,
          -0.15362217726466904,
          -1.6637247138974878,
          -0.876457385581837,
          -1.3396195720774613,
          2.362980904500335,
          1.5829704539180445,
          -0.3994057408090721,
          0.5344812815239358,
          1.092466272728163,
          -0.2116804824200502,
          0.18227192885671603,
          0.8093035197098841,
          0.48153660615902744,
          0.9497139516766984,
          -1.237207126559871,
          0.41981874958446525,
          0.7527038133314,
          -1.198687677187657,
          -2.4575036876017218,
          0.8286156284516174,
          -0.47312188263669874,
          0.14440348498754166,
          1.511793417759232,
          -0.5875916387650113,
          -0.906873270436058,
          -1.0637443071866037,
          -0.6682471302347293,
          0.06763906888720626,
          -0.36940689116692527,
          -0.7932880698884738,
          0.38700399131016816,
          -0.43849244907397217,
          2.3776974046843,
          0.5902270886244315,
          0.08872886227241907,
          1.3502385959234575,
          -0.3288500633787089,
          -0.6806075716304931,
          -1.6929760764859463,
          -0.2216418515477174,
          -1.651426954162039,
          0.22322666569308022,
          -2.0359817340919966,
          0.4451121799311073,
          -0.8542683653655431,
          -1.2370972011889927,
          0.7564491523975617,
          -0.21026371062147212,
          1.0844918283043679,
          -0.7610169409970263,
          -0.1613749497552705,
          0.12984715250509563,
          0.44717045690755064,
          -0.22240016725361042,
          0.1430712700555462,
          1.3414880495440191,
          0.34284656363852006,
          0.16369905114900546,
          -0.8858912659528657,
          0.46598674702905724,
          -1.8866209155349978,
          0.7865616611683368,
          0.003196834945632236,
          1.3854869956592035,
          0.14174843129039413,
          -0.9458423662038817,
          1.2292183377821624,
          0.4806502086140553,
          -1.699978105037222,
          -0.9064391673249196,
          0.9139591244828157,
          -0.5835204387732579,
          -0.33289743237332825,
          1.2382641554563316,
          -0.5667665877560417,
          -0.9273521918399981,
          -0.36092898594811607,
          0.555611311096918,
          -0.6757323708039293,
          -1.1180052977836832,
          0.26193880659284163,
          -0.7263459589661275,
          0.6501824205897345,
          1.6655938166891362,
          0.8989550862035939,
          -0.8593891256766539,
          -1.5961491063401705,
          -0.8922777444666934,
          0.17434531719642468,
          -1.9780051022973344,
          1.344348596935446,
          -1.3324010865389135,
          0.570540052865273,
          -1.4494032245056168,
          0.7241164069527376,
          0.7649192316197799,
          -0.3877541005777836,
          0.41875196831714173,
          -1.5904913080427636,
          -0.480206598698517,
          0.011262343604799602,
          -1.6070297689949224,
          0.1951782046613019,
          1.566626400978367,
          -1.1575450008593426,
          -0.6070181767256565,
          0.824259842804887,
          -0.7491799797233877,
          -2.2955064480034775,
          -0.13417958753587061,
          1.3092810134963482,
          2.0736540396530385,
          0.6159906796868749,
          2.1842989728733557,
          -1.483157803683383,
          0.9299589194198669,
          0.5318594231618349,
          -0.2148752827457884,
          1.648376102293878,
          -1.0361526028037795,
          -1.4301754858261735,
          -0.29629797938710584,
          0.8958897766277334,
          -0.8231271394116426,
          -0.5419723486763337,
          -0.6476139621292691,
          -0.5515171262807471,
          1.7343040207723839,
          -1.1431372491663512,
          -0.547165506737979,
          -0.34773561062535,
          -1.274616750317957,
          1.522038010165523,
          -0.4230666538270312,
          -0.027355028458158695,
          -1.0330134162745777,
          -0.08570384552624107,
          -1.7162489451880856,
          -1.332788242962533,
          -0.4573314451450232,
          -0.7860965495204875,
          -0.08208089314355825,
          0.3927494694757405,
          -0.3484515214193697,
          0.34498748135395185,
          2.4084482218742758,
          0.7026058794575357,
          -0.42157680224421784,
          1.1798243629198584,
          0.008387997851442903,
          -0.9680538473682748,
          0.6034857751303893,
          -2.0959106408541732,
          0.6987442509634164,
          -0.2585417188731686,
          0.357429296375905,
          1.4829682759866931,
          0.30762483162914367,
          1.398975588822748,
          -0.25912707152495323,
          0.8010749326553376,
          -0.36569789102369454,
          -0.7928717306983745,
          0.38386012342310794,
          -0.8028173646143082,
          0.7787092253533002,
          -1.3877174782449535,
          -0.1432165014603427,
          0.2068956348196149,
          1.7541898731405339,
          0.20532872582912018,
          -0.4267676574604123,
          0.45993610147352343,
          -1.9666568624197962,
          -0.8061887520201476,
          0.6448509662341941,
          0.6547542194136597,
          -0.4318822040675996,
          0.9403264312091221,
          1.8525270966856118,
          -0.3644896703684982,
          0.09898971384570111,
          -0.6303541280063112,
          0.5261164017014864,
          1.3583903457398214,
          -0.22123264299590106,
          -0.35889257372008615,
          -0.4305122409375915,
          -0.777923922552346,
          -0.4163262411160491,
          -1.2008833817796662,
          0.8964532918312415,
          0.5461247086298091,
          -0.26731521592763996,
          -1.303527217137951,
          -0.6485532552067893,
          -0.39826275535050787,
          -1.7041335515102016,
          -0.48728270565187753,
          -0.5146243613083006,
          0.242124956595043,
          -3.0786630819826013,
          0.23390426098584355,
          0.460403737289808,
          -0.3067389910233786,
          -0.16569572466816887,
          -0.1369665747106241,
          -0.9092175793668102,
          0.3205538356348488,
          -0.772637445905839,
          -0.6643328577546163,
          0.3397874505907303,
          0.12876853989709722,
          -0.880166090745483,
          -1.076655275879828,
          -0.23060372248409428,
          -1.436414330401778,
          -1.3014775540028123,
          1.4062149373608805,
          1.2099071025104264,
          1.387638536772456,
          -1.259939213523836,
          -1.9240873411224677,
          1.6972466505115003,
          0.19111124791539766,
          -0.5012727785905084,
          0.41726091127387066,
          0.9798555595421591,
          0.10131970517526145,
          1.926531440142772,
          -0.0873354887501695,
          -0.22487911175108655,
          0.3795723398032099,
          2.0999708272663504,
          -0.8557286441020103,
          -1.7711816181476863,
          -0.5034839405575117,
          -0.5054868894145039,
          0.04849728819602422,
          -0.2860913096330363,
          -1.6121924843751732,
          1.4977146791806621,
          0.808649042112307,
          1.1961086590637704,
          0.0446575530144317,
          -1.2843312677915057,
          -1.480723810997466,
          0.15249208513367682,
          1.4279753421975687,
          0.012101963023260996,
          -0.6047560785167307,
          0.5619600474806472,
          -0.5886104032255584,
          0.7999774858491042,
          -1.502027145037889,
          -1.1060728724704991,
          1.1729771472099693,
          0.16827157765512682,
          -1.625202389961396,
          0.7842685839694791,
          0.02469348725630764,
          0.2385379328201624,
          -0.29538642075308524,
          -0.1315799916855082,
          -1.1328142660875047,
          0.23770945956945205,
          1.8446044436365707,
          3.2248103167679667,
          0.0788219280790846,
          -1.4275755449861096,
          0.7984109701245938,
          0.9471007895781193,
          -0.2522164432597132,
          1.3441084968884862,
          -1.5072809453408456,
          -0.36549116356726774,
          0.43739095050563814,
          0.9950986939602915,
          -0.8270653807019828,
          2.2661475071766883,
          -0.6953683550650545,
          -0.3449657867430778,
          -0.47833759596058206,
          -2.296628465252478,
          1.284873273051271,
          0.07858993345808904,
          -1.0612053556634191,
          0.5996137972162854,
          0.40953886129121164,
          -0.4573952074157385,
          0.7419526801456333,
          -0.22510237320967466,
          0.4025638488680383,
          -0.30177767653090776,
          0.8889191396594263,
          0.9072893560130869,
          0.7642281653136613,
          -1.4776200562748472,
          0.7315677901875213,
          -0.4413236279891624,
          0.6591574835318933,
          0.0020820622789119022,
          0.8685657522729772,
          0.4834808322039025,
          0.3026090070342236,
          -0.4555218629579487,
          -0.0726063468909992,
          -0.25978449750340576,
          -0.5237102612859642,
          1.3726777033635456,
          -0.25889079171336055,
          0.7461746174681378,
          0.3877313358485933,
          1.5687118235994273,
          1.2486166574597608,
          -1.6083598322828456,
          1.241697118704977,
          -0.31095906400464773,
          0.3163946338717536,
          -0.5778629285498249,
          0.08589359194747778,
          1.881063281585978,
          0.7397361970677856,
          0.15002150719977186,
          -1.198325894810019,
          -0.2925020647512997,
          -1.3963602292690687,
          1.3769608871592747,
          -0.19025086381554324,
          0.5956436685244979,
          -1.9199271689993933,
          -0.9853948809651187,
          -1.377652754139233,
          -0.7982413657775274,
          -1.0509328333009142,
          -0.02543078765022518,
          0.2864313992133678,
          -0.20477640557771667,
          -1.4443291848831923,
          -2.1118742317193147,
          0.8179606767165215,
          0.008244970339281846,
          -0.01591497469791214,
          -2.0435578111442836,
          -0.2163374248749704,
          0.930445458032794,
          -1.3827300904438442,
          1.1348239131420057,
          0.2470636756172789,
          -0.17200808305495247,
          0.023324655899916027,
          -0.7018450462419387,
          0.055622333993656355,
          0.19646666879202196,
          -0.7774486053614817,
          1.4688513031197128,
          -0.5866290007304434,
          0.4716328039656702,
          -0.5375209015246823,
          0.2789272948977898,
          -2.095581488579212,
          -1.1717842187784002,
          0.2521005224008118,
          0.07824075326055242,
          -1.3659424722130178,
          -1.4037644474929056,
          0.9448641679177742,
          0.034510261585496575,
          1.1004811131951018,
          1.7557278574741193,
          -0.33713444594752046,
          -0.8489368225747768,
          -0.108151913597362,
          0.27990625426633164,
          0.4240467459188862,
          0.39529557574783863,
          0.8281512090647047,
          0.2926933887408282,
          -0.6286138652167572,
          0.7081138816007756,
          -0.03364498556822676,
          -0.4020003779967947,
          -0.7224918401646396,
          1.3479326965162275,
          1.0949981279883403,
          -1.3789275704496378,
          -0.9009803175492768,
          -1.4774843735386072,
          -1.2585844718415098,
          0.9963556787040933,
          -0.49446753286109224,
          -0.2702971906384046,
          0.6516978357148224,
          -0.773125395586952,
          -2.765072033991384,
          1.3772658095235575,
          0.1772657411668991,
          -1.335330378969198,
          -1.737802966507633,
          -0.9444357051079172,
          2.372427970818628,
          -1.231161861560393,
          0.7786134088104083,
          0.020244119588442352,
          0.2360631438921182,
          -1.0872845925059083,
          -0.30252457715585807,
          -1.3743120762263026,
          1.0244335982417767,
          0.013261817907236368,
          0.5854416113886525,
          0.11509074618538268,
          -0.948999033684943,
          -0.6561687938895583,
          0.8986007202635329,
          -0.9566483265551479,
          -0.37475505644497015,
          0.9378638663474015,
          -0.7036582105341399,
          -0.7319297725676953,
          0.5606513900955576,
          0.32365383167611567,
          -1.3920594272061138,
          -0.696592696986908,
          -0.5522203533950847,
          0.44762561235334414,
          3.0701772338513234,
          -1.2742010665606887,
          1.0223469602002762,
          -0.7906423538278282,
          1.228834367563678,
          0.7788904873315808,
          -0.17881766444217798,
          0.9983481278769409,
          -0.6076654684760453,
          0.8035853843601588,
          -0.4326648662788687,
          -0.16904813628187806,
          -0.15200188145539648,
          0.0399646608836267,
          -2.021724783818235,
          0.16189462135163699,
          0.6282445263299656,
          0.9563590447802024,
          -0.7413704779957294,
          -0.8731918847270472,
          0.48159056108916815,
          -0.0195524875588435,
          0.69078998301944,
          0.9632780559961143,
          -0.14726498386012385,
          -0.09752765573001855,
          0.45764466004031107,
          -0.6121379471080541,
          2.067546292648955,
          -1.3176932795333447,
          -0.04014975294402671,
          0.5864577698557837,
          1.5712799957830499,
          0.42208174300764123,
          1.1467286764941036,
          1.3213755975327006,
          -0.9834799134128528,
          0.7058341476166738,
          -1.043503399901734,
          -1.23339744428984,
          0.7599706627735974,
          1.072400221888102,
          0.5218846068408214,
          -0.2200703428048899,
          1.0648943653596405,
          -0.322872369226057,
          0.4714600053436187,
          -0.7810065375233267,
          0.7248296890843513,
          -2.2115993835323158,
          0.00074223492377819,
          0.059504429051692995,
          -0.4535397066423814,
          0.8843434090108113,
          -0.2971249554744686,
          -1.0290584498026305,
          0.13757146356904504,
          -0.7058155035188236,
          -1.0765861908085506,
          1.4715071522932743,
          -1.7475612811501573,
          -0.33624411266585646,
          1.729115561314672,
          -0.6078002019846956,
          0.9866520329658012,
          0.03462947421234651,
          0.7904986797826365,
          0.715216623966049,
          1.1237881778811967,
          0.2371816932939036,
          0.5668063458867452,
          1.4144846073331643,
          0.39583801168276167,
          0.7288228383413888,
          0.4319395956287164,
          0.8954434243515934,
          -0.013113263243887547,
          -0.9356514479535416,
          -0.16348326001622843,
          0.3202481217369092,
          0.5634219092732816,
          -0.23069213076573683,
          -1.0734361535389045,
          -1.772119075227092,
          0.7394303546723203,
          -0.9685393312900933,
          -1.7421108529632605,
          -0.9285183844597089,
          -0.4031192119780388,
          -0.05539625801312633,
          0.6011358639075214,
          0.6446709081470282,
          0.4857260615925726,
          1.1052457612882483,
          0.25493090850054506,
          -0.9298373710131024,
          1.457783189949278,
          -0.8091351719559101,
          0.8670185706313345,
          -0.8205036570853644,
          -1.0097355457287098,
          0.35203914286653104,
          0.6823784799588991,
          0.5237652301637503,
          1.308431382248214,
          -1.3310245662484728,
          -0.5834649747230714,
          -0.20228795947290842,
          0.10345819207105025,
          0.4798582254591865,
          0.24981558884839794,
          0.27523258922148497,
          0.3211910391129144,
          -0.6344980894963803,
          1.3361897422092683,
          -0.5539907127832054,
          0.48969232657108386,
          -0.3632494823907942,
          1.2915233498729752,
          1.996214117688483,
          1.2849367999172374,
          2.20256500931262,
          0.7654961584986386,
          -0.10171265864444912,
          1.08478701838337,
          -0.7996116664000261,
          -1.0438009673994053,
          0.5854415316078431,
          -0.8892654515967544,
          1.069124383260737,
          -0.3405289563804088,
          -0.43993339447390206,
          -0.642385524390596,
          1.0884028324579846,
          -1.2643628501914494,
          -0.09647878910128668,
          -0.15201301030817643,
          -0.32461339910795856,
          -1.8822272186680686,
          2.9975710449978945,
          0.7738515184618966,
          -0.21361986744202296,
          -0.11559750586370862,
          0.33836174440734196,
          0.6000856823816612,
          -0.24661308588585287,
          0.2958085325381056,
          1.3432901771159114,
          -0.042232311695020404,
          -1.0805978623223123,
          -0.6153523118984956,
          0.9564183230794667,
          0.4361806047215822,
          -0.06332441826584527,
          0.9986979340952561,
          -1.8959953808462673,
          0.9067892036170924,
          0.771823767119719,
          0.0017963070729192232,
          0.8498488570820294,
          -0.2092966814490147,
          -0.05715652725087077,
          -0.10960404970543929,
          0.13315804006605944,
          -0.3535502278050129,
          0.011653994229433867,
          -1.0848659233972684,
          1.3920677754105906,
          0.4763614329045504,
          -0.3165188706738056,
          -0.49253592469958796,
          1.3788922567457789,
          -0.4106687469216723,
          -0.7538534664694096,
          -1.6684947011565188,
          2.0552046429853212,
          -1.453070442217196,
          -2.545821111938302,
          -0.5556328394510186,
          0.48945833630148644,
          -0.8227574565885334,
          -0.1231304322612536,
          0.08933310256952637,
          1.7848850807323506,
          -1.3371759316358605,
          0.4000754010492867,
          0.929482691860598,
          -0.3833267656008631,
          0.20791561257063976,
          -1.549946722114438,
          -0.8990833855535268,
          -1.3335924223885056,
          0.015011556197731611,
          -0.8767090368112045,
          -2.395212963545296,
          -0.837337395505085,
          -1.1216506695542565,
          -0.33900412678371883,
          1.9223600159573326,
          0.24820103050075953,
          -1.7158118726304064,
          0.5823714322690109,
          0.8273454443024858,
          0.025167719348272107,
          -1.128196452666861,
          0.8739095773222763,
          -1.2987309788074513,
          2.188754783080737,
          1.2152578867174686,
          -0.2040355571677324,
          2.168662750226124,
          -0.27375266664103576,
          0.283475359653884,
          -0.0713377004824228,
          -0.022167035918931207,
          -0.08572389189251242,
          0.258884045481481,
          -0.02212039771782311,
          -0.40331686891703367,
          0.6582682321042069,
          -1.056501363981337,
          0.6923022493226163,
          0.2997911519152799,
          -0.8719821368032409,
          -1.0280855847232575,
          -1.0431612125544139,
          -1.0127255517402072,
          -0.8775292622735679,
          -0.04935612930192937,
          -2.177461054636354,
          1.5705943523561956,
          1.4482473756723528,
          0.3176293224998406,
          -0.8876713058422209,
          0.09828098283185376,
          -1.361752052379172,
          -1.0558796315026535,
          0.42454494944285454,
          0.37593769768950114,
          0.13019548503374215,
          0.706724335691875,
          -2.526508194445158,
          0.12680990190162827,
          -0.7202512861884707,
          0.36091931613119227,
          1.2226794510289265,
          0.3378738265991298,
          0.266929629085206,
          0.4098456536540297,
          -2.1692402637991366,
          -1.3889467608626918,
          -1.3414334593726662,
          -0.8782729502116747,
          0.7804816411054006,
          -0.2226052279409938,
          0.8065443090831014,
          -2.0430214819383776,
          0.9687792693461792,
          0.1254556390064913,
          1.4089800349262214,
          -0.5293458403414381,
          1.925845275125417,
          -0.2033103068797796,
          -1.3221997361255746,
          -0.046294615109913444,
          -2.3633293241380606,
          0.45392842931326105,
          0.2572928546065054,
          -0.5091216101223223,
          -1.7874773265028199,
          -0.44673731855209475,
          -0.6288016534974229,
          0.32879935422941875,
          0.5231922367735585,
          0.1478120663408657,
          0.010732658090254046,
          -0.13816977165822883,
          -1.311905650090953,
          0.8047803357402039,
          0.17543492635836824,
          0.05449100229796003,
          -0.6445432828782152,
          0.6569477027661513,
          0.31109766100098984,
          -0.17795276921275577,
          1.8571677444083226,
          -1.2242612890279405,
          -0.05278389321139707,
          1.5499592266881619,
          0.25666606070087844,
          0.6678419547813318,
          1.7235694718794876,
          0.2536489682626098,
          1.0055789017601906,
          -0.8883071587112076,
          0.4484938191606828,
          0.4802505187376137,
          0.4679064972988108,
          -0.4212113434393831,
          1.335856007326657,
          -1.5567955676733563,
          0.7891443935154819,
          0.16490127310195712,
          1.2881926790381257,
          0.5867698273013955,
          -0.4565372007831017,
          -0.24868077370358768,
          0.10154038586371535,
          -0.9401233743097157,
          1.2028376646814956,
          -0.6806210005875187,
          0.3121305627934822,
          -2.5717340378534694,
          2.4943477542923462,
          0.13961648129875498,
          0.9143214870393725,
          -0.46751952929674534,
          -0.858083441856182,
          -0.7175172888359065,
          -1.2333979612354662,
          0.22380366979908178,
          -0.3891979254102891,
          -0.11271115168660574,
          0.598926106947402,
          0.20873483183598737,
          1.022228066639977,
          1.060618802975289,
          0.09819309360702076,
          0.6657829189097386,
          -0.6040652383828333,
          -1.1925116605629402,
          1.6943469480344449,
          0.742346891015303,
          0.24310362444093095,
          -0.19981414602266498,
          -1.1365571341200424,
          0.27711768588297386,
          0.5654210366625796,
          0.02315243018012605,
          -1.4673748787092096,
          -0.6645939893253265,
          0.116653003334048,
          0.9408636350062243,
          0.2072130755214017,
          -0.6654191599268453,
          -1.2327441384746534,
          0.26686369608456334,
          0.008404362209543177,
          -0.2567696513242088,
          -0.28120722940958776,
          -0.8419994331951393,
          0.18285668715068204,
          0.11255290284616577,
          -1.6796033135209973,
          -1.050156134061419,
          -2.1605918979258787,
          -1.2827585165362085,
          0.7327568449908031,
          1.0021111949120758,
          -0.25954282126925843,
          -0.31808852639852353,
          0.1380247322335438,
          0.9401564402399042,
          -0.33725869485348453,
          1.2623491620421332,
          -1.6642710265470992,
          -0.8458477860564853,
          -0.5750756377626407,
          -0.8007744644123954,
          -0.6114851708257367,
          -1.830063793278119,
          -0.6479669252690727,
          0.3442513191724137,
          0.16638065104738486,
          0.2250653080558506,
          1.8543374983276208,
          0.8402318151104189,
          0.3005410450713157,
          1.5609556881714814,
          -2.0407832107727537,
          -0.7943137676940477,
          -0.0865909582091108,
          -0.018586628172286387,
          -1.251854443385432,
          0.18374061967790112,
          -2.2291254163643504,
          0.3325766070475626,
          -0.786240999180587,
          -0.1663507496270111,
          -2.2260805136642268,
          2.1801211287117925,
          1.483033790490154,
          -1.4714437702169503,
          -1.0789760709960514,
          0.25774069517909276,
          1.8242499212372183,
          -0.9998189330534046,
          -0.5022069071506191,
          -0.793471807761631,
          -1.3196629594636096,
          0.2733378093240603,
          -0.5884690741395365,
          0.1433671544802154,
          -1.3732782412305073,
          -0.4001141236870318,
          0.06837574738031259,
          0.32209814596770675,
          -0.570064537029649,
          -0.0011613976182627366,
          0.5114265298305515,
          0.6751787580161304,
          1.1269737507208202,
          0.14123497435384835,
          -0.16874609920966596,
          -2.176897856479034,
          0.38116847845655377,
          0.40055368721592044,
          -2.0488105518471005,
          0.5944726238647786,
          0.08439581409164905,
          0.21631282679950367,
          -0.3698432983870564,
          0.2205532850683464,
          -1.3606117314192374,
          -0.03920516248646646,
          0.669912636392072,
          1.2750945747121416,
          -1.7673427648204019,
          -0.0927411619473803,
          -1.3665940985134166,
          0.7027346392839422,
          0.9749765618853898,
          -1.7298763834419433,
          -0.883272449344546,
          0.9137981724477467,
          1.4154237448139488,
          -0.19518540587817662,
          0.2324755155397737,
          -1.0139550518510745,
          0.16852042025060585,
          -0.18577727666502933,
          0.1937161198215624,
          -0.6088635295859454,
          2.07719826204805,
          1.0454978736091505,
          -0.3668761650221109,
          0.6790509701156783,
          1.049192514471435,
          -0.6467962599622298,
          0.25770442101165336,
          1.832647664232719,
          0.11830448562773109,
          1.2110663782371585,
          -0.9557473549105421,
          0.8620717461612404,
          1.4573809524392238,
          0.1373248808321232,
          -1.2761537268348466,
          0.6779627655132193,
          -0.4019359345602569,
          -0.6129964628620315,
          0.2643367185572531,
          0.5629130960208911,
          0.18933403860125478,
          -0.1946661424497585,
          0.3027487683508936,
          -0.9629468899292853,
          -1.258337284041577,
          1.0743429045587922,
          -0.48515819873903954,
          1.2004692951261688,
          -0.457364524988313,
          1.7163880875756747,
          -0.8481871475564103,
          1.3863313000340702,
          0.4887998451083775,
          0.22627061549982128,
          -0.41769195213164734,
          1.2369690185490705,
          -0.5127052516387388
         ]
        }
       ],
       "layout": {
        "template": {
         "data": {
          "bar": [
           {
            "error_x": {
             "color": "#2a3f5f"
            },
            "error_y": {
             "color": "#2a3f5f"
            },
            "marker": {
             "line": {
              "color": "#E5ECF6",
              "width": 0.5
             }
            },
            "type": "bar"
           }
          ],
          "barpolar": [
           {
            "marker": {
             "line": {
              "color": "#E5ECF6",
              "width": 0.5
             }
            },
            "type": "barpolar"
           }
          ],
          "carpet": [
           {
            "aaxis": {
             "endlinecolor": "#2a3f5f",
             "gridcolor": "white",
             "linecolor": "white",
             "minorgridcolor": "white",
             "startlinecolor": "#2a3f5f"
            },
            "baxis": {
             "endlinecolor": "#2a3f5f",
             "gridcolor": "white",
             "linecolor": "white",
             "minorgridcolor": "white",
             "startlinecolor": "#2a3f5f"
            },
            "type": "carpet"
           }
          ],
          "choropleth": [
           {
            "colorbar": {
             "outlinewidth": 0,
             "ticks": ""
            },
            "type": "choropleth"
           }
          ],
          "contour": [
           {
            "colorbar": {
             "outlinewidth": 0,
             "ticks": ""
            },
            "colorscale": [
             [
              0,
              "#0d0887"
             ],
             [
              0.1111111111111111,
              "#46039f"
             ],
             [
              0.2222222222222222,
              "#7201a8"
             ],
             [
              0.3333333333333333,
              "#9c179e"
             ],
             [
              0.4444444444444444,
              "#bd3786"
             ],
             [
              0.5555555555555556,
              "#d8576b"
             ],
             [
              0.6666666666666666,
              "#ed7953"
             ],
             [
              0.7777777777777778,
              "#fb9f3a"
             ],
             [
              0.8888888888888888,
              "#fdca26"
             ],
             [
              1,
              "#f0f921"
             ]
            ],
            "type": "contour"
           }
          ],
          "contourcarpet": [
           {
            "colorbar": {
             "outlinewidth": 0,
             "ticks": ""
            },
            "type": "contourcarpet"
           }
          ],
          "heatmap": [
           {
            "colorbar": {
             "outlinewidth": 0,
             "ticks": ""
            },
            "colorscale": [
             [
              0,
              "#0d0887"
             ],
             [
              0.1111111111111111,
              "#46039f"
             ],
             [
              0.2222222222222222,
              "#7201a8"
             ],
             [
              0.3333333333333333,
              "#9c179e"
             ],
             [
              0.4444444444444444,
              "#bd3786"
             ],
             [
              0.5555555555555556,
              "#d8576b"
             ],
             [
              0.6666666666666666,
              "#ed7953"
             ],
             [
              0.7777777777777778,
              "#fb9f3a"
             ],
             [
              0.8888888888888888,
              "#fdca26"
             ],
             [
              1,
              "#f0f921"
             ]
            ],
            "type": "heatmap"
           }
          ],
          "heatmapgl": [
           {
            "colorbar": {
             "outlinewidth": 0,
             "ticks": ""
            },
            "colorscale": [
             [
              0,
              "#0d0887"
             ],
             [
              0.1111111111111111,
              "#46039f"
             ],
             [
              0.2222222222222222,
              "#7201a8"
             ],
             [
              0.3333333333333333,
              "#9c179e"
             ],
             [
              0.4444444444444444,
              "#bd3786"
             ],
             [
              0.5555555555555556,
              "#d8576b"
             ],
             [
              0.6666666666666666,
              "#ed7953"
             ],
             [
              0.7777777777777778,
              "#fb9f3a"
             ],
             [
              0.8888888888888888,
              "#fdca26"
             ],
             [
              1,
              "#f0f921"
             ]
            ],
            "type": "heatmapgl"
           }
          ],
          "histogram": [
           {
            "marker": {
             "colorbar": {
              "outlinewidth": 0,
              "ticks": ""
             }
            },
            "type": "histogram"
           }
          ],
          "histogram2d": [
           {
            "colorbar": {
             "outlinewidth": 0,
             "ticks": ""
            },
            "colorscale": [
             [
              0,
              "#0d0887"
             ],
             [
              0.1111111111111111,
              "#46039f"
             ],
             [
              0.2222222222222222,
              "#7201a8"
             ],
             [
              0.3333333333333333,
              "#9c179e"
             ],
             [
              0.4444444444444444,
              "#bd3786"
             ],
             [
              0.5555555555555556,
              "#d8576b"
             ],
             [
              0.6666666666666666,
              "#ed7953"
             ],
             [
              0.7777777777777778,
              "#fb9f3a"
             ],
             [
              0.8888888888888888,
              "#fdca26"
             ],
             [
              1,
              "#f0f921"
             ]
            ],
            "type": "histogram2d"
           }
          ],
          "histogram2dcontour": [
           {
            "colorbar": {
             "outlinewidth": 0,
             "ticks": ""
            },
            "colorscale": [
             [
              0,
              "#0d0887"
             ],
             [
              0.1111111111111111,
              "#46039f"
             ],
             [
              0.2222222222222222,
              "#7201a8"
             ],
             [
              0.3333333333333333,
              "#9c179e"
             ],
             [
              0.4444444444444444,
              "#bd3786"
             ],
             [
              0.5555555555555556,
              "#d8576b"
             ],
             [
              0.6666666666666666,
              "#ed7953"
             ],
             [
              0.7777777777777778,
              "#fb9f3a"
             ],
             [
              0.8888888888888888,
              "#fdca26"
             ],
             [
              1,
              "#f0f921"
             ]
            ],
            "type": "histogram2dcontour"
           }
          ],
          "mesh3d": [
           {
            "colorbar": {
             "outlinewidth": 0,
             "ticks": ""
            },
            "type": "mesh3d"
           }
          ],
          "parcoords": [
           {
            "line": {
             "colorbar": {
              "outlinewidth": 0,
              "ticks": ""
             }
            },
            "type": "parcoords"
           }
          ],
          "pie": [
           {
            "automargin": true,
            "type": "pie"
           }
          ],
          "scatter": [
           {
            "marker": {
             "colorbar": {
              "outlinewidth": 0,
              "ticks": ""
             }
            },
            "type": "scatter"
           }
          ],
          "scatter3d": [
           {
            "line": {
             "colorbar": {
              "outlinewidth": 0,
              "ticks": ""
             }
            },
            "marker": {
             "colorbar": {
              "outlinewidth": 0,
              "ticks": ""
             }
            },
            "type": "scatter3d"
           }
          ],
          "scattercarpet": [
           {
            "marker": {
             "colorbar": {
              "outlinewidth": 0,
              "ticks": ""
             }
            },
            "type": "scattercarpet"
           }
          ],
          "scattergeo": [
           {
            "marker": {
             "colorbar": {
              "outlinewidth": 0,
              "ticks": ""
             }
            },
            "type": "scattergeo"
           }
          ],
          "scattergl": [
           {
            "marker": {
             "colorbar": {
              "outlinewidth": 0,
              "ticks": ""
             }
            },
            "type": "scattergl"
           }
          ],
          "scattermapbox": [
           {
            "marker": {
             "colorbar": {
              "outlinewidth": 0,
              "ticks": ""
             }
            },
            "type": "scattermapbox"
           }
          ],
          "scatterpolar": [
           {
            "marker": {
             "colorbar": {
              "outlinewidth": 0,
              "ticks": ""
             }
            },
            "type": "scatterpolar"
           }
          ],
          "scatterpolargl": [
           {
            "marker": {
             "colorbar": {
              "outlinewidth": 0,
              "ticks": ""
             }
            },
            "type": "scatterpolargl"
           }
          ],
          "scatterternary": [
           {
            "marker": {
             "colorbar": {
              "outlinewidth": 0,
              "ticks": ""
             }
            },
            "type": "scatterternary"
           }
          ],
          "surface": [
           {
            "colorbar": {
             "outlinewidth": 0,
             "ticks": ""
            },
            "colorscale": [
             [
              0,
              "#0d0887"
             ],
             [
              0.1111111111111111,
              "#46039f"
             ],
             [
              0.2222222222222222,
              "#7201a8"
             ],
             [
              0.3333333333333333,
              "#9c179e"
             ],
             [
              0.4444444444444444,
              "#bd3786"
             ],
             [
              0.5555555555555556,
              "#d8576b"
             ],
             [
              0.6666666666666666,
              "#ed7953"
             ],
             [
              0.7777777777777778,
              "#fb9f3a"
             ],
             [
              0.8888888888888888,
              "#fdca26"
             ],
             [
              1,
              "#f0f921"
             ]
            ],
            "type": "surface"
           }
          ],
          "table": [
           {
            "cells": {
             "fill": {
              "color": "#EBF0F8"
             },
             "line": {
              "color": "white"
             }
            },
            "header": {
             "fill": {
              "color": "#C8D4E3"
             },
             "line": {
              "color": "white"
             }
            },
            "type": "table"
           }
          ]
         },
         "layout": {
          "annotationdefaults": {
           "arrowcolor": "#2a3f5f",
           "arrowhead": 0,
           "arrowwidth": 1
          },
          "autotypenumbers": "strict",
          "coloraxis": {
           "colorbar": {
            "outlinewidth": 0,
            "ticks": ""
           }
          },
          "colorscale": {
           "diverging": [
            [
             0,
             "#8e0152"
            ],
            [
             0.1,
             "#c51b7d"
            ],
            [
             0.2,
             "#de77ae"
            ],
            [
             0.3,
             "#f1b6da"
            ],
            [
             0.4,
             "#fde0ef"
            ],
            [
             0.5,
             "#f7f7f7"
            ],
            [
             0.6,
             "#e6f5d0"
            ],
            [
             0.7,
             "#b8e186"
            ],
            [
             0.8,
             "#7fbc41"
            ],
            [
             0.9,
             "#4d9221"
            ],
            [
             1,
             "#276419"
            ]
           ],
           "sequential": [
            [
             0,
             "#0d0887"
            ],
            [
             0.1111111111111111,
             "#46039f"
            ],
            [
             0.2222222222222222,
             "#7201a8"
            ],
            [
             0.3333333333333333,
             "#9c179e"
            ],
            [
             0.4444444444444444,
             "#bd3786"
            ],
            [
             0.5555555555555556,
             "#d8576b"
            ],
            [
             0.6666666666666666,
             "#ed7953"
            ],
            [
             0.7777777777777778,
             "#fb9f3a"
            ],
            [
             0.8888888888888888,
             "#fdca26"
            ],
            [
             1,
             "#f0f921"
            ]
           ],
           "sequentialminus": [
            [
             0,
             "#0d0887"
            ],
            [
             0.1111111111111111,
             "#46039f"
            ],
            [
             0.2222222222222222,
             "#7201a8"
            ],
            [
             0.3333333333333333,
             "#9c179e"
            ],
            [
             0.4444444444444444,
             "#bd3786"
            ],
            [
             0.5555555555555556,
             "#d8576b"
            ],
            [
             0.6666666666666666,
             "#ed7953"
            ],
            [
             0.7777777777777778,
             "#fb9f3a"
            ],
            [
             0.8888888888888888,
             "#fdca26"
            ],
            [
             1,
             "#f0f921"
            ]
           ]
          },
          "colorway": [
           "#636efa",
           "#EF553B",
           "#00cc96",
           "#ab63fa",
           "#FFA15A",
           "#19d3f3",
           "#FF6692",
           "#B6E880",
           "#FF97FF",
           "#FECB52"
          ],
          "font": {
           "color": "#2a3f5f"
          },
          "geo": {
           "bgcolor": "white",
           "lakecolor": "white",
           "landcolor": "#E5ECF6",
           "showlakes": true,
           "showland": true,
           "subunitcolor": "white"
          },
          "hoverlabel": {
           "align": "left"
          },
          "hovermode": "closest",
          "mapbox": {
           "style": "light"
          },
          "paper_bgcolor": "white",
          "plot_bgcolor": "#E5ECF6",
          "polar": {
           "angularaxis": {
            "gridcolor": "white",
            "linecolor": "white",
            "ticks": ""
           },
           "bgcolor": "#E5ECF6",
           "radialaxis": {
            "gridcolor": "white",
            "linecolor": "white",
            "ticks": ""
           }
          },
          "scene": {
           "xaxis": {
            "backgroundcolor": "#E5ECF6",
            "gridcolor": "white",
            "gridwidth": 2,
            "linecolor": "white",
            "showbackground": true,
            "ticks": "",
            "zerolinecolor": "white"
           },
           "yaxis": {
            "backgroundcolor": "#E5ECF6",
            "gridcolor": "white",
            "gridwidth": 2,
            "linecolor": "white",
            "showbackground": true,
            "ticks": "",
            "zerolinecolor": "white"
           },
           "zaxis": {
            "backgroundcolor": "#E5ECF6",
            "gridcolor": "white",
            "gridwidth": 2,
            "linecolor": "white",
            "showbackground": true,
            "ticks": "",
            "zerolinecolor": "white"
           }
          },
          "shapedefaults": {
           "line": {
            "color": "#2a3f5f"
           }
          },
          "ternary": {
           "aaxis": {
            "gridcolor": "white",
            "linecolor": "white",
            "ticks": ""
           },
           "baxis": {
            "gridcolor": "white",
            "linecolor": "white",
            "ticks": ""
           },
           "bgcolor": "#E5ECF6",
           "caxis": {
            "gridcolor": "white",
            "linecolor": "white",
            "ticks": ""
           }
          },
          "title": {
           "x": 0.05
          },
          "xaxis": {
           "automargin": true,
           "gridcolor": "white",
           "linecolor": "white",
           "ticks": "",
           "title": {
            "standoff": 15
           },
           "zerolinecolor": "white",
           "zerolinewidth": 2
          },
          "yaxis": {
           "automargin": true,
           "gridcolor": "white",
           "linecolor": "white",
           "ticks": "",
           "title": {
            "standoff": 15
           },
           "zerolinecolor": "white",
           "zerolinewidth": 2
          }
         }
        }
       }
      },
      "text/html": [
       "<div>                            <div id=\"48e0fa63-5eac-4b4b-a576-8bb9f6418ed1\" class=\"plotly-graph-div\" style=\"height:525px; width:100%;\"></div>            <script type=\"text/javascript\">                require([\"plotly\"], function(Plotly) {                    window.PLOTLYENV=window.PLOTLYENV || {};                                    if (document.getElementById(\"48e0fa63-5eac-4b4b-a576-8bb9f6418ed1\")) {                    Plotly.newPlot(                        \"48e0fa63-5eac-4b4b-a576-8bb9f6418ed1\",                        [{\"mode\": \"markers\", \"type\": \"scatter\", \"x\": [-0.7162719483539887, -1.6968862127741149, -0.9894309389623781, 1.2598312069798077, -1.1095763627461017, 0.36489228592523704, 0.30766399943438627, 0.39822856838274456, -0.7203531544004012, 0.5690716817135538, -0.24232861052765228, 0.29835455793063187, 0.3266662067875188, -0.6257040556520819, -0.5636751282986063, -0.3069136224271239, -2.129529489124649, -0.31626915491658514, 1.3930198069251036, 1.1946525009979858, 2.246924572915262, -0.601952006975616, 1.0902452403018956, 0.4253474207531389, 2.1476904707720736, -0.5476561822850711, -0.30670545998015575, 1.8217432955120259, 0.740079283319132, -0.236761301807232, 0.27080433807815185, -0.9580588541026512, -1.045813497487345, 0.20764891065741412, -1.761103213737328, 1.2591423568173223, 0.1995420347603093, -0.607551553566153, 0.903225468896764, -0.7189660312510392, -1.9376967188562955, -0.12121458323207522, 0.8899315388504621, -0.25948043872807575, -2.0584697103817193, -1.2460804511168648, -0.38253547226765056, 0.7551092961619928, -0.4014529040900327, 1.1710963207100284, -0.37326781339688675, -0.8420471478007779, -0.21275366980707455, 0.05973665782550905, -1.6679712628394001, 0.12284556705863621, -0.5959231794704742, 0.5128429027170615, 0.6521837379570508, 0.16359618958655847, -1.3408969760238572, 0.015344794181394937, 0.12300467870382649, -0.06502488520294729, 0.019545170685319337, -0.6979257486481976, -0.48415968676745386, -0.8555232681126107, -0.640861386228804, 0.1937117810865011, -0.8537608795120643, 0.5326264554936229, 1.9896657335102574, 0.7330949581670838, 0.4337909214784427, -2.0136565479243704, -1.4345018068304023, 0.5559629445718595, -0.6509453787585651, -0.26320082518915666, 0.22718750526835313, 0.1806117469241518, -0.9991991266863017, 0.06496254181519519, -3.2403024215297793, -0.1472542431790558, 1.0277589603276283, 1.5710196157211471, -0.9501577693050574, 1.7249323848445817, -0.1008949321954231, 0.46945404139689545, -2.018446419340283, -0.36676082705718177, 0.1363001757913478, 1.1638848222858593, 0.3053600741880295, 0.5188158752956538, -0.4112345881650495, -0.02837321983432587, 0.06336767012180977, -0.7449048921450669, -0.14491162561414028, -1.3267410736610348, -0.5462446502872987, 0.20870246255970656, -1.4253339672462273, 0.48999965977458554, -0.7471406758612851, 0.1261806683912953, 0.6039335892574376, -0.48035070708581584, -0.3277275875134323, -0.5572083654598431, 0.8668927821524793, 0.9774265390346109, 0.07271104307503258, 0.6652531782376584, 1.6809827476884496, 0.6683130273710652, -0.6422559261868042, -0.4228934829198854, 0.5525328842450268, -1.4077480191028018, -0.10798308069954472, -0.3842464476460266, 0.6432993766116943, -0.3931492940810547, 0.37446763817245227, 0.29768639615353837, 1.042002195696504, -1.0449919926768172, 0.59912089699276, 1.5962487612477725, -0.29849723147222385, 1.51428519609661, 0.3279193871239057, 0.06275332606812338, 0.21295815800785867, -0.7794877376053312, -1.3003672647731286, 1.5613657532224572, 1.0180035166642794, 0.8485786601602892, -0.6978996413190763, -1.2037429742053558, -0.1500479299520218, -1.9385812018269863, 0.6139967945209999, 1.7296043077906664, -0.7603594631496009, 2.0009088639683377, 1.0819771027669436, 2.3536176640134907, -1.8507133878812807, -0.12590981148357971, 0.634786942746939, -2.18995764952504, -0.5165253891968412, 0.7678515222213464, 0.053358836247327984, 1.1146649409333693, -0.5761063946958132, -2.024291582874018, 1.4215372723149091, -0.9149670880399635, -0.23965215015923239, 0.253037729382556, -0.21184995141806534, 1.3811913873184511, -0.7997326999039156, 1.9214301626956574, -0.3744895316971763, -1.275231762146648, 0.7258781827446313, 0.5566028123270381, -0.14843674454307113, -0.017421785300600155, 1.1572235234037849, 1.4158541799173778, -0.05980361289520402, 0.18953801043726257, 1.7311297763604663, -0.3042535858742044, -2.0042259251301044, -1.078564208690662, -0.21818874524342122, -0.7474412863725001, -1.1917556536961422, 0.18833003353292416, -0.0864055847681153, -0.5119835394440058, -0.34331511914194063, 1.5953353273590323, -0.13881303998291694, -1.641402964052635, 0.434828108459776, 0.17123502282072633, -0.2464609120785875, -0.39901452450485714, 0.009927739755313655, 1.1941909065707268, -0.9891857910358905, -0.21055698444731505, 0.28009241260750384, -0.08017642073192577, 0.009257497532278119, -0.48556269256964285, 0.7670046594038878, 0.5116951881473014, 0.07427234613051657, -0.12367828125893313, 0.4694211950248903, -0.8073295952027191, -1.6525166946170846, 0.329729055328312, -0.4284641804152901, -1.1115769484107563, 1.5164314133324834, -1.8971846889654025, 0.40811410931897873, 0.6306704480110293, -0.3571803081209823, -0.00988531134182554, -1.7418183916141747, -0.21449682033114126, 0.47355438898968194, 0.20132910857094463, 2.0412791531890244, -0.41063542605764347, 0.4127381397072394, -0.7971281198879357, -1.30169208533838, -1.8109413973311068, 0.37878418481584225, 0.357962460638573, -0.9150541236734105, 0.026890879072776264, -0.29904680720521115, 0.21900964953093377, 1.0546320818116866, -0.9870837160741381, 1.3136765354809972, -0.4349744249536553, -0.9384595201802746, 0.6810542789428301, 1.7362907091689406, -0.5712430700821108, -0.07097903871768164, -0.6503431849542596, 1.5801808200943768, -0.6637282843825016, 2.52256704607857, 2.2937871136191372, -0.07558959306597984, 0.5211791821652049, -0.6391809927343983, 0.5352197307002917, -0.09961322410303884, -1.0021105513785955, -0.6425464842521029, 0.5115313331762424, -0.015829093313148093, -0.306395091717795, -1.460800099065623, 0.45207820123435166, 0.4433796893433994, 0.4480815676156963, 0.46996366336826506, 0.04354385584078417, -1.0859600556336224, 0.24326425884055208, 0.14944198662209818, -0.19727027062051944, 0.6388603064679362, 0.8207507164500084, 1.2374041281080586, -0.7389409904610152, -0.34496624460066994, 0.2161925605469404, -2.17490996531729, -0.05648852431480361, 1.1819080708719312, 1.7035405441156974, -1.8567184347528156, 1.8742179390443328, 0.17095913894011508, 1.1805246313154412, 0.7602832355393453, -0.3746226732597161, 0.42423639938898294, 0.032895055592447785, -0.4542513976078727, 0.7912943947962783, -0.16551755652169933, -1.4936328410357038, 0.607286860890655, 0.8361618348175173, -0.07107631364227732, -1.8589880037213282, -0.17442143649672037, -0.5996753377825887, 0.4075446550236202, 0.6886016765454842, 1.572873620152463, 0.2451653479385328, 0.8619918926558846, 0.3653105937716941, -0.9459549019819992, -0.32018210003599046, -0.19367258417974811, -0.8139711767828296, -0.5537639419247263, -1.3443304401333107, 0.8814721410370497, 0.16802789153965228, 0.03338334685913607, 0.22019659752162235, 0.6053722382734228, 0.23391256438271416, 1.1759313399658076, 1.2337756109516669, 0.9315635358534703, 0.19120954935094497, 0.9806062350842241, 0.4618327563567159, 0.43820438253320015, -0.7064875061984874, -0.4965009254446853, 0.4995283532859405, -0.14948818836122085, 1.634894292294844, -0.6968068043872421, -2.207053816554029, -0.472785858268195, 0.09164994375633694, 0.7741454183729835, -0.5421612602206035, 0.562364760300757, 0.4077034868359733, -0.495364665862775, -0.4589142132580188, -1.3391336739883861, -0.3915590925195808, -1.0425228268970181, -0.012413951234422741, -1.9178587627328372, -0.10345315060075327, 0.022567004597963996, 0.34765130571923647, -0.11120701657058144, 0.13490635049743147, 0.9886335680370498, -1.1845065656272644, 0.12542054390902316, -0.0724996449818234, -0.31287696181597535, -1.646470738392234, -0.9993004478754318, 0.18833802684548845, -1.7288567086174593, 0.20968374561539, -0.6408988910429089, 0.7306838586387085, 3.0955571561260813, 1.1879833818521908, -0.30839478069316656, 0.8892452992678809, -1.463458747737538, 0.7609093654077007, 0.9961123362577906, 0.4971218577886563, 0.397099988444104, 0.938990063539954, 0.45611524084973554, -0.940155291954712, -0.31269931067284357, 1.7894752388985058, 1.1155855187702342, 0.025221172181325923, 1.1068366694819385, 0.748303149867635, -1.9202872062113971, -0.5812541210753049, -0.09600665747996372, -1.3775701519390973, 0.4288100574257421, -1.6812025933908186, -0.41725950506310105, -0.9653108881618978, 0.7836796128203808, 0.2924939389098496, 0.6252750337878213, -0.37566397104448884, 1.6671010005154707, -2.015845053168031, -0.7103093410040546, 1.5196567621566524, -2.294274404265247, -0.4747335039992729, 0.6410147454604004, -0.37927101215922, 0.4777753272688577, 0.015502952636094048, -0.047540657212424606, 1.126530045254338, 0.05078724126782175, 0.7182399043066989, 0.6712415579544716, 1.701762281889086, 0.23546812025550387, -0.8150001488269812, 1.7102764852583014, -2.630455257476671, 0.9834647429186939, -0.48418667085049216, 1.408223667229703, 0.8841790465238818, 0.8534371113711866, 1.496939307186966, -1.3346207108962331, -0.008790208101334237, 0.502487591158705, -1.3291898302508856, -0.310670166904874, -0.16267213739348937, -0.47552433028923086, -0.3210151400749272, 0.8275627294413177, -1.308208781077107, 0.7745219824155481, -1.4488359202636718, 1.6845980080257612, 2.072392659083649, -0.06819459668341235, 0.778006569798469, 0.7811430101601063, 1.3654346748555735, -0.48864983063916917, -0.3224397841304762, 0.7155823868024208, -1.8936094960100993, 0.22210096856418188, -0.9968712842915411, -1.0688112811644108, 0.44989427636663865, -0.4726053223198261, -0.7794681177559784, 2.080062939397208, 1.2048271493705691, 0.6550618245182839, 1.0542067767729753, 1.2612905263887364, -0.026108897450934296, 0.5272564681465026, -0.5448418459252476, -0.9445331434592226, -1.031414108102934, -0.6923834294011424, -0.21335215019019643, 0.7489195338592866, 1.3532803366243011, 1.0420916547306052, 1.5425551117306708, 0.7280792218748836, -1.258762386353182, 0.15476305797238918, 1.4654531469929235, 1.2991522018485457, -0.2838420277615544, 1.9246217500746137, 2.828251569872035, -0.5483123014213734, -1.7990461315323163, -1.1492143435817939, 0.24535374150264627, -0.8952284520983821, -0.4553189478793732, -1.906008920832291, -1.1511158409214435, 0.7329731179071786, -0.2488635988919215, 0.4781410547840114, 0.27056950276652275, -1.033029985057794, 0.7342326813854863, -0.2945020190475064, 0.9520922704586556, 0.08191899679115187, 1.6147254061990262, -0.13286334825825097, 1.3541924471279871, 0.6514442929318742, -0.03326942813833015, 0.14873945332636204, -0.9696429394637912, 1.0815761306631577, -0.4090893046342193, -0.5031317411420451, -0.10662417098803248, -0.7680850057016582, 1.1927929009240874, -1.0758519156417596, -0.7693855856153013, -1.4791367073328836, 2.4535569659200234, 0.6684645453638838, -1.5105418267071384, 1.5474187005254958, 2.052407338740365, 1.2254879221461132, -1.0535501000698853, 1.1170328429639662, 2.798009867971348, 0.8086997868652641, -0.2657799276711743, 0.2936810706184676, -0.5713457334425147, 0.23646879303962937, -0.3367651495222335, 0.304500806149659, 0.6992803515367656, -0.8150283415440452, 0.36607952066481886, -0.44449682817822306, 1.1144204444632337, 0.5836900218462765, -0.5972384649242211, 0.056670294592283586, -1.3839362763065246, 0.6130500955373676, 0.714640269075776, 0.7361730062247415, -1.1918225658865078, -0.23995775838875333, -1.2793394423601276, 0.6583212450649175, 2.4881958754659, -0.3421298134110526, -1.4849140403791372, -0.01040650563448365, -0.2765376973491589, 0.608720235242921, -0.1524064497886056, -1.6518462915002916, 0.3531798530754079, 0.003264327681378337, 0.4165833431794126, -0.29059794587061777, 0.32676954216402027, 0.9729977519643319, -1.176437440390001, 0.9341430631831659, -2.689095683263156, 0.6748297268643695, 0.7932334783504169, -0.4828280858881439, 0.11380278772552428, 0.7137396347247568, 0.3456300544185797, -0.8806325130492378, 0.35590092881941165, 0.07828016835849154, 1.000575079366705, 0.5058381232234908, 0.30998066068768193, -0.49865629544716894, 0.5084082902305043, 0.022618718536356983, -0.14813495654528408, -0.8400666192920384, -0.41199037793764676, -0.8507572604276036, 2.434847450031553, -0.04572221702492857, -1.0762128186899413, -1.6469099117412938, -0.8543448241015272, 0.39681657617973154, 0.4069685582545503, -0.23904579127799774, -1.0577518224405658, -0.5581323734121163, -0.5795865425396473, -0.44009876039832996, 2.02076141813159, 0.5401888900299526, 0.3482616926799606, 1.1736751032747714, 1.0815176622409763, -0.19694286129991495, -2.2546523537353513, -0.961356692099188, 2.1342450869264074, 0.8741108948080061, -0.007835809751202492, -1.0807167426503428, 0.6815836240266542, -0.4452712555832775, 0.18626550456914348, -0.7262668715301381, -0.20323314107675308, -1.014754314872922, -0.11989441615294046, 0.05385248343370029, -0.22730012878868117, 0.498099283133783, -0.04600116904219772, 0.7865332882609997, -1.0645439601838962, 0.20507206716692228, -0.44611367266843155, -1.0171082858995244, -0.4010896044098226, 1.7292052734975312, -0.1069415977036958, -0.10033317819784665, 0.31220428307978226, 0.43715853214712624, 1.1418967140720988, -0.06867143503291528, -0.8481094853772673, 0.639186335904864, 1.1730690994415098, -0.5339254469750043, 0.5408675245394485, 0.6508776162924537, 0.8826517825802239, -1.0314355409859344, 0.330503029931148, -0.29787941937763956, 1.9744317597162724, 1.6045670505638108, -2.0093025442853825, -0.3720073040251174, -0.007835813323609574, 0.36428161667401704, -0.4975767776384998, -0.028569401619102923, 1.7140648040722914, -1.7810198132595305, 1.2107249513097107, 0.2743010523966246, -0.7068065105757452, -1.9738191389665833, -0.6097840222031933, 0.4447255729343316, 0.35356281669331185, -0.374241029116743, -0.8756972083682457, -0.1133098762108152, -0.450213953542403, -1.3664845712227711, -1.0428250717444112, -1.8766218985837892, 1.1396502912917907, 1.6628912530509634, 0.46334339990847284, 1.2884346471341637, 0.08641352914110564, 1.1218544806077317, -2.6790991713741947, 0.12867935406399203, -1.4200040040974382, 0.11483858420510398, -1.911083230146704, -0.09849735462588147, -0.49856139052289855, -0.6837551155567928, -0.9458725091796164, -1.2407011343436312, 0.2693208547519422, 0.3308366125239558, -0.8287013039392791, -0.1367237572250328, 1.089347830666891, 0.2140094212901856, 0.97350014284028, -1.1731657996966947, -0.9889222246337309, -0.313617136163652, 0.3753107577830095, -0.7865490779220826, 0.15961889942815186, -1.3333726822348566, 1.1327929908574716, 0.9323994817667811, 0.8781861783420609, 0.4258312216824622, 0.184765648399281, 1.4127175065965483, -0.3149227569070981, 1.7875646053870913, -0.32153823963965555, -0.7336263230223534, 0.7106434791872638, 0.8221580678457779, -0.18558945623858983, 0.014532410664550953, 0.23872371157000524, -0.59857147901833, 0.3986462918472986, 2.0321153149162865, 0.8117698571455573, -0.182631194036948, -1.3126419770359992, 0.36305968944590755, -0.3013920056363782, -0.020992257594953705, 1.1357872671683529, 0.34357829775070503, 0.7086087498303637, -1.0654903760938452, -2.127892426111429, -1.9046459417236148, 1.2615109699419345, 0.20560838857817026, 0.71553292417279, 0.8681682632263046, -1.2480596809007782, 1.1350512753157898, 1.5772897712551457, -0.27083882024362194, 1.1611875558292228, 0.3286992706731436, -1.0104289060073812, 0.9091112461958866, 0.5391726612901728, 1.2179237595890724, -0.266793172253868, -1.3858154051929708, 1.0452100765125638, -0.18949981247838665, 0.38895297810936746, -0.471150542147248, -0.5612200876784867, 1.2364932033739167, 0.05173350941622971, -0.12531773119277226, -0.45583181579914794, -0.20875339000605891, 0.41337105193109486, 0.47497323407704783, 1.5525240753577163, -0.39478096530052115, -0.5051241445190399, -0.05999337196035063, 1.8335216860381667, -1.3745718699693346, 0.6851202099603381, -0.14231412036974544, -0.43453298653845807, 1.1508972650806257, -0.46531891451338786, -1.6015654182344203, 0.6223184723736553, -1.8146174110609687, 0.6005520327739572, 0.9891276742411553, -0.6082056906180006, 0.04219230838207431, 0.2319882092998644, 1.7596715244484464, -0.3921437275950398, -0.2539035335128537, 1.2157545278679762, -0.9097204124625297, -1.45541171333866, 0.3176978981834575, -1.735791818030721, 1.6948588195955128, -0.10045834508724857, -1.0547295014732274, -1.1224759633796744, 0.516283076719954, 0.6671538388438046, 1.2792807333727898, -0.7431406952863383, -1.2045511301122294, -0.44667993228638553, 1.2178714330345133, 0.035854186130113284, -0.001858971349799774, 0.880771908894144, 0.4687490414248188, -0.9023551435097549, 0.5869856203328039, 1.1335786930684175, -0.30988757109710685, -0.9379631593198019, 1.4971134070476972, -0.29600950043758223, 0.6453655213101794, -1.1841614804355631, 0.5893155816132565, 1.0919519694728823, 0.6462544998640922, -0.40821787857214453, 0.4922811816131356, -0.3930537571596278, -0.5607966035962276, 1.574578484187142, 0.2170357295027871, -0.093350585634769, 1.0468563224579792, 0.043755805951180844, 0.4243200602903922, -1.190161266201254, 1.0834211251886536, 0.27975596289567534, 0.6711312830546944, 0.960321022599783, 0.4093434543447717, 1.1939776398257183, -0.1549651994200666, 1.881082106912246, 0.9068430678169774, 1.7735489846771173, 2.043375480797897, -1.8863551592208712, -1.6777350690326798, -0.40748469954152305, 1.764302937860561, 0.415138377590415, -0.3520952004288169, -1.4667822205537666, -0.8639092065343608, 0.2582423915719395, 0.5194838083691237, -0.6452894712092545, 0.9241097576767474, 0.006570817580399589, 0.08595502972962273, 0.09047497605814889, -0.028629740633360604, 0.15108277119018163, -0.6328385390903614, 0.812946139403585, -1.1097050328070748, 0.05725172849924997, 0.5211075219433975, -1.2220259656138626, -0.29142161528377286, 0.9930147127787614, -0.889031567428748, -0.03377607904268508, 0.5023677179431876, -0.17085616796003628, 0.1826591170069521, 0.9209452124799695, -2.5037310027958712, 0.7314826263453028, -0.7255356439558144, -0.1952040564605791, -0.6459694023819459, 0.8010818863694966, 1.232062135543431, -2.170021775782455, 0.7489355149673175, -0.13376995632736766, 0.5002326747308118, 2.3133427927956722, -1.1805383093106, 0.18250296675353572, -0.6004455102019159, -0.5757628211394172, 0.8941108284486916, 1.5989573752482418, 0.4849246209099532, 1.6592261740017313, 0.8120726780584429, 0.029681984200695267, 0.8261400027969784, -0.848722844822244, 0.9982652614868014, 0.42352477931632176, 0.5550090139503092, 1.1912683117955256, 0.045395474171227294, 1.049611220064665, -0.423955900147146, 2.1185683813644505, -1.1976685627677695, 0.5510295063741103, 0.6096924300491551, -1.20685936481678, 0.7115871371680988, -0.15528672022024076, 0.4350091774462449, 0.9854785046508017, 1.9001844153306229, -0.12220368365084507, 0.7571072778352488, 1.263581670420464, 0.3749916729895746, 0.5830896698228296, -1.5128000517206068, -0.4315451434997901, -0.18767420503848808, -0.892727315103137, 0.1459128354711354, 1.5880607660555917, 2.7679991319966013, -0.5666956498916065, 0.40996430814232626, -0.40172898714869504, 0.8714363488325031, -0.13754861328836482, 0.21892949467059628, 2.785953474674921, 1.0962659219770923, 1.5150666570595444, 0.18876209989180903, 0.6773608519290508, 0.024164645457916883, 0.9546683960022032, 1.1751616941391911, -0.102082721037682, 1.0597819114696887, -0.5836115789506804, 0.6124169473101331, -1.4996607725242665, -2.1204812232998185, -1.5456625438865097, -0.7347965294651926, 0.476327644097612, 1.975751715614723, -0.8482610224585325, 0.14053305439335959, -0.7869816063090764, -1.435692340842013, -0.5112886226124334, -2.043327789259978, 0.1344157912824331, -0.02358809067687668, -1.9973006197233178, -1.2337057512005205, -1.1489874502911628, -0.3118516589382267, -0.02207796973602677, -0.6085795215778906, -0.620295811190066, -0.2981436057988727, 0.21637146503986024, 0.8140247705644897, -1.4903273269292403, -0.7430772930696325, 0.3095405749506489, -1.3409772887125515, 0.17769417159276932, 0.04301698914795583, -1.5488892961367986, 0.21762910335411753, -1.1947891324409454, 1.8383845324212136, -0.7238981447638237, 0.06356368740580068, -0.8718882997223693, 1.3503298316806964, 0.7174606832816951, 0.5095568054512032, -1.5239278967602026, 0.12351591537667803, 0.4644915388282979, 0.7112310831991426, -1.2423057480814017, 1.3318742678560307, 0.2424718567341062, 0.964534675529062, -1.6507356620229585, -0.22770015223880177, -0.28798548379130845, -0.680953247588703, 0.16406061257199703, 1.3622267064724176, -1.259006269387451, 1.8697543657829558, 0.6255915017321172, -1.0748945769417597, -0.6917472980165743, -0.730349527457001, 0.2333441609780808, -1.1551459888228435, 0.953535750969793, 1.117516569407786, -0.6486453627135274, 0.4962402034627174, 0.5519447810199574, -0.15597848486979707, -0.06568526547075827, -0.28904723072130484, -0.6496190827730559, -0.8731795461264897, 0.19031410367111487, -0.08395972590340826, 0.492250500818893, 0.2585838321906747, 2.2361877335274425, 0.6359217598462881, 0.9127745044864607], \"y\": [0.16657307968882493, -0.45208374202141227, 0.041692492576188324, -0.35882631021114253, 0.10258983729369181, -0.010748059468602597, 1.3871484689696838, -0.7947300067927893, -0.6615509666594109, 0.7280661204431288, 0.32140885599643637, 1.0331426075282746, 1.3294412638539015, 0.49672986711299094, -0.9861326524606245, 0.6944134163164065, 1.8055526908270485, 0.5857705916895801, -0.4012518639706665, -0.8043869138962587, -0.9376746570478539, -1.3466818822681064, -1.0931525820119348, 0.4542123470838164, -1.0135910426438943, 0.11074900184467566, 0.0020150656243422263, 0.6321826638322607, 0.5791939067390126, -0.2755481178603882, -3.0970281177979824, -1.4044352342484965, -0.9525569421641655, -0.7235323332252122, 0.6490709458292815, -0.3715302866589, 1.062941950446856, -0.1644950398685041, -0.5732493809252188, 0.5343090022784546, -0.28691855905287983, -0.7043425965683848, 0.7208860614956757, 0.025989088233176166, 0.5546108077084291, -0.675042150598907, -0.46357648875580015, 0.8485486691452028, -0.45956196832232693, -0.1533785477123367, 1.1129758209848715, -0.31698683770238917, 1.0476691700419138, 0.6598040200665614, -0.40395542800623896, 1.1162517365008875, -1.0462797477916073, 1.1652677332669885, 0.9136746083886437, -1.0247102769601724, 1.6064515582802081, 0.5389875496190311, 0.5278541937967864, -0.5340448787672516, -1.3932497394114642, 0.6756924732219135, -1.4261960384924175, 1.1087724790124334, 1.1397542466371793, -0.7432473339168675, 1.5643708731911246, -0.7396605372039433, -1.2076147147369003, -2.1512181434835838, 1.4020890604658827, 0.4894389169244639, 1.1122829014864661, -1.1577130207582114, 0.4222104578232169, 2.0646778593964275, 1.5940407145091384, 1.0627123027519527, 2.1353226576520368, -0.05744014958559845, -0.5448894835585583, -0.3551593711715004, 1.4602785119709216, 0.20992758875069817, -0.675858038519277, -0.5697593200036734, -0.9186580501783441, 0.21431622309946394, 0.2540070076046409, -0.5457560814376915, -0.15362217726466904, -1.6637247138974878, -0.876457385581837, -1.3396195720774613, 2.362980904500335, 1.5829704539180445, -0.3994057408090721, 0.5344812815239358, 1.092466272728163, -0.2116804824200502, 0.18227192885671603, 0.8093035197098841, 0.48153660615902744, 0.9497139516766984, -1.237207126559871, 0.41981874958446525, 0.7527038133314, -1.198687677187657, -2.4575036876017218, 0.8286156284516174, -0.47312188263669874, 0.14440348498754166, 1.511793417759232, -0.5875916387650113, -0.906873270436058, -1.0637443071866037, -0.6682471302347293, 0.06763906888720626, -0.36940689116692527, -0.7932880698884738, 0.38700399131016816, -0.43849244907397217, 2.3776974046843, 0.5902270886244315, 0.08872886227241907, 1.3502385959234575, -0.3288500633787089, -0.6806075716304931, -1.6929760764859463, -0.2216418515477174, -1.651426954162039, 0.22322666569308022, -2.0359817340919966, 0.4451121799311073, -0.8542683653655431, -1.2370972011889927, 0.7564491523975617, -0.21026371062147212, 1.0844918283043679, -0.7610169409970263, -0.1613749497552705, 0.12984715250509563, 0.44717045690755064, -0.22240016725361042, 0.1430712700555462, 1.3414880495440191, 0.34284656363852006, 0.16369905114900546, -0.8858912659528657, 0.46598674702905724, -1.8866209155349978, 0.7865616611683368, 0.003196834945632236, 1.3854869956592035, 0.14174843129039413, -0.9458423662038817, 1.2292183377821624, 0.4806502086140553, -1.699978105037222, -0.9064391673249196, 0.9139591244828157, -0.5835204387732579, -0.33289743237332825, 1.2382641554563316, -0.5667665877560417, -0.9273521918399981, -0.36092898594811607, 0.555611311096918, -0.6757323708039293, -1.1180052977836832, 0.26193880659284163, -0.7263459589661275, 0.6501824205897345, 1.6655938166891362, 0.8989550862035939, -0.8593891256766539, -1.5961491063401705, -0.8922777444666934, 0.17434531719642468, -1.9780051022973344, 1.344348596935446, -1.3324010865389135, 0.570540052865273, -1.4494032245056168, 0.7241164069527376, 0.7649192316197799, -0.3877541005777836, 0.41875196831714173, -1.5904913080427636, -0.480206598698517, 0.011262343604799602, -1.6070297689949224, 0.1951782046613019, 1.566626400978367, -1.1575450008593426, -0.6070181767256565, 0.824259842804887, -0.7491799797233877, -2.2955064480034775, -0.13417958753587061, 1.3092810134963482, 2.0736540396530385, 0.6159906796868749, 2.1842989728733557, -1.483157803683383, 0.9299589194198669, 0.5318594231618349, -0.2148752827457884, 1.648376102293878, -1.0361526028037795, -1.4301754858261735, -0.29629797938710584, 0.8958897766277334, -0.8231271394116426, -0.5419723486763337, -0.6476139621292691, -0.5515171262807471, 1.7343040207723839, -1.1431372491663512, -0.547165506737979, -0.34773561062535, -1.274616750317957, 1.522038010165523, -0.4230666538270312, -0.027355028458158695, -1.0330134162745777, -0.08570384552624107, -1.7162489451880856, -1.332788242962533, -0.4573314451450232, -0.7860965495204875, -0.08208089314355825, 0.3927494694757405, -0.3484515214193697, 0.34498748135395185, 2.4084482218742758, 0.7026058794575357, -0.42157680224421784, 1.1798243629198584, 0.008387997851442903, -0.9680538473682748, 0.6034857751303893, -2.0959106408541732, 0.6987442509634164, -0.2585417188731686, 0.357429296375905, 1.4829682759866931, 0.30762483162914367, 1.398975588822748, -0.25912707152495323, 0.8010749326553376, -0.36569789102369454, -0.7928717306983745, 0.38386012342310794, -0.8028173646143082, 0.7787092253533002, -1.3877174782449535, -0.1432165014603427, 0.2068956348196149, 1.7541898731405339, 0.20532872582912018, -0.4267676574604123, 0.45993610147352343, -1.9666568624197962, -0.8061887520201476, 0.6448509662341941, 0.6547542194136597, -0.4318822040675996, 0.9403264312091221, 1.8525270966856118, -0.3644896703684982, 0.09898971384570111, -0.6303541280063112, 0.5261164017014864, 1.3583903457398214, -0.22123264299590106, -0.35889257372008615, -0.4305122409375915, -0.777923922552346, -0.4163262411160491, -1.2008833817796662, 0.8964532918312415, 0.5461247086298091, -0.26731521592763996, -1.303527217137951, -0.6485532552067893, -0.39826275535050787, -1.7041335515102016, -0.48728270565187753, -0.5146243613083006, 0.242124956595043, -3.0786630819826013, 0.23390426098584355, 0.460403737289808, -0.3067389910233786, -0.16569572466816887, -0.1369665747106241, -0.9092175793668102, 0.3205538356348488, -0.772637445905839, -0.6643328577546163, 0.3397874505907303, 0.12876853989709722, -0.880166090745483, -1.076655275879828, -0.23060372248409428, -1.436414330401778, -1.3014775540028123, 1.4062149373608805, 1.2099071025104264, 1.387638536772456, -1.259939213523836, -1.9240873411224677, 1.6972466505115003, 0.19111124791539766, -0.5012727785905084, 0.41726091127387066, 0.9798555595421591, 0.10131970517526145, 1.926531440142772, -0.0873354887501695, -0.22487911175108655, 0.3795723398032099, 2.0999708272663504, -0.8557286441020103, -1.7711816181476863, -0.5034839405575117, -0.5054868894145039, 0.04849728819602422, -0.2860913096330363, -1.6121924843751732, 1.4977146791806621, 0.808649042112307, 1.1961086590637704, 0.0446575530144317, -1.2843312677915057, -1.480723810997466, 0.15249208513367682, 1.4279753421975687, 0.012101963023260996, -0.6047560785167307, 0.5619600474806472, -0.5886104032255584, 0.7999774858491042, -1.502027145037889, -1.1060728724704991, 1.1729771472099693, 0.16827157765512682, -1.625202389961396, 0.7842685839694791, 0.02469348725630764, 0.2385379328201624, -0.29538642075308524, -0.1315799916855082, -1.1328142660875047, 0.23770945956945205, 1.8446044436365707, 3.2248103167679667, 0.0788219280790846, -1.4275755449861096, 0.7984109701245938, 0.9471007895781193, -0.2522164432597132, 1.3441084968884862, -1.5072809453408456, -0.36549116356726774, 0.43739095050563814, 0.9950986939602915, -0.8270653807019828, 2.2661475071766883, -0.6953683550650545, -0.3449657867430778, -0.47833759596058206, -2.296628465252478, 1.284873273051271, 0.07858993345808904, -1.0612053556634191, 0.5996137972162854, 0.40953886129121164, -0.4573952074157385, 0.7419526801456333, -0.22510237320967466, 0.4025638488680383, -0.30177767653090776, 0.8889191396594263, 0.9072893560130869, 0.7642281653136613, -1.4776200562748472, 0.7315677901875213, -0.4413236279891624, 0.6591574835318933, 0.0020820622789119022, 0.8685657522729772, 0.4834808322039025, 0.3026090070342236, -0.4555218629579487, -0.0726063468909992, -0.25978449750340576, -0.5237102612859642, 1.3726777033635456, -0.25889079171336055, 0.7461746174681378, 0.3877313358485933, 1.5687118235994273, 1.2486166574597608, -1.6083598322828456, 1.241697118704977, -0.31095906400464773, 0.3163946338717536, -0.5778629285498249, 0.08589359194747778, 1.881063281585978, 0.7397361970677856, 0.15002150719977186, -1.198325894810019, -0.2925020647512997, -1.3963602292690687, 1.3769608871592747, -0.19025086381554324, 0.5956436685244979, -1.9199271689993933, -0.9853948809651187, -1.377652754139233, -0.7982413657775274, -1.0509328333009142, -0.02543078765022518, 0.2864313992133678, -0.20477640557771667, -1.4443291848831923, -2.1118742317193147, 0.8179606767165215, 0.008244970339281846, -0.01591497469791214, -2.0435578111442836, -0.2163374248749704, 0.930445458032794, -1.3827300904438442, 1.1348239131420057, 0.2470636756172789, -0.17200808305495247, 0.023324655899916027, -0.7018450462419387, 0.055622333993656355, 0.19646666879202196, -0.7774486053614817, 1.4688513031197128, -0.5866290007304434, 0.4716328039656702, -0.5375209015246823, 0.2789272948977898, -2.095581488579212, -1.1717842187784002, 0.2521005224008118, 0.07824075326055242, -1.3659424722130178, -1.4037644474929056, 0.9448641679177742, 0.034510261585496575, 1.1004811131951018, 1.7557278574741193, -0.33713444594752046, -0.8489368225747768, -0.108151913597362, 0.27990625426633164, 0.4240467459188862, 0.39529557574783863, 0.8281512090647047, 0.2926933887408282, -0.6286138652167572, 0.7081138816007756, -0.03364498556822676, -0.4020003779967947, -0.7224918401646396, 1.3479326965162275, 1.0949981279883403, -1.3789275704496378, -0.9009803175492768, -1.4774843735386072, -1.2585844718415098, 0.9963556787040933, -0.49446753286109224, -0.2702971906384046, 0.6516978357148224, -0.773125395586952, -2.765072033991384, 1.3772658095235575, 0.1772657411668991, -1.335330378969198, -1.737802966507633, -0.9444357051079172, 2.372427970818628, -1.231161861560393, 0.7786134088104083, 0.020244119588442352, 0.2360631438921182, -1.0872845925059083, -0.30252457715585807, -1.3743120762263026, 1.0244335982417767, 0.013261817907236368, 0.5854416113886525, 0.11509074618538268, -0.948999033684943, -0.6561687938895583, 0.8986007202635329, -0.9566483265551479, -0.37475505644497015, 0.9378638663474015, -0.7036582105341399, -0.7319297725676953, 0.5606513900955576, 0.32365383167611567, -1.3920594272061138, -0.696592696986908, -0.5522203533950847, 0.44762561235334414, 3.0701772338513234, -1.2742010665606887, 1.0223469602002762, -0.7906423538278282, 1.228834367563678, 0.7788904873315808, -0.17881766444217798, 0.9983481278769409, -0.6076654684760453, 0.8035853843601588, -0.4326648662788687, -0.16904813628187806, -0.15200188145539648, 0.0399646608836267, -2.021724783818235, 0.16189462135163699, 0.6282445263299656, 0.9563590447802024, -0.7413704779957294, -0.8731918847270472, 0.48159056108916815, -0.0195524875588435, 0.69078998301944, 0.9632780559961143, -0.14726498386012385, -0.09752765573001855, 0.45764466004031107, -0.6121379471080541, 2.067546292648955, -1.3176932795333447, -0.04014975294402671, 0.5864577698557837, 1.5712799957830499, 0.42208174300764123, 1.1467286764941036, 1.3213755975327006, -0.9834799134128528, 0.7058341476166738, -1.043503399901734, -1.23339744428984, 0.7599706627735974, 1.072400221888102, 0.5218846068408214, -0.2200703428048899, 1.0648943653596405, -0.322872369226057, 0.4714600053436187, -0.7810065375233267, 0.7248296890843513, -2.2115993835323158, 0.00074223492377819, 0.059504429051692995, -0.4535397066423814, 0.8843434090108113, -0.2971249554744686, -1.0290584498026305, 0.13757146356904504, -0.7058155035188236, -1.0765861908085506, 1.4715071522932743, -1.7475612811501573, -0.33624411266585646, 1.729115561314672, -0.6078002019846956, 0.9866520329658012, 0.03462947421234651, 0.7904986797826365, 0.715216623966049, 1.1237881778811967, 0.2371816932939036, 0.5668063458867452, 1.4144846073331643, 0.39583801168276167, 0.7288228383413888, 0.4319395956287164, 0.8954434243515934, -0.013113263243887547, -0.9356514479535416, -0.16348326001622843, 0.3202481217369092, 0.5634219092732816, -0.23069213076573683, -1.0734361535389045, -1.772119075227092, 0.7394303546723203, -0.9685393312900933, -1.7421108529632605, -0.9285183844597089, -0.4031192119780388, -0.05539625801312633, 0.6011358639075214, 0.6446709081470282, 0.4857260615925726, 1.1052457612882483, 0.25493090850054506, -0.9298373710131024, 1.457783189949278, -0.8091351719559101, 0.8670185706313345, -0.8205036570853644, -1.0097355457287098, 0.35203914286653104, 0.6823784799588991, 0.5237652301637503, 1.308431382248214, -1.3310245662484728, -0.5834649747230714, -0.20228795947290842, 0.10345819207105025, 0.4798582254591865, 0.24981558884839794, 0.27523258922148497, 0.3211910391129144, -0.6344980894963803, 1.3361897422092683, -0.5539907127832054, 0.48969232657108386, -0.3632494823907942, 1.2915233498729752, 1.996214117688483, 1.2849367999172374, 2.20256500931262, 0.7654961584986386, -0.10171265864444912, 1.08478701838337, -0.7996116664000261, -1.0438009673994053, 0.5854415316078431, -0.8892654515967544, 1.069124383260737, -0.3405289563804088, -0.43993339447390206, -0.642385524390596, 1.0884028324579846, -1.2643628501914494, -0.09647878910128668, -0.15201301030817643, -0.32461339910795856, -1.8822272186680686, 2.9975710449978945, 0.7738515184618966, -0.21361986744202296, -0.11559750586370862, 0.33836174440734196, 0.6000856823816612, -0.24661308588585287, 0.2958085325381056, 1.3432901771159114, -0.042232311695020404, -1.0805978623223123, -0.6153523118984956, 0.9564183230794667, 0.4361806047215822, -0.06332441826584527, 0.9986979340952561, -1.8959953808462673, 0.9067892036170924, 0.771823767119719, 0.0017963070729192232, 0.8498488570820294, -0.2092966814490147, -0.05715652725087077, -0.10960404970543929, 0.13315804006605944, -0.3535502278050129, 0.011653994229433867, -1.0848659233972684, 1.3920677754105906, 0.4763614329045504, -0.3165188706738056, -0.49253592469958796, 1.3788922567457789, -0.4106687469216723, -0.7538534664694096, -1.6684947011565188, 2.0552046429853212, -1.453070442217196, -2.545821111938302, -0.5556328394510186, 0.48945833630148644, -0.8227574565885334, -0.1231304322612536, 0.08933310256952637, 1.7848850807323506, -1.3371759316358605, 0.4000754010492867, 0.929482691860598, -0.3833267656008631, 0.20791561257063976, -1.549946722114438, -0.8990833855535268, -1.3335924223885056, 0.015011556197731611, -0.8767090368112045, -2.395212963545296, -0.837337395505085, -1.1216506695542565, -0.33900412678371883, 1.9223600159573326, 0.24820103050075953, -1.7158118726304064, 0.5823714322690109, 0.8273454443024858, 0.025167719348272107, -1.128196452666861, 0.8739095773222763, -1.2987309788074513, 2.188754783080737, 1.2152578867174686, -0.2040355571677324, 2.168662750226124, -0.27375266664103576, 0.283475359653884, -0.0713377004824228, -0.022167035918931207, -0.08572389189251242, 0.258884045481481, -0.02212039771782311, -0.40331686891703367, 0.6582682321042069, -1.056501363981337, 0.6923022493226163, 0.2997911519152799, -0.8719821368032409, -1.0280855847232575, -1.0431612125544139, -1.0127255517402072, -0.8775292622735679, -0.04935612930192937, -2.177461054636354, 1.5705943523561956, 1.4482473756723528, 0.3176293224998406, -0.8876713058422209, 0.09828098283185376, -1.361752052379172, -1.0558796315026535, 0.42454494944285454, 0.37593769768950114, 0.13019548503374215, 0.706724335691875, -2.526508194445158, 0.12680990190162827, -0.7202512861884707, 0.36091931613119227, 1.2226794510289265, 0.3378738265991298, 0.266929629085206, 0.4098456536540297, -2.1692402637991366, -1.3889467608626918, -1.3414334593726662, -0.8782729502116747, 0.7804816411054006, -0.2226052279409938, 0.8065443090831014, -2.0430214819383776, 0.9687792693461792, 0.1254556390064913, 1.4089800349262214, -0.5293458403414381, 1.925845275125417, -0.2033103068797796, -1.3221997361255746, -0.046294615109913444, -2.3633293241380606, 0.45392842931326105, 0.2572928546065054, -0.5091216101223223, -1.7874773265028199, -0.44673731855209475, -0.6288016534974229, 0.32879935422941875, 0.5231922367735585, 0.1478120663408657, 0.010732658090254046, -0.13816977165822883, -1.311905650090953, 0.8047803357402039, 0.17543492635836824, 0.05449100229796003, -0.6445432828782152, 0.6569477027661513, 0.31109766100098984, -0.17795276921275577, 1.8571677444083226, -1.2242612890279405, -0.05278389321139707, 1.5499592266881619, 0.25666606070087844, 0.6678419547813318, 1.7235694718794876, 0.2536489682626098, 1.0055789017601906, -0.8883071587112076, 0.4484938191606828, 0.4802505187376137, 0.4679064972988108, -0.4212113434393831, 1.335856007326657, -1.5567955676733563, 0.7891443935154819, 0.16490127310195712, 1.2881926790381257, 0.5867698273013955, -0.4565372007831017, -0.24868077370358768, 0.10154038586371535, -0.9401233743097157, 1.2028376646814956, -0.6806210005875187, 0.3121305627934822, -2.5717340378534694, 2.4943477542923462, 0.13961648129875498, 0.9143214870393725, -0.46751952929674534, -0.858083441856182, -0.7175172888359065, -1.2333979612354662, 0.22380366979908178, -0.3891979254102891, -0.11271115168660574, 0.598926106947402, 0.20873483183598737, 1.022228066639977, 1.060618802975289, 0.09819309360702076, 0.6657829189097386, -0.6040652383828333, -1.1925116605629402, 1.6943469480344449, 0.742346891015303, 0.24310362444093095, -0.19981414602266498, -1.1365571341200424, 0.27711768588297386, 0.5654210366625796, 0.02315243018012605, -1.4673748787092096, -0.6645939893253265, 0.116653003334048, 0.9408636350062243, 0.2072130755214017, -0.6654191599268453, -1.2327441384746534, 0.26686369608456334, 0.008404362209543177, -0.2567696513242088, -0.28120722940958776, -0.8419994331951393, 0.18285668715068204, 0.11255290284616577, -1.6796033135209973, -1.050156134061419, -2.1605918979258787, -1.2827585165362085, 0.7327568449908031, 1.0021111949120758, -0.25954282126925843, -0.31808852639852353, 0.1380247322335438, 0.9401564402399042, -0.33725869485348453, 1.2623491620421332, -1.6642710265470992, -0.8458477860564853, -0.5750756377626407, -0.8007744644123954, -0.6114851708257367, -1.830063793278119, -0.6479669252690727, 0.3442513191724137, 0.16638065104738486, 0.2250653080558506, 1.8543374983276208, 0.8402318151104189, 0.3005410450713157, 1.5609556881714814, -2.0407832107727537, -0.7943137676940477, -0.0865909582091108, -0.018586628172286387, -1.251854443385432, 0.18374061967790112, -2.2291254163643504, 0.3325766070475626, -0.786240999180587, -0.1663507496270111, -2.2260805136642268, 2.1801211287117925, 1.483033790490154, -1.4714437702169503, -1.0789760709960514, 0.25774069517909276, 1.8242499212372183, -0.9998189330534046, -0.5022069071506191, -0.793471807761631, -1.3196629594636096, 0.2733378093240603, -0.5884690741395365, 0.1433671544802154, -1.3732782412305073, -0.4001141236870318, 0.06837574738031259, 0.32209814596770675, -0.570064537029649, -0.0011613976182627366, 0.5114265298305515, 0.6751787580161304, 1.1269737507208202, 0.14123497435384835, -0.16874609920966596, -2.176897856479034, 0.38116847845655377, 0.40055368721592044, -2.0488105518471005, 0.5944726238647786, 0.08439581409164905, 0.21631282679950367, -0.3698432983870564, 0.2205532850683464, -1.3606117314192374, -0.03920516248646646, 0.669912636392072, 1.2750945747121416, -1.7673427648204019, -0.0927411619473803, -1.3665940985134166, 0.7027346392839422, 0.9749765618853898, -1.7298763834419433, -0.883272449344546, 0.9137981724477467, 1.4154237448139488, -0.19518540587817662, 0.2324755155397737, -1.0139550518510745, 0.16852042025060585, -0.18577727666502933, 0.1937161198215624, -0.6088635295859454, 2.07719826204805, 1.0454978736091505, -0.3668761650221109, 0.6790509701156783, 1.049192514471435, -0.6467962599622298, 0.25770442101165336, 1.832647664232719, 0.11830448562773109, 1.2110663782371585, -0.9557473549105421, 0.8620717461612404, 1.4573809524392238, 0.1373248808321232, -1.2761537268348466, 0.6779627655132193, -0.4019359345602569, -0.6129964628620315, 0.2643367185572531, 0.5629130960208911, 0.18933403860125478, -0.1946661424497585, 0.3027487683508936, -0.9629468899292853, -1.258337284041577, 1.0743429045587922, -0.48515819873903954, 1.2004692951261688, -0.457364524988313, 1.7163880875756747, -0.8481871475564103, 1.3863313000340702, 0.4887998451083775, 0.22627061549982128, -0.41769195213164734, 1.2369690185490705, -0.5127052516387388]}],                        {\"template\": {\"data\": {\"bar\": [{\"error_x\": {\"color\": \"#2a3f5f\"}, \"error_y\": {\"color\": \"#2a3f5f\"}, \"marker\": {\"line\": {\"color\": \"#E5ECF6\", \"width\": 0.5}}, \"type\": \"bar\"}], \"barpolar\": [{\"marker\": {\"line\": {\"color\": \"#E5ECF6\", \"width\": 0.5}}, \"type\": \"barpolar\"}], \"carpet\": [{\"aaxis\": {\"endlinecolor\": \"#2a3f5f\", \"gridcolor\": \"white\", \"linecolor\": \"white\", \"minorgridcolor\": \"white\", \"startlinecolor\": \"#2a3f5f\"}, \"baxis\": {\"endlinecolor\": \"#2a3f5f\", \"gridcolor\": \"white\", \"linecolor\": \"white\", \"minorgridcolor\": \"white\", \"startlinecolor\": \"#2a3f5f\"}, \"type\": \"carpet\"}], \"choropleth\": [{\"colorbar\": {\"outlinewidth\": 0, \"ticks\": \"\"}, \"type\": \"choropleth\"}], \"contour\": [{\"colorbar\": {\"outlinewidth\": 0, \"ticks\": \"\"}, \"colorscale\": [[0.0, \"#0d0887\"], [0.1111111111111111, \"#46039f\"], [0.2222222222222222, \"#7201a8\"], [0.3333333333333333, \"#9c179e\"], [0.4444444444444444, \"#bd3786\"], [0.5555555555555556, \"#d8576b\"], [0.6666666666666666, \"#ed7953\"], [0.7777777777777778, \"#fb9f3a\"], [0.8888888888888888, \"#fdca26\"], [1.0, \"#f0f921\"]], \"type\": \"contour\"}], \"contourcarpet\": [{\"colorbar\": {\"outlinewidth\": 0, \"ticks\": \"\"}, \"type\": \"contourcarpet\"}], \"heatmap\": [{\"colorbar\": {\"outlinewidth\": 0, \"ticks\": \"\"}, \"colorscale\": [[0.0, \"#0d0887\"], [0.1111111111111111, \"#46039f\"], [0.2222222222222222, \"#7201a8\"], [0.3333333333333333, \"#9c179e\"], [0.4444444444444444, \"#bd3786\"], [0.5555555555555556, \"#d8576b\"], [0.6666666666666666, \"#ed7953\"], [0.7777777777777778, \"#fb9f3a\"], [0.8888888888888888, \"#fdca26\"], [1.0, \"#f0f921\"]], \"type\": \"heatmap\"}], \"heatmapgl\": [{\"colorbar\": {\"outlinewidth\": 0, \"ticks\": \"\"}, \"colorscale\": [[0.0, \"#0d0887\"], [0.1111111111111111, \"#46039f\"], [0.2222222222222222, \"#7201a8\"], [0.3333333333333333, \"#9c179e\"], [0.4444444444444444, \"#bd3786\"], [0.5555555555555556, \"#d8576b\"], [0.6666666666666666, \"#ed7953\"], [0.7777777777777778, \"#fb9f3a\"], [0.8888888888888888, \"#fdca26\"], [1.0, \"#f0f921\"]], \"type\": \"heatmapgl\"}], \"histogram\": [{\"marker\": {\"colorbar\": {\"outlinewidth\": 0, \"ticks\": \"\"}}, \"type\": \"histogram\"}], \"histogram2d\": [{\"colorbar\": {\"outlinewidth\": 0, \"ticks\": \"\"}, \"colorscale\": [[0.0, \"#0d0887\"], [0.1111111111111111, \"#46039f\"], [0.2222222222222222, \"#7201a8\"], [0.3333333333333333, \"#9c179e\"], [0.4444444444444444, \"#bd3786\"], [0.5555555555555556, \"#d8576b\"], [0.6666666666666666, \"#ed7953\"], [0.7777777777777778, \"#fb9f3a\"], [0.8888888888888888, \"#fdca26\"], [1.0, \"#f0f921\"]], \"type\": \"histogram2d\"}], \"histogram2dcontour\": [{\"colorbar\": {\"outlinewidth\": 0, \"ticks\": \"\"}, \"colorscale\": [[0.0, \"#0d0887\"], [0.1111111111111111, \"#46039f\"], [0.2222222222222222, \"#7201a8\"], [0.3333333333333333, \"#9c179e\"], [0.4444444444444444, \"#bd3786\"], [0.5555555555555556, \"#d8576b\"], [0.6666666666666666, \"#ed7953\"], [0.7777777777777778, \"#fb9f3a\"], [0.8888888888888888, \"#fdca26\"], [1.0, \"#f0f921\"]], \"type\": \"histogram2dcontour\"}], \"mesh3d\": [{\"colorbar\": {\"outlinewidth\": 0, \"ticks\": \"\"}, \"type\": \"mesh3d\"}], \"parcoords\": [{\"line\": {\"colorbar\": {\"outlinewidth\": 0, \"ticks\": \"\"}}, \"type\": \"parcoords\"}], \"pie\": [{\"automargin\": true, \"type\": \"pie\"}], \"scatter\": [{\"marker\": {\"colorbar\": {\"outlinewidth\": 0, \"ticks\": \"\"}}, \"type\": \"scatter\"}], \"scatter3d\": [{\"line\": {\"colorbar\": {\"outlinewidth\": 0, \"ticks\": \"\"}}, \"marker\": {\"colorbar\": {\"outlinewidth\": 0, \"ticks\": \"\"}}, \"type\": \"scatter3d\"}], \"scattercarpet\": [{\"marker\": {\"colorbar\": {\"outlinewidth\": 0, \"ticks\": \"\"}}, \"type\": \"scattercarpet\"}], \"scattergeo\": [{\"marker\": {\"colorbar\": {\"outlinewidth\": 0, \"ticks\": \"\"}}, \"type\": \"scattergeo\"}], \"scattergl\": [{\"marker\": {\"colorbar\": {\"outlinewidth\": 0, \"ticks\": \"\"}}, \"type\": \"scattergl\"}], \"scattermapbox\": [{\"marker\": {\"colorbar\": {\"outlinewidth\": 0, \"ticks\": \"\"}}, \"type\": \"scattermapbox\"}], \"scatterpolar\": [{\"marker\": {\"colorbar\": {\"outlinewidth\": 0, \"ticks\": \"\"}}, \"type\": \"scatterpolar\"}], \"scatterpolargl\": [{\"marker\": {\"colorbar\": {\"outlinewidth\": 0, \"ticks\": \"\"}}, \"type\": \"scatterpolargl\"}], \"scatterternary\": [{\"marker\": {\"colorbar\": {\"outlinewidth\": 0, \"ticks\": \"\"}}, \"type\": \"scatterternary\"}], \"surface\": [{\"colorbar\": {\"outlinewidth\": 0, \"ticks\": \"\"}, \"colorscale\": [[0.0, \"#0d0887\"], [0.1111111111111111, \"#46039f\"], [0.2222222222222222, \"#7201a8\"], [0.3333333333333333, \"#9c179e\"], [0.4444444444444444, \"#bd3786\"], [0.5555555555555556, \"#d8576b\"], [0.6666666666666666, \"#ed7953\"], [0.7777777777777778, \"#fb9f3a\"], [0.8888888888888888, \"#fdca26\"], [1.0, \"#f0f921\"]], \"type\": \"surface\"}], \"table\": [{\"cells\": {\"fill\": {\"color\": \"#EBF0F8\"}, \"line\": {\"color\": \"white\"}}, \"header\": {\"fill\": {\"color\": \"#C8D4E3\"}, \"line\": {\"color\": \"white\"}}, \"type\": \"table\"}]}, \"layout\": {\"annotationdefaults\": {\"arrowcolor\": \"#2a3f5f\", \"arrowhead\": 0, \"arrowwidth\": 1}, \"autotypenumbers\": \"strict\", \"coloraxis\": {\"colorbar\": {\"outlinewidth\": 0, \"ticks\": \"\"}}, \"colorscale\": {\"diverging\": [[0, \"#8e0152\"], [0.1, \"#c51b7d\"], [0.2, \"#de77ae\"], [0.3, \"#f1b6da\"], [0.4, \"#fde0ef\"], [0.5, \"#f7f7f7\"], [0.6, \"#e6f5d0\"], [0.7, \"#b8e186\"], [0.8, \"#7fbc41\"], [0.9, \"#4d9221\"], [1, \"#276419\"]], \"sequential\": [[0.0, \"#0d0887\"], [0.1111111111111111, \"#46039f\"], [0.2222222222222222, \"#7201a8\"], [0.3333333333333333, \"#9c179e\"], [0.4444444444444444, \"#bd3786\"], [0.5555555555555556, \"#d8576b\"], [0.6666666666666666, \"#ed7953\"], [0.7777777777777778, \"#fb9f3a\"], [0.8888888888888888, \"#fdca26\"], [1.0, \"#f0f921\"]], \"sequentialminus\": [[0.0, \"#0d0887\"], [0.1111111111111111, \"#46039f\"], [0.2222222222222222, \"#7201a8\"], [0.3333333333333333, \"#9c179e\"], [0.4444444444444444, \"#bd3786\"], [0.5555555555555556, \"#d8576b\"], [0.6666666666666666, \"#ed7953\"], [0.7777777777777778, \"#fb9f3a\"], [0.8888888888888888, \"#fdca26\"], [1.0, \"#f0f921\"]]}, \"colorway\": [\"#636efa\", \"#EF553B\", \"#00cc96\", \"#ab63fa\", \"#FFA15A\", \"#19d3f3\", \"#FF6692\", \"#B6E880\", \"#FF97FF\", \"#FECB52\"], \"font\": {\"color\": \"#2a3f5f\"}, \"geo\": {\"bgcolor\": \"white\", \"lakecolor\": \"white\", \"landcolor\": \"#E5ECF6\", \"showlakes\": true, \"showland\": true, \"subunitcolor\": \"white\"}, \"hoverlabel\": {\"align\": \"left\"}, \"hovermode\": \"closest\", \"mapbox\": {\"style\": \"light\"}, \"paper_bgcolor\": \"white\", \"plot_bgcolor\": \"#E5ECF6\", \"polar\": {\"angularaxis\": {\"gridcolor\": \"white\", \"linecolor\": \"white\", \"ticks\": \"\"}, \"bgcolor\": \"#E5ECF6\", \"radialaxis\": {\"gridcolor\": \"white\", \"linecolor\": \"white\", \"ticks\": \"\"}}, \"scene\": {\"xaxis\": {\"backgroundcolor\": \"#E5ECF6\", \"gridcolor\": \"white\", \"gridwidth\": 2, \"linecolor\": \"white\", \"showbackground\": true, \"ticks\": \"\", \"zerolinecolor\": \"white\"}, \"yaxis\": {\"backgroundcolor\": \"#E5ECF6\", \"gridcolor\": \"white\", \"gridwidth\": 2, \"linecolor\": \"white\", \"showbackground\": true, \"ticks\": \"\", \"zerolinecolor\": \"white\"}, \"zaxis\": {\"backgroundcolor\": \"#E5ECF6\", \"gridcolor\": \"white\", \"gridwidth\": 2, \"linecolor\": \"white\", \"showbackground\": true, \"ticks\": \"\", \"zerolinecolor\": \"white\"}}, \"shapedefaults\": {\"line\": {\"color\": \"#2a3f5f\"}}, \"ternary\": {\"aaxis\": {\"gridcolor\": \"white\", \"linecolor\": \"white\", \"ticks\": \"\"}, \"baxis\": {\"gridcolor\": \"white\", \"linecolor\": \"white\", \"ticks\": \"\"}, \"bgcolor\": \"#E5ECF6\", \"caxis\": {\"gridcolor\": \"white\", \"linecolor\": \"white\", \"ticks\": \"\"}}, \"title\": {\"x\": 0.05}, \"xaxis\": {\"automargin\": true, \"gridcolor\": \"white\", \"linecolor\": \"white\", \"ticks\": \"\", \"title\": {\"standoff\": 15}, \"zerolinecolor\": \"white\", \"zerolinewidth\": 2}, \"yaxis\": {\"automargin\": true, \"gridcolor\": \"white\", \"linecolor\": \"white\", \"ticks\": \"\", \"title\": {\"standoff\": 15}, \"zerolinecolor\": \"white\", \"zerolinewidth\": 2}}}},                        {\"responsive\": true}                    ).then(function(){\n",
       "                            \n",
       "var gd = document.getElementById('48e0fa63-5eac-4b4b-a576-8bb9f6418ed1');\n",
       "var x = new MutationObserver(function (mutations, observer) {{\n",
       "        var display = window.getComputedStyle(gd).display;\n",
       "        if (!display || display === 'none') {{\n",
       "            console.log([gd, 'removed!']);\n",
       "            Plotly.purge(gd);\n",
       "            observer.disconnect();\n",
       "        }}\n",
       "}});\n",
       "\n",
       "// Listen for the removal of the full notebook cells\n",
       "var notebookContainer = gd.closest('#notebook-container');\n",
       "if (notebookContainer) {{\n",
       "    x.observe(notebookContainer, {childList: true});\n",
       "}}\n",
       "\n",
       "// Listen for the clearing of the current output cell\n",
       "var outputEl = gd.closest('.output');\n",
       "if (outputEl) {{\n",
       "    x.observe(outputEl, {childList: true});\n",
       "}}\n",
       "\n",
       "                        })                };                });            </script>        </div>"
      ]
     },
     "metadata": {},
     "output_type": "display_data"
    }
   ],
   "source": [
    "#import plotly.plotly as py\n",
    "import plotly.graph_objs as go\n",
    "\n",
    "import numpy as np\n",
    "\n",
    "N = 1000\n",
    "random_x = np.random.randn(N)\n",
    "random_y = np.random.randn(N)\n",
    "\n",
    "trace = go.Scatter(x = random_x,\n",
    "                   y = random_y,\n",
    "                   mode = 'markers')\n",
    "\n",
    "data = [trace]\n",
    "\n",
    "plotly.offline.iplot(data, filename = 'basic-scatter')"
   ]
  },
  {
   "cell_type": "code",
   "execution_count": 61,
   "metadata": {},
   "outputs": [
    {
     "data": {
      "text/plain": [
       "'basic-scatter.html'"
      ]
     },
     "execution_count": 61,
     "metadata": {},
     "output_type": "execute_result"
    }
   ],
   "source": [
    "#將圖片以html方式呈現\n",
    "plotly.offline.plot(data, filename = 'basic-scatter')"
   ]
  },
  {
   "cell_type": "code",
   "execution_count": 63,
   "metadata": {},
   "outputs": [
    {
     "data": {
      "application/vnd.plotly.v1+json": {
       "config": {
        "linkText": "Export to plot.ly",
        "plotlyServerURL": "https://plot.ly",
        "showLink": false
       },
       "data": [
        {
         "mode": "markers",
         "name": "setosa",
         "type": "scatter",
         "x": [
          5.1,
          4.9,
          4.7,
          4.6,
          5,
          5.4,
          4.6,
          5,
          4.4,
          4.9,
          5.4,
          4.8,
          4.8,
          4.3,
          5.8,
          5.7,
          5.4,
          5.1,
          5.7,
          5.1,
          5.4,
          5.1,
          4.6,
          5.1,
          4.8,
          5,
          5,
          5.2,
          5.2,
          4.7,
          4.8,
          5.4,
          5.2,
          5.5,
          4.9,
          5,
          5.5,
          4.9,
          4.4,
          5.1,
          5,
          4.5,
          4.4,
          5,
          5.1,
          4.8,
          5.1,
          4.6,
          5.3,
          5
         ],
         "y": [
          0.2,
          0.2,
          0.2,
          0.2,
          0.2,
          0.4,
          0.3,
          0.2,
          0.2,
          0.1,
          0.2,
          0.2,
          0.1,
          0.1,
          0.2,
          0.4,
          0.4,
          0.3,
          0.3,
          0.3,
          0.2,
          0.4,
          0.2,
          0.5,
          0.2,
          0.2,
          0.4,
          0.2,
          0.2,
          0.2,
          0.2,
          0.4,
          0.1,
          0.2,
          0.2,
          0.2,
          0.2,
          0.1,
          0.2,
          0.2,
          0.3,
          0.3,
          0.2,
          0.6,
          0.4,
          0.3,
          0.2,
          0.2,
          0.2,
          0.2
         ]
        },
        {
         "mode": "markers",
         "name": "versicolor",
         "type": "scatter",
         "x": [
          7,
          6.4,
          6.9,
          5.5,
          6.5,
          5.7,
          6.3,
          4.9,
          6.6,
          5.2,
          5,
          5.9,
          6,
          6.1,
          5.6,
          6.7,
          5.6,
          5.8,
          6.2,
          5.6,
          5.9,
          6.1,
          6.3,
          6.1,
          6.4,
          6.6,
          6.8,
          6.7,
          6,
          5.7,
          5.5,
          5.5,
          5.8,
          6,
          5.4,
          6,
          6.7,
          6.3,
          5.6,
          5.5,
          5.5,
          6.1,
          5.8,
          5,
          5.6,
          5.7,
          5.7,
          6.2,
          5.1,
          5.7
         ],
         "y": [
          1.4,
          1.5,
          1.5,
          1.3,
          1.5,
          1.3,
          1.6,
          1,
          1.3,
          1.4,
          1,
          1.5,
          1,
          1.4,
          1.3,
          1.4,
          1.5,
          1,
          1.5,
          1.1,
          1.8,
          1.3,
          1.5,
          1.2,
          1.3,
          1.4,
          1.4,
          1.7,
          1.5,
          1,
          1.1,
          1,
          1.2,
          1.6,
          1.5,
          1.6,
          1.5,
          1.3,
          1.3,
          1.3,
          1.2,
          1.4,
          1.2,
          1,
          1.3,
          1.2,
          1.3,
          1.3,
          1.1,
          1.3
         ]
        },
        {
         "mode": "markers",
         "name": "virginica",
         "type": "scatter",
         "x": [
          6.3,
          5.8,
          7.1,
          6.3,
          6.5,
          7.6,
          4.9,
          7.3,
          6.7,
          7.2,
          6.5,
          6.4,
          6.8,
          5.7,
          5.8,
          6.4,
          6.5,
          7.7,
          7.7,
          6,
          6.9,
          5.6,
          7.7,
          6.3,
          6.7,
          7.2,
          6.2,
          6.1,
          6.4,
          7.2,
          7.4,
          7.9,
          6.4,
          6.3,
          6.1,
          7.7,
          6.3,
          6.4,
          6,
          6.9,
          6.7,
          6.9,
          5.8,
          6.8,
          6.7,
          6.7,
          6.3,
          6.5,
          6.2,
          5.9
         ],
         "y": [
          2.5,
          1.9,
          2.1,
          1.8,
          2.2,
          2.1,
          1.7,
          1.8,
          1.8,
          2.5,
          2,
          1.9,
          2.1,
          2,
          2.4,
          2.3,
          1.8,
          2.2,
          2.3,
          1.5,
          2.3,
          2,
          2,
          1.8,
          2.1,
          1.8,
          1.8,
          1.8,
          2.1,
          1.6,
          1.9,
          2,
          2.2,
          1.5,
          1.4,
          2.3,
          2.4,
          1.8,
          1.8,
          2.1,
          2.4,
          2.3,
          1.9,
          2.3,
          2.5,
          2.3,
          1.9,
          2,
          2.3,
          1.8
         ]
        }
       ],
       "layout": {
        "template": {
         "data": {
          "bar": [
           {
            "error_x": {
             "color": "#2a3f5f"
            },
            "error_y": {
             "color": "#2a3f5f"
            },
            "marker": {
             "line": {
              "color": "#E5ECF6",
              "width": 0.5
             }
            },
            "type": "bar"
           }
          ],
          "barpolar": [
           {
            "marker": {
             "line": {
              "color": "#E5ECF6",
              "width": 0.5
             }
            },
            "type": "barpolar"
           }
          ],
          "carpet": [
           {
            "aaxis": {
             "endlinecolor": "#2a3f5f",
             "gridcolor": "white",
             "linecolor": "white",
             "minorgridcolor": "white",
             "startlinecolor": "#2a3f5f"
            },
            "baxis": {
             "endlinecolor": "#2a3f5f",
             "gridcolor": "white",
             "linecolor": "white",
             "minorgridcolor": "white",
             "startlinecolor": "#2a3f5f"
            },
            "type": "carpet"
           }
          ],
          "choropleth": [
           {
            "colorbar": {
             "outlinewidth": 0,
             "ticks": ""
            },
            "type": "choropleth"
           }
          ],
          "contour": [
           {
            "colorbar": {
             "outlinewidth": 0,
             "ticks": ""
            },
            "colorscale": [
             [
              0,
              "#0d0887"
             ],
             [
              0.1111111111111111,
              "#46039f"
             ],
             [
              0.2222222222222222,
              "#7201a8"
             ],
             [
              0.3333333333333333,
              "#9c179e"
             ],
             [
              0.4444444444444444,
              "#bd3786"
             ],
             [
              0.5555555555555556,
              "#d8576b"
             ],
             [
              0.6666666666666666,
              "#ed7953"
             ],
             [
              0.7777777777777778,
              "#fb9f3a"
             ],
             [
              0.8888888888888888,
              "#fdca26"
             ],
             [
              1,
              "#f0f921"
             ]
            ],
            "type": "contour"
           }
          ],
          "contourcarpet": [
           {
            "colorbar": {
             "outlinewidth": 0,
             "ticks": ""
            },
            "type": "contourcarpet"
           }
          ],
          "heatmap": [
           {
            "colorbar": {
             "outlinewidth": 0,
             "ticks": ""
            },
            "colorscale": [
             [
              0,
              "#0d0887"
             ],
             [
              0.1111111111111111,
              "#46039f"
             ],
             [
              0.2222222222222222,
              "#7201a8"
             ],
             [
              0.3333333333333333,
              "#9c179e"
             ],
             [
              0.4444444444444444,
              "#bd3786"
             ],
             [
              0.5555555555555556,
              "#d8576b"
             ],
             [
              0.6666666666666666,
              "#ed7953"
             ],
             [
              0.7777777777777778,
              "#fb9f3a"
             ],
             [
              0.8888888888888888,
              "#fdca26"
             ],
             [
              1,
              "#f0f921"
             ]
            ],
            "type": "heatmap"
           }
          ],
          "heatmapgl": [
           {
            "colorbar": {
             "outlinewidth": 0,
             "ticks": ""
            },
            "colorscale": [
             [
              0,
              "#0d0887"
             ],
             [
              0.1111111111111111,
              "#46039f"
             ],
             [
              0.2222222222222222,
              "#7201a8"
             ],
             [
              0.3333333333333333,
              "#9c179e"
             ],
             [
              0.4444444444444444,
              "#bd3786"
             ],
             [
              0.5555555555555556,
              "#d8576b"
             ],
             [
              0.6666666666666666,
              "#ed7953"
             ],
             [
              0.7777777777777778,
              "#fb9f3a"
             ],
             [
              0.8888888888888888,
              "#fdca26"
             ],
             [
              1,
              "#f0f921"
             ]
            ],
            "type": "heatmapgl"
           }
          ],
          "histogram": [
           {
            "marker": {
             "colorbar": {
              "outlinewidth": 0,
              "ticks": ""
             }
            },
            "type": "histogram"
           }
          ],
          "histogram2d": [
           {
            "colorbar": {
             "outlinewidth": 0,
             "ticks": ""
            },
            "colorscale": [
             [
              0,
              "#0d0887"
             ],
             [
              0.1111111111111111,
              "#46039f"
             ],
             [
              0.2222222222222222,
              "#7201a8"
             ],
             [
              0.3333333333333333,
              "#9c179e"
             ],
             [
              0.4444444444444444,
              "#bd3786"
             ],
             [
              0.5555555555555556,
              "#d8576b"
             ],
             [
              0.6666666666666666,
              "#ed7953"
             ],
             [
              0.7777777777777778,
              "#fb9f3a"
             ],
             [
              0.8888888888888888,
              "#fdca26"
             ],
             [
              1,
              "#f0f921"
             ]
            ],
            "type": "histogram2d"
           }
          ],
          "histogram2dcontour": [
           {
            "colorbar": {
             "outlinewidth": 0,
             "ticks": ""
            },
            "colorscale": [
             [
              0,
              "#0d0887"
             ],
             [
              0.1111111111111111,
              "#46039f"
             ],
             [
              0.2222222222222222,
              "#7201a8"
             ],
             [
              0.3333333333333333,
              "#9c179e"
             ],
             [
              0.4444444444444444,
              "#bd3786"
             ],
             [
              0.5555555555555556,
              "#d8576b"
             ],
             [
              0.6666666666666666,
              "#ed7953"
             ],
             [
              0.7777777777777778,
              "#fb9f3a"
             ],
             [
              0.8888888888888888,
              "#fdca26"
             ],
             [
              1,
              "#f0f921"
             ]
            ],
            "type": "histogram2dcontour"
           }
          ],
          "mesh3d": [
           {
            "colorbar": {
             "outlinewidth": 0,
             "ticks": ""
            },
            "type": "mesh3d"
           }
          ],
          "parcoords": [
           {
            "line": {
             "colorbar": {
              "outlinewidth": 0,
              "ticks": ""
             }
            },
            "type": "parcoords"
           }
          ],
          "pie": [
           {
            "automargin": true,
            "type": "pie"
           }
          ],
          "scatter": [
           {
            "marker": {
             "colorbar": {
              "outlinewidth": 0,
              "ticks": ""
             }
            },
            "type": "scatter"
           }
          ],
          "scatter3d": [
           {
            "line": {
             "colorbar": {
              "outlinewidth": 0,
              "ticks": ""
             }
            },
            "marker": {
             "colorbar": {
              "outlinewidth": 0,
              "ticks": ""
             }
            },
            "type": "scatter3d"
           }
          ],
          "scattercarpet": [
           {
            "marker": {
             "colorbar": {
              "outlinewidth": 0,
              "ticks": ""
             }
            },
            "type": "scattercarpet"
           }
          ],
          "scattergeo": [
           {
            "marker": {
             "colorbar": {
              "outlinewidth": 0,
              "ticks": ""
             }
            },
            "type": "scattergeo"
           }
          ],
          "scattergl": [
           {
            "marker": {
             "colorbar": {
              "outlinewidth": 0,
              "ticks": ""
             }
            },
            "type": "scattergl"
           }
          ],
          "scattermapbox": [
           {
            "marker": {
             "colorbar": {
              "outlinewidth": 0,
              "ticks": ""
             }
            },
            "type": "scattermapbox"
           }
          ],
          "scatterpolar": [
           {
            "marker": {
             "colorbar": {
              "outlinewidth": 0,
              "ticks": ""
             }
            },
            "type": "scatterpolar"
           }
          ],
          "scatterpolargl": [
           {
            "marker": {
             "colorbar": {
              "outlinewidth": 0,
              "ticks": ""
             }
            },
            "type": "scatterpolargl"
           }
          ],
          "scatterternary": [
           {
            "marker": {
             "colorbar": {
              "outlinewidth": 0,
              "ticks": ""
             }
            },
            "type": "scatterternary"
           }
          ],
          "surface": [
           {
            "colorbar": {
             "outlinewidth": 0,
             "ticks": ""
            },
            "colorscale": [
             [
              0,
              "#0d0887"
             ],
             [
              0.1111111111111111,
              "#46039f"
             ],
             [
              0.2222222222222222,
              "#7201a8"
             ],
             [
              0.3333333333333333,
              "#9c179e"
             ],
             [
              0.4444444444444444,
              "#bd3786"
             ],
             [
              0.5555555555555556,
              "#d8576b"
             ],
             [
              0.6666666666666666,
              "#ed7953"
             ],
             [
              0.7777777777777778,
              "#fb9f3a"
             ],
             [
              0.8888888888888888,
              "#fdca26"
             ],
             [
              1,
              "#f0f921"
             ]
            ],
            "type": "surface"
           }
          ],
          "table": [
           {
            "cells": {
             "fill": {
              "color": "#EBF0F8"
             },
             "line": {
              "color": "white"
             }
            },
            "header": {
             "fill": {
              "color": "#C8D4E3"
             },
             "line": {
              "color": "white"
             }
            },
            "type": "table"
           }
          ]
         },
         "layout": {
          "annotationdefaults": {
           "arrowcolor": "#2a3f5f",
           "arrowhead": 0,
           "arrowwidth": 1
          },
          "autotypenumbers": "strict",
          "coloraxis": {
           "colorbar": {
            "outlinewidth": 0,
            "ticks": ""
           }
          },
          "colorscale": {
           "diverging": [
            [
             0,
             "#8e0152"
            ],
            [
             0.1,
             "#c51b7d"
            ],
            [
             0.2,
             "#de77ae"
            ],
            [
             0.3,
             "#f1b6da"
            ],
            [
             0.4,
             "#fde0ef"
            ],
            [
             0.5,
             "#f7f7f7"
            ],
            [
             0.6,
             "#e6f5d0"
            ],
            [
             0.7,
             "#b8e186"
            ],
            [
             0.8,
             "#7fbc41"
            ],
            [
             0.9,
             "#4d9221"
            ],
            [
             1,
             "#276419"
            ]
           ],
           "sequential": [
            [
             0,
             "#0d0887"
            ],
            [
             0.1111111111111111,
             "#46039f"
            ],
            [
             0.2222222222222222,
             "#7201a8"
            ],
            [
             0.3333333333333333,
             "#9c179e"
            ],
            [
             0.4444444444444444,
             "#bd3786"
            ],
            [
             0.5555555555555556,
             "#d8576b"
            ],
            [
             0.6666666666666666,
             "#ed7953"
            ],
            [
             0.7777777777777778,
             "#fb9f3a"
            ],
            [
             0.8888888888888888,
             "#fdca26"
            ],
            [
             1,
             "#f0f921"
            ]
           ],
           "sequentialminus": [
            [
             0,
             "#0d0887"
            ],
            [
             0.1111111111111111,
             "#46039f"
            ],
            [
             0.2222222222222222,
             "#7201a8"
            ],
            [
             0.3333333333333333,
             "#9c179e"
            ],
            [
             0.4444444444444444,
             "#bd3786"
            ],
            [
             0.5555555555555556,
             "#d8576b"
            ],
            [
             0.6666666666666666,
             "#ed7953"
            ],
            [
             0.7777777777777778,
             "#fb9f3a"
            ],
            [
             0.8888888888888888,
             "#fdca26"
            ],
            [
             1,
             "#f0f921"
            ]
           ]
          },
          "colorway": [
           "#636efa",
           "#EF553B",
           "#00cc96",
           "#ab63fa",
           "#FFA15A",
           "#19d3f3",
           "#FF6692",
           "#B6E880",
           "#FF97FF",
           "#FECB52"
          ],
          "font": {
           "color": "#2a3f5f"
          },
          "geo": {
           "bgcolor": "white",
           "lakecolor": "white",
           "landcolor": "#E5ECF6",
           "showlakes": true,
           "showland": true,
           "subunitcolor": "white"
          },
          "hoverlabel": {
           "align": "left"
          },
          "hovermode": "closest",
          "mapbox": {
           "style": "light"
          },
          "paper_bgcolor": "white",
          "plot_bgcolor": "#E5ECF6",
          "polar": {
           "angularaxis": {
            "gridcolor": "white",
            "linecolor": "white",
            "ticks": ""
           },
           "bgcolor": "#E5ECF6",
           "radialaxis": {
            "gridcolor": "white",
            "linecolor": "white",
            "ticks": ""
           }
          },
          "scene": {
           "xaxis": {
            "backgroundcolor": "#E5ECF6",
            "gridcolor": "white",
            "gridwidth": 2,
            "linecolor": "white",
            "showbackground": true,
            "ticks": "",
            "zerolinecolor": "white"
           },
           "yaxis": {
            "backgroundcolor": "#E5ECF6",
            "gridcolor": "white",
            "gridwidth": 2,
            "linecolor": "white",
            "showbackground": true,
            "ticks": "",
            "zerolinecolor": "white"
           },
           "zaxis": {
            "backgroundcolor": "#E5ECF6",
            "gridcolor": "white",
            "gridwidth": 2,
            "linecolor": "white",
            "showbackground": true,
            "ticks": "",
            "zerolinecolor": "white"
           }
          },
          "shapedefaults": {
           "line": {
            "color": "#2a3f5f"
           }
          },
          "ternary": {
           "aaxis": {
            "gridcolor": "white",
            "linecolor": "white",
            "ticks": ""
           },
           "baxis": {
            "gridcolor": "white",
            "linecolor": "white",
            "ticks": ""
           },
           "bgcolor": "#E5ECF6",
           "caxis": {
            "gridcolor": "white",
            "linecolor": "white",
            "ticks": ""
           }
          },
          "title": {
           "x": 0.05
          },
          "xaxis": {
           "automargin": true,
           "gridcolor": "white",
           "linecolor": "white",
           "ticks": "",
           "title": {
            "standoff": 15
           },
           "zerolinecolor": "white",
           "zerolinewidth": 2
          },
          "yaxis": {
           "automargin": true,
           "gridcolor": "white",
           "linecolor": "white",
           "ticks": "",
           "title": {
            "standoff": 15
           },
           "zerolinecolor": "white",
           "zerolinewidth": 2
          }
         }
        }
       }
      },
      "text/html": [
       "<div>                            <div id=\"1ad38965-5f04-4cbc-b93a-acd524b540a5\" class=\"plotly-graph-div\" style=\"height:525px; width:100%;\"></div>            <script type=\"text/javascript\">                require([\"plotly\"], function(Plotly) {                    window.PLOTLYENV=window.PLOTLYENV || {};                                    if (document.getElementById(\"1ad38965-5f04-4cbc-b93a-acd524b540a5\")) {                    Plotly.newPlot(                        \"1ad38965-5f04-4cbc-b93a-acd524b540a5\",                        [{\"mode\": \"markers\", \"name\": \"setosa\", \"type\": \"scatter\", \"x\": [5.1, 4.9, 4.7, 4.6, 5.0, 5.4, 4.6, 5.0, 4.4, 4.9, 5.4, 4.8, 4.8, 4.3, 5.8, 5.7, 5.4, 5.1, 5.7, 5.1, 5.4, 5.1, 4.6, 5.1, 4.8, 5.0, 5.0, 5.2, 5.2, 4.7, 4.8, 5.4, 5.2, 5.5, 4.9, 5.0, 5.5, 4.9, 4.4, 5.1, 5.0, 4.5, 4.4, 5.0, 5.1, 4.8, 5.1, 4.6, 5.3, 5.0], \"y\": [0.2, 0.2, 0.2, 0.2, 0.2, 0.4, 0.3, 0.2, 0.2, 0.1, 0.2, 0.2, 0.1, 0.1, 0.2, 0.4, 0.4, 0.3, 0.3, 0.3, 0.2, 0.4, 0.2, 0.5, 0.2, 0.2, 0.4, 0.2, 0.2, 0.2, 0.2, 0.4, 0.1, 0.2, 0.2, 0.2, 0.2, 0.1, 0.2, 0.2, 0.3, 0.3, 0.2, 0.6, 0.4, 0.3, 0.2, 0.2, 0.2, 0.2]}, {\"mode\": \"markers\", \"name\": \"versicolor\", \"type\": \"scatter\", \"x\": [7.0, 6.4, 6.9, 5.5, 6.5, 5.7, 6.3, 4.9, 6.6, 5.2, 5.0, 5.9, 6.0, 6.1, 5.6, 6.7, 5.6, 5.8, 6.2, 5.6, 5.9, 6.1, 6.3, 6.1, 6.4, 6.6, 6.8, 6.7, 6.0, 5.7, 5.5, 5.5, 5.8, 6.0, 5.4, 6.0, 6.7, 6.3, 5.6, 5.5, 5.5, 6.1, 5.8, 5.0, 5.6, 5.7, 5.7, 6.2, 5.1, 5.7], \"y\": [1.4, 1.5, 1.5, 1.3, 1.5, 1.3, 1.6, 1.0, 1.3, 1.4, 1.0, 1.5, 1.0, 1.4, 1.3, 1.4, 1.5, 1.0, 1.5, 1.1, 1.8, 1.3, 1.5, 1.2, 1.3, 1.4, 1.4, 1.7, 1.5, 1.0, 1.1, 1.0, 1.2, 1.6, 1.5, 1.6, 1.5, 1.3, 1.3, 1.3, 1.2, 1.4, 1.2, 1.0, 1.3, 1.2, 1.3, 1.3, 1.1, 1.3]}, {\"mode\": \"markers\", \"name\": \"virginica\", \"type\": \"scatter\", \"x\": [6.3, 5.8, 7.1, 6.3, 6.5, 7.6, 4.9, 7.3, 6.7, 7.2, 6.5, 6.4, 6.8, 5.7, 5.8, 6.4, 6.5, 7.7, 7.7, 6.0, 6.9, 5.6, 7.7, 6.3, 6.7, 7.2, 6.2, 6.1, 6.4, 7.2, 7.4, 7.9, 6.4, 6.3, 6.1, 7.7, 6.3, 6.4, 6.0, 6.9, 6.7, 6.9, 5.8, 6.8, 6.7, 6.7, 6.3, 6.5, 6.2, 5.9], \"y\": [2.5, 1.9, 2.1, 1.8, 2.2, 2.1, 1.7, 1.8, 1.8, 2.5, 2.0, 1.9, 2.1, 2.0, 2.4, 2.3, 1.8, 2.2, 2.3, 1.5, 2.3, 2.0, 2.0, 1.8, 2.1, 1.8, 1.8, 1.8, 2.1, 1.6, 1.9, 2.0, 2.2, 1.5, 1.4, 2.3, 2.4, 1.8, 1.8, 2.1, 2.4, 2.3, 1.9, 2.3, 2.5, 2.3, 1.9, 2.0, 2.3, 1.8]}],                        {\"template\": {\"data\": {\"bar\": [{\"error_x\": {\"color\": \"#2a3f5f\"}, \"error_y\": {\"color\": \"#2a3f5f\"}, \"marker\": {\"line\": {\"color\": \"#E5ECF6\", \"width\": 0.5}}, \"type\": \"bar\"}], \"barpolar\": [{\"marker\": {\"line\": {\"color\": \"#E5ECF6\", \"width\": 0.5}}, \"type\": \"barpolar\"}], \"carpet\": [{\"aaxis\": {\"endlinecolor\": \"#2a3f5f\", \"gridcolor\": \"white\", \"linecolor\": \"white\", \"minorgridcolor\": \"white\", \"startlinecolor\": \"#2a3f5f\"}, \"baxis\": {\"endlinecolor\": \"#2a3f5f\", \"gridcolor\": \"white\", \"linecolor\": \"white\", \"minorgridcolor\": \"white\", \"startlinecolor\": \"#2a3f5f\"}, \"type\": \"carpet\"}], \"choropleth\": [{\"colorbar\": {\"outlinewidth\": 0, \"ticks\": \"\"}, \"type\": \"choropleth\"}], \"contour\": [{\"colorbar\": {\"outlinewidth\": 0, \"ticks\": \"\"}, \"colorscale\": [[0.0, \"#0d0887\"], [0.1111111111111111, \"#46039f\"], [0.2222222222222222, \"#7201a8\"], [0.3333333333333333, \"#9c179e\"], [0.4444444444444444, \"#bd3786\"], [0.5555555555555556, \"#d8576b\"], [0.6666666666666666, \"#ed7953\"], [0.7777777777777778, \"#fb9f3a\"], [0.8888888888888888, \"#fdca26\"], [1.0, \"#f0f921\"]], \"type\": \"contour\"}], \"contourcarpet\": [{\"colorbar\": {\"outlinewidth\": 0, \"ticks\": \"\"}, \"type\": \"contourcarpet\"}], \"heatmap\": [{\"colorbar\": {\"outlinewidth\": 0, \"ticks\": \"\"}, \"colorscale\": [[0.0, \"#0d0887\"], [0.1111111111111111, \"#46039f\"], [0.2222222222222222, \"#7201a8\"], [0.3333333333333333, \"#9c179e\"], [0.4444444444444444, \"#bd3786\"], [0.5555555555555556, \"#d8576b\"], [0.6666666666666666, \"#ed7953\"], [0.7777777777777778, \"#fb9f3a\"], [0.8888888888888888, \"#fdca26\"], [1.0, \"#f0f921\"]], \"type\": \"heatmap\"}], \"heatmapgl\": [{\"colorbar\": {\"outlinewidth\": 0, \"ticks\": \"\"}, \"colorscale\": [[0.0, \"#0d0887\"], [0.1111111111111111, \"#46039f\"], [0.2222222222222222, \"#7201a8\"], [0.3333333333333333, \"#9c179e\"], [0.4444444444444444, \"#bd3786\"], [0.5555555555555556, \"#d8576b\"], [0.6666666666666666, \"#ed7953\"], [0.7777777777777778, \"#fb9f3a\"], [0.8888888888888888, \"#fdca26\"], [1.0, \"#f0f921\"]], \"type\": \"heatmapgl\"}], \"histogram\": [{\"marker\": {\"colorbar\": {\"outlinewidth\": 0, \"ticks\": \"\"}}, \"type\": \"histogram\"}], \"histogram2d\": [{\"colorbar\": {\"outlinewidth\": 0, \"ticks\": \"\"}, \"colorscale\": [[0.0, \"#0d0887\"], [0.1111111111111111, \"#46039f\"], [0.2222222222222222, \"#7201a8\"], [0.3333333333333333, \"#9c179e\"], [0.4444444444444444, \"#bd3786\"], [0.5555555555555556, \"#d8576b\"], [0.6666666666666666, \"#ed7953\"], [0.7777777777777778, \"#fb9f3a\"], [0.8888888888888888, \"#fdca26\"], [1.0, \"#f0f921\"]], \"type\": \"histogram2d\"}], \"histogram2dcontour\": [{\"colorbar\": {\"outlinewidth\": 0, \"ticks\": \"\"}, \"colorscale\": [[0.0, \"#0d0887\"], [0.1111111111111111, \"#46039f\"], [0.2222222222222222, \"#7201a8\"], [0.3333333333333333, \"#9c179e\"], [0.4444444444444444, \"#bd3786\"], [0.5555555555555556, \"#d8576b\"], [0.6666666666666666, \"#ed7953\"], [0.7777777777777778, \"#fb9f3a\"], [0.8888888888888888, \"#fdca26\"], [1.0, \"#f0f921\"]], \"type\": \"histogram2dcontour\"}], \"mesh3d\": [{\"colorbar\": {\"outlinewidth\": 0, \"ticks\": \"\"}, \"type\": \"mesh3d\"}], \"parcoords\": [{\"line\": {\"colorbar\": {\"outlinewidth\": 0, \"ticks\": \"\"}}, \"type\": \"parcoords\"}], \"pie\": [{\"automargin\": true, \"type\": \"pie\"}], \"scatter\": [{\"marker\": {\"colorbar\": {\"outlinewidth\": 0, \"ticks\": \"\"}}, \"type\": \"scatter\"}], \"scatter3d\": [{\"line\": {\"colorbar\": {\"outlinewidth\": 0, \"ticks\": \"\"}}, \"marker\": {\"colorbar\": {\"outlinewidth\": 0, \"ticks\": \"\"}}, \"type\": \"scatter3d\"}], \"scattercarpet\": [{\"marker\": {\"colorbar\": {\"outlinewidth\": 0, \"ticks\": \"\"}}, \"type\": \"scattercarpet\"}], \"scattergeo\": [{\"marker\": {\"colorbar\": {\"outlinewidth\": 0, \"ticks\": \"\"}}, \"type\": \"scattergeo\"}], \"scattergl\": [{\"marker\": {\"colorbar\": {\"outlinewidth\": 0, \"ticks\": \"\"}}, \"type\": \"scattergl\"}], \"scattermapbox\": [{\"marker\": {\"colorbar\": {\"outlinewidth\": 0, \"ticks\": \"\"}}, \"type\": \"scattermapbox\"}], \"scatterpolar\": [{\"marker\": {\"colorbar\": {\"outlinewidth\": 0, \"ticks\": \"\"}}, \"type\": \"scatterpolar\"}], \"scatterpolargl\": [{\"marker\": {\"colorbar\": {\"outlinewidth\": 0, \"ticks\": \"\"}}, \"type\": \"scatterpolargl\"}], \"scatterternary\": [{\"marker\": {\"colorbar\": {\"outlinewidth\": 0, \"ticks\": \"\"}}, \"type\": \"scatterternary\"}], \"surface\": [{\"colorbar\": {\"outlinewidth\": 0, \"ticks\": \"\"}, \"colorscale\": [[0.0, \"#0d0887\"], [0.1111111111111111, \"#46039f\"], [0.2222222222222222, \"#7201a8\"], [0.3333333333333333, \"#9c179e\"], [0.4444444444444444, \"#bd3786\"], [0.5555555555555556, \"#d8576b\"], [0.6666666666666666, \"#ed7953\"], [0.7777777777777778, \"#fb9f3a\"], [0.8888888888888888, \"#fdca26\"], [1.0, \"#f0f921\"]], \"type\": \"surface\"}], \"table\": [{\"cells\": {\"fill\": {\"color\": \"#EBF0F8\"}, \"line\": {\"color\": \"white\"}}, \"header\": {\"fill\": {\"color\": \"#C8D4E3\"}, \"line\": {\"color\": \"white\"}}, \"type\": \"table\"}]}, \"layout\": {\"annotationdefaults\": {\"arrowcolor\": \"#2a3f5f\", \"arrowhead\": 0, \"arrowwidth\": 1}, \"autotypenumbers\": \"strict\", \"coloraxis\": {\"colorbar\": {\"outlinewidth\": 0, \"ticks\": \"\"}}, \"colorscale\": {\"diverging\": [[0, \"#8e0152\"], [0.1, \"#c51b7d\"], [0.2, \"#de77ae\"], [0.3, \"#f1b6da\"], [0.4, \"#fde0ef\"], [0.5, \"#f7f7f7\"], [0.6, \"#e6f5d0\"], [0.7, \"#b8e186\"], [0.8, \"#7fbc41\"], [0.9, \"#4d9221\"], [1, \"#276419\"]], \"sequential\": [[0.0, \"#0d0887\"], [0.1111111111111111, \"#46039f\"], [0.2222222222222222, \"#7201a8\"], [0.3333333333333333, \"#9c179e\"], [0.4444444444444444, \"#bd3786\"], [0.5555555555555556, \"#d8576b\"], [0.6666666666666666, \"#ed7953\"], [0.7777777777777778, \"#fb9f3a\"], [0.8888888888888888, \"#fdca26\"], [1.0, \"#f0f921\"]], \"sequentialminus\": [[0.0, \"#0d0887\"], [0.1111111111111111, \"#46039f\"], [0.2222222222222222, \"#7201a8\"], [0.3333333333333333, \"#9c179e\"], [0.4444444444444444, \"#bd3786\"], [0.5555555555555556, \"#d8576b\"], [0.6666666666666666, \"#ed7953\"], [0.7777777777777778, \"#fb9f3a\"], [0.8888888888888888, \"#fdca26\"], [1.0, \"#f0f921\"]]}, \"colorway\": [\"#636efa\", \"#EF553B\", \"#00cc96\", \"#ab63fa\", \"#FFA15A\", \"#19d3f3\", \"#FF6692\", \"#B6E880\", \"#FF97FF\", \"#FECB52\"], \"font\": {\"color\": \"#2a3f5f\"}, \"geo\": {\"bgcolor\": \"white\", \"lakecolor\": \"white\", \"landcolor\": \"#E5ECF6\", \"showlakes\": true, \"showland\": true, \"subunitcolor\": \"white\"}, \"hoverlabel\": {\"align\": \"left\"}, \"hovermode\": \"closest\", \"mapbox\": {\"style\": \"light\"}, \"paper_bgcolor\": \"white\", \"plot_bgcolor\": \"#E5ECF6\", \"polar\": {\"angularaxis\": {\"gridcolor\": \"white\", \"linecolor\": \"white\", \"ticks\": \"\"}, \"bgcolor\": \"#E5ECF6\", \"radialaxis\": {\"gridcolor\": \"white\", \"linecolor\": \"white\", \"ticks\": \"\"}}, \"scene\": {\"xaxis\": {\"backgroundcolor\": \"#E5ECF6\", \"gridcolor\": \"white\", \"gridwidth\": 2, \"linecolor\": \"white\", \"showbackground\": true, \"ticks\": \"\", \"zerolinecolor\": \"white\"}, \"yaxis\": {\"backgroundcolor\": \"#E5ECF6\", \"gridcolor\": \"white\", \"gridwidth\": 2, \"linecolor\": \"white\", \"showbackground\": true, \"ticks\": \"\", \"zerolinecolor\": \"white\"}, \"zaxis\": {\"backgroundcolor\": \"#E5ECF6\", \"gridcolor\": \"white\", \"gridwidth\": 2, \"linecolor\": \"white\", \"showbackground\": true, \"ticks\": \"\", \"zerolinecolor\": \"white\"}}, \"shapedefaults\": {\"line\": {\"color\": \"#2a3f5f\"}}, \"ternary\": {\"aaxis\": {\"gridcolor\": \"white\", \"linecolor\": \"white\", \"ticks\": \"\"}, \"baxis\": {\"gridcolor\": \"white\", \"linecolor\": \"white\", \"ticks\": \"\"}, \"bgcolor\": \"#E5ECF6\", \"caxis\": {\"gridcolor\": \"white\", \"linecolor\": \"white\", \"ticks\": \"\"}}, \"title\": {\"x\": 0.05}, \"xaxis\": {\"automargin\": true, \"gridcolor\": \"white\", \"linecolor\": \"white\", \"ticks\": \"\", \"title\": {\"standoff\": 15}, \"zerolinecolor\": \"white\", \"zerolinewidth\": 2}, \"yaxis\": {\"automargin\": true, \"gridcolor\": \"white\", \"linecolor\": \"white\", \"ticks\": \"\", \"title\": {\"standoff\": 15}, \"zerolinecolor\": \"white\", \"zerolinewidth\": 2}}}},                        {\"responsive\": true}                    ).then(function(){\n",
       "                            \n",
       "var gd = document.getElementById('1ad38965-5f04-4cbc-b93a-acd524b540a5');\n",
       "var x = new MutationObserver(function (mutations, observer) {{\n",
       "        var display = window.getComputedStyle(gd).display;\n",
       "        if (!display || display === 'none') {{\n",
       "            console.log([gd, 'removed!']);\n",
       "            Plotly.purge(gd);\n",
       "            observer.disconnect();\n",
       "        }}\n",
       "}});\n",
       "\n",
       "// Listen for the removal of the full notebook cells\n",
       "var notebookContainer = gd.closest('#notebook-container');\n",
       "if (notebookContainer) {{\n",
       "    x.observe(notebookContainer, {childList: true});\n",
       "}}\n",
       "\n",
       "// Listen for the clearing of the current output cell\n",
       "var outputEl = gd.closest('.output');\n",
       "if (outputEl) {{\n",
       "    x.observe(outputEl, {childList: true});\n",
       "}}\n",
       "\n",
       "                        })                };                });            </script>        </div>"
      ]
     },
     "metadata": {},
     "output_type": "display_data"
    }
   ],
   "source": [
    "trace0 = go.Scatter(x = iris_data[iris_data['target']==0]['sepal length (cm)'],\n",
    "                    y = iris_data[iris_data['target']==0]['petal width (cm)'],\n",
    "                    mode = 'markers',  #散佈圖\n",
    "                    name = 'setosa')\n",
    "trace1 = go.Scatter(x = iris_data[iris_data['target']==1]['sepal length (cm)'],\n",
    "                    y = iris_data[iris_data['target']==1]['petal width (cm)'],\n",
    "                    mode = 'markers',\n",
    "                    name = 'versicolor')\n",
    "trace2 = go.Scatter(x = iris_data[iris_data['target']==2]['sepal length (cm)'],\n",
    "                    y = iris_data[iris_data['target']==2]['petal width (cm)'],\n",
    "                    mode = 'markers',\n",
    "                    name = 'virginica')\n",
    "\n",
    "data = [trace0, trace1, trace2]\n",
    "plotly.offline.iplot(data, filename = 'basic-scatter')"
   ]
  },
  {
   "cell_type": "code",
   "execution_count": 64,
   "metadata": {},
   "outputs": [
    {
     "data": {
      "application/vnd.plotly.v1+json": {
       "config": {
        "linkText": "Export to plot.ly",
        "plotlyServerURL": "https://plot.ly",
        "showLink": false
       },
       "data": [
        {
         "marker": {
          "color": [
           0.2024454796085355,
           0.24288035773066535,
           0.8580069032150124,
           -1.6051443060746586,
           2.341386788686899,
           -0.08608072422791169,
           0.23950707299048793,
           -0.4476843614750411,
           -0.11943299846759595,
           -0.6410985313454779,
           -0.9607420593426207,
           -0.3808724982891385,
           -0.4313554335541372,
           0.7503566123035882,
           2.203358645158279,
           -0.7815332673870488,
           0.24585633451507982,
           -0.8167063992134881,
           0.20201417302645708,
           0.8796057909907976,
           -1.2792021243374263,
           -0.7929626462844529,
           1.0276983841415113,
           -1.1526240819806424,
           0.20997242481531325,
           -0.04805118007901696,
           0.731215015989362,
           0.44603010952939504,
           -0.41668261762536357,
           1.3892815045793916,
           1.1368512973820488,
           -1.1194650554386993,
           -0.6394590205827528,
           -0.5739012994364499,
           0.14014310395576113,
           -0.05642347558865123,
           0.23449552736265014,
           -1.0839685421142615,
           0.573381916673002,
           1.1177029595646975,
           -0.6839153050763439,
           -2.6412398697241075,
           0.17159245708038728,
           -0.19784369666750315,
           1.729968020137062,
           -0.663089472944576,
           0.6948209435099126,
           -1.801220331158707,
           -0.06208666631776225,
           0.3064493367608428,
           -0.7176369375769717,
           0.4801870547391584,
           -1.2238449834545286,
           0.6901818768149481,
           -1.2335663359488716,
           -0.17952180302595708,
           0.3658131036498786,
           0.3362709982721299,
           -0.9286010986862436,
           0.5523066848455221,
           -1.7458690188979515,
           -1.4887895620413139,
           -0.8035167315492701,
           0.6469906562687763,
           -1.7763346625865675,
           2.2783891250126342,
           -1.2562759223881912,
           2.1376806021790626,
           -0.33594165620324196,
           -1.6837657726765989,
           -0.42174138947204026,
           -0.858155036942706,
           -0.9273592081360285,
           -0.8054223733272217,
           -0.3168035135317946,
           0.005053142972165977,
           -1.4477255418288675,
           -0.2964115508179024,
           -2.331275760317459,
           0.1310686096257359,
           0.14144595559476436,
           -0.2994288076417745,
           0.37129561347285217,
           -0.6789045308261189,
           0.3004616427445333,
           -0.7432481792123696,
           0.667439775323184,
           0.7261988100123521,
           0.5165600177301508,
           2.133983387435206,
           -1.0618579508606245,
           0.1769389147673536,
           0.7770475922757046,
           -0.2297301109613631,
           -1.1795096609710436,
           1.4947793722646632,
           1.506234409410956,
           -0.999431133822164,
           2.0258989707184885,
           2.086055336752229,
           -1.3430330775435426,
           -0.6026650811622478,
           0.2677668280472505,
           0.618545760489814,
           -1.601509831084656,
           1.1089227530093793,
           -1.8404138479825753,
           -0.6289531140764597,
           1.567985246631232,
           0.32380359067134457,
           0.8293954957670147,
           -1.0972453247533347,
           -1.1587156857749117,
           -1.4607332606679349,
           0.3308605048306736,
           0.4261217433770476,
           -0.6708154097863329,
           0.7151249825020071,
           -0.2949689733473952,
           0.6588730549892132,
           0.5186929659462847,
           0.966690619628308,
           0.2495138213322667,
           0.09930828418964184,
           -1.582154209841533,
           0.15815850481042182,
           -1.7619857382137492,
           -0.6242555821484648,
           -1.1179366545893519,
           -0.4355842383747055,
           -0.4699026508459902,
           0.7458031270044709,
           0.5948298672292628,
           0.9113922338591232,
           -0.08237488747180255,
           0.14006646220452978,
           0.015393523286330283,
           1.8804796605638638,
           0.4082324731245307,
           -1.0936342293724473,
           -1.765476766049784,
           -1.848419494105177,
           -1.1568252651501671,
           -0.4934870561166054,
           0.10092808499565592,
           2.112194495030138,
           -0.12226192178030793,
           -1.2850541654434078,
           -2.6881416844488917,
           -0.23111008735986488,
           -0.5350147275137835,
           1.0025541925764205,
           -0.20798008461354,
           0.44243232254349185,
           -0.5213413493956957,
           -0.9320793861237368,
           1.2941894530222289,
           -0.8246689264077868,
           -0.11860916516373486,
           -0.47450362839228744,
           0.7761347252781569,
           -1.1330096214296455,
           2.367507783941265,
           0.12823701873845764,
           -0.9900672772860205,
           -1.211896043576319,
           0.31160430503674863,
           -1.5468687006986337,
           -0.5613130128779502,
           0.33436109247672025,
           -0.1156139822936332,
           -0.2475911561356197,
           0.05247425197953366,
           -0.19755589424959474,
           2.5285128773442236,
           -1.0760687715868638,
           0.2768577865696641,
           -0.031092804321462022,
           -0.800686866360207,
           -0.8100131095703038,
           0.26723915634875994,
           1.6926029125103805,
           1.0246096593421474,
           0.3443995100043377,
           0.9042272137679139,
           1.3958930473520317,
           0.04316627410999761,
           0.6366011481483793,
           -0.6062595791807543,
           -1.2934936099927072,
           -0.1555083450191526,
           -1.6838970145474756,
           0.43720421247398034,
           0.009318615988041444,
           0.9044219272192784,
           0.6104615636197318,
           -1.782585503097257,
           -2.473009827760291,
           0.8333085239566648,
           0.7408211260152955,
           0.2860093354287956,
           -2.418178167446804,
           -1.0073587748114752,
           -0.5934234906637473,
           0.25194689022310174,
           0.7177771554062721,
           -0.2926254277688627,
           -0.6575575252403623,
           -0.26565767540952556,
           -1.0682295925970797,
           1.9007750617812667,
           -1.0364164216476492,
           -1.012040925284238,
           0.005154203581391905,
           -0.44068624383701815,
           -0.9336935363614695,
           -0.03091374194873133,
           -0.7977408023184808,
           -0.7780532659508546,
           1.6808199304776303,
           -1.0000250110139597,
           -2.1817061106646976,
           -0.3510274444176532,
           -0.8176849087305603,
           0.9681560837155978,
           -1.6688139258949408,
           0.49823922729039016,
           -0.6984300114073161,
           -0.7171040357699189,
           0.1666778716858773,
           0.21572274517367176,
           2.170384321336475,
           0.9417440045199801,
           -0.8053135914935731,
           0.24369223504537507,
           0.1990287616635857,
           -2.4443638386964732,
           -0.4615266378351308,
           -0.08690464281960869,
           1.4406791194374708,
           0.34545571577952044,
           -0.48559583988530447,
           -1.6418182089206355,
           0.6991752333062965,
           1.117807219027912,
           1.2974992534209107,
           0.6141145108198746,
           -0.3764188663719469,
           -0.6531485337643682,
           0.4319103777672319,
           -1.9272402958413264,
           -0.7709326901511245,
           -0.33581579185127247,
           -0.27835017753457103,
           0.5130442763014861,
           -1.693553861044485,
           0.23142267389879273,
           0.4082651608654304,
           -0.3805805569736668,
           -0.2686300494864839,
           -0.5551428511166904,
           -2.1115866815518887,
           -0.8320923569070452,
           1.7495681486155539,
           0.4646784455596442,
           0.8649375316382334,
           -0.7184333333651326,
           -2.359574411707983,
           1.9649215206355328,
           -0.7285788386655123,
           1.0766164705466268,
           0.1965297546220071,
           0.268624933957204,
           -1.7056077139659311,
           0.10114613323971267,
           -0.18090301600975495,
           -1.3343957471476948,
           -0.9083004192539151,
           -0.4985488688570477,
           -2.032237377289457,
           0.5111747193619786,
           1.151498711143347,
           1.9188970168200885,
           0.9661277781330424,
           0.15642951249684361,
           -0.7031240607619753,
           -0.9352290363583527,
           0.14303822238587513,
           -0.024888872209743923,
           0.7385974257958856,
           0.611796365847259,
           -0.5461934333218621,
           -1.1860881049515337,
           -0.41360157254314334,
           -0.5890821108473187,
           0.9605533074863652,
           0.8511437446169405,
           0.14503207056119746,
           0.2636026776061841,
           1.9120353874121025,
           1.2808087106851689,
           0.5354807627924233,
           0.5460182951418363,
           0.14180942093976892,
           2.441544267067676,
           1.335225829075092,
           0.13766341232683676,
           0.8917900908038378,
           -0.9109057275443467,
           -0.05745276099419292,
           -0.3532664094134325,
           0.7781640011156574,
           0.2736674427640031,
           -0.6308761471160877,
           0.9167843951705993,
           0.25549599475648804,
           0.18132741884660836,
           -0.7976354494116233,
           0.1162278031474178,
           -0.1882561714668889,
           1.1522066658814814,
           -0.17828765043524322,
           1.6558341855433085,
           -0.6905624268750897,
           2.1531558311531818,
           0.03362302098187782,
           0.2693381081531708,
           0.13210118507856647,
           -1.7354964084833329,
           -0.17028315807711536,
           -3.297310810915479,
           -0.21860370856860656,
           -1.5562851838681078,
           -0.33963845077859983,
           -0.5780209702272073,
           -1.099296063961852,
           -0.11543306169008932,
           -0.9448986805936017,
           0.158522072723143,
           -0.574148113577886,
           -1.3504952050404697,
           0.0712610968256717,
           -0.6639609797654888,
           -1.078882324597295,
           -0.3786433630277698,
           -0.8814716951973447,
           -0.033920320718076054,
           0.31455237317102397,
           -0.074674439547017,
           -0.14985478528120608,
           -0.31042307923922097,
           -1.0933099441752894,
           0.33650505843754513,
           0.07701890733504721,
           -0.2994892344593881,
           -0.40729296646162383,
           0.3065702747064533,
           -1.1400278867731104,
           0.616376208408221,
           -1.236486251942453,
           0.9078095107968628,
           0.9412350767251791,
           -1.6590195055791772,
           0.20965443262478797,
           -1.5350394083066963,
           -1.7253134500466438,
           -0.6726195448458193,
           -1.0285816639516894,
           0.22008669468639722,
           -1.6387459620995266,
           -0.33405151770626146,
           0.05593329801057091,
           0.4401499435385711,
           -0.942695312792849,
           -0.7378471452112642,
           -0.44500875320225236,
           -0.8769845104948085,
           -1.4345164668119583,
           -0.0942557483410476,
           0.18023300819803545,
           -0.525444589713766,
           -1.148972229917473,
           0.06372697729957794,
           -1.264178979129733,
           -0.8887197708981927,
           -0.06424258417880843,
           1.8935387837324291,
           -2.098572808534038,
           0.5354114842366376,
           -0.4107725690336545,
           -0.319593490395818,
           0.6586807325988806,
           0.8712834742576319,
           1.4785825789924971,
           0.5154769099902305,
           1.1279384973636837,
           0.3871141443342285,
           -1.6070472353783694,
           -1.4711517840028203,
           -0.8393830087901101
          ],
          "colorscale": [
           [
            0,
            "#440154"
           ],
           [
            0.1111111111111111,
            "#482878"
           ],
           [
            0.2222222222222222,
            "#3e4989"
           ],
           [
            0.3333333333333333,
            "#31688e"
           ],
           [
            0.4444444444444444,
            "#26828e"
           ],
           [
            0.5555555555555556,
            "#1f9e89"
           ],
           [
            0.6666666666666666,
            "#35b779"
           ],
           [
            0.7777777777777778,
            "#6ece58"
           ],
           [
            0.8888888888888888,
            "#b5de2b"
           ],
           [
            1,
            "#fde725"
           ]
          ],
          "opacity": 0.8,
          "size": 12
         },
         "mode": "markers",
         "type": "scatter3d",
         "x": [
          0.2910189103786836,
          -0.15519088599550124,
          1.01150650196648,
          0.3695000179236485,
          -0.792741174261747,
          2.0805335721841547,
          0.8198638358918428,
          1.2534058908106667,
          -1.5514354508495196,
          0.9109685824561612,
          1.355446239705072,
          0.9220276049520364,
          0.3811259346640745,
          -0.09377440400609058,
          0.25774929755859627,
          0.9614682796458298,
          0.36920179822771343,
          -0.6397671400543197,
          -2.10445749323058,
          0.5366782603523869,
          -1.2219889092640877,
          0.1203497139498087,
          0.46144658311935627,
          0.9024767586409815,
          -0.5205004393771346,
          -0.25066681642623956,
          0.12983083340213689,
          0.5756368150829275,
          0.030205641249774692,
          0.35627480307806625,
          0.21808359312773407,
          1.9516499298291807,
          0.031454197500696,
          -1.025265372591754,
          0.1911439103150731,
          -1.6660014958524867,
          -0.3871749827813613,
          2.059810276870669,
          0.10745552796854746,
          -1.4916682229263605,
          0.03414899537415199,
          0.6755899529639595,
          0.45425845373505547,
          -0.40154787804674813,
          0.0012532980150569938,
          -1.2723684249149316,
          -0.5780213978509301,
          -1.8558527490905212,
          0.7767601399813565,
          0.9435031814687277,
          -1.013786526320771,
          -1.106413950720383,
          -1.600674803724271,
          0.08825000864313966,
          1.459687277167464,
          0.3348763672737735,
          -0.20474660278465381,
          0.9071282209201305,
          1.1015960377824652,
          -2.2491759992501654,
          1.2759128917554121,
          -0.8809555032318097,
          -1.4373601111089993,
          0.4372048265763209,
          1.3495199963337559,
          -1.996672342341273,
          0.917233166332423,
          -0.09614455291393546,
          -0.8619844077325949,
          0.10251163882266136,
          -1.15465248541131,
          0.2638700114274907,
          0.9743360689791832,
          1.039161722558673,
          -0.0828551244715905,
          0.686956896830892,
          -1.7111158023251112,
          -0.2867974491446994,
          -0.6834258079289138,
          -0.8923614684133607,
          -0.44110841227457576,
          0.9041739212350525,
          -0.16947846682621162,
          -0.2970850168861706,
          -0.7169988644784914,
          -0.42107100763009314,
          -0.7299632043558936,
          -0.5663842884054484,
          -0.6240370862951847,
          -1.350319563899944,
          -0.002283303397314073,
          -0.3043716640386528,
          0.0547911114981311,
          0.3265735295536326,
          -0.4230917384183751,
          0.4997694254878154,
          1.6097170776325873,
          -0.5495265891900698,
          -2.5820929045270002,
          1.2779135550610834,
          0.870602645117625,
          -1.0933171083947437,
          0.8065061381798856,
          -0.11349190315661532,
          -0.5934750334200414,
          0.011710808239534208,
          0.7087844586559533,
          -1.0834362785315392,
          0.16853696738106225,
          -0.12780667173953073,
          1.208721291919637,
          -0.6397129317126141,
          -1.3922664644860483,
          -0.9251893444111714,
          -0.530171815035456,
          -0.4605259406151571,
          1.345980173620759,
          0.2715388167122324,
          1.1195514130347142,
          -0.52956219356432,
          -1.3486093454225516,
          -1.7114073093720106,
          0.052665906357611925,
          -0.19531811876050467,
          0.2265217175312243,
          0.4352415791772754,
          0.20214457729630095,
          0.6709737074114752,
          0.12242233115286537,
          -1.6318587961199515,
          0.6848943663685474,
          -0.6430801165431239,
          -0.5077710044484788,
          0.5010780319170992,
          -0.41736661068660774,
          -0.4453330199538429,
          0.13234911616342548,
          0.18939827506004137,
          0.1332911813653802,
          -1.910155534908834,
          -0.4600614506250767,
          -1.2423884057662025,
          -1.1073449966887239,
          1.0175542589710753,
          -0.6495866536943427,
          -0.341560066525086,
          -0.5719626287004302,
          -0.11389869085615634,
          -1.7006838991212294,
          -0.5465890019040955,
          0.8316375612439879,
          1.027314623731856,
          0.15369994308093363,
          -2.0062835487350834,
          0.8524613941853721,
          0.11597065456757912,
          -0.1941220898927514,
          -0.31660390364166974,
          0.3323991817400047,
          -0.6831655196021632,
          0.18496598039242984,
          -1.3138887862505069,
          0.49300263301318503,
          0.7774619300847676,
          -0.24815213757796556,
          -1.8634433701058706,
          -0.2429897689800808,
          0.6772738891031767,
          -0.4793349805108619,
          -0.44195164176128654,
          1.4754415483702457,
          0.629371088182905,
          0.36617525317483857,
          -0.6544391900324753,
          -0.40491739594226983,
          0.4161237558332358,
          1.0057136643611806,
          0.9316185696917064,
          0.7661883696328329,
          1.3304887475625737,
          -1.0153802828398995,
          -1.874087922061233,
          -2.1542499919069518,
          1.3161798234080238,
          -0.2552744861714479,
          -0.10777674700695372,
          -0.8421075603618855,
          0.19059556866001373,
          2.7890479163361346,
          0.19130240153757486,
          -0.1160160074706727,
          0.433124218526592,
          -0.21159301703523403,
          0.04855588336467662,
          -0.5542324915480129,
          1.175183298632312,
          0.021206450007955645,
          -2.3460068742287787,
          -0.5513991583064816,
          0.12955891716603082,
          -0.9915851964871265,
          -0.2921869972975707,
          -2.027844055458378,
          2.656415275199345,
          -0.5633613222693934,
          -1.07604048795575,
          2.644652928772393,
          1.0398033635274906,
          1.2745941131445977,
          -0.36091870376958657,
          1.8059637011289367,
          0.4686656340258041,
          1.3672930434606934,
          0.7085840155382668,
          1.5058532798674065,
          2.709132449406489,
          0.25381655233074785,
          -0.9795184148121205,
          -0.5727996260899705,
          0.30289464487020906,
          1.0538473763385021,
          -0.5195841973254824,
          -0.7950917590087375,
          -0.3126593022874755,
          -0.03756832041461683,
          0.5307235796968257,
          -0.4204608781207693,
          0.3873044087096335,
          0.643661957705288,
          -1.4804873374043923,
          0.12435841121280916,
          1.879536640440937,
          0.019055676029005687,
          -0.11185526610433956,
          0.28454110998769294,
          -0.24144483600248134,
          -0.46319125873771094,
          1.0201569268536046,
          0.4262419443646775,
          1.0952803717750736,
          0.6748937582942818,
          0.22229972247523275,
          0.7219100639650151,
          -1.9304982462091023,
          -0.16204698533849324,
          -0.47202742126358543,
          0.7369501970028487,
          0.20631814890566808,
          -0.1085847927541772,
          0.7163603066671542,
          1.1081472261695915,
          1.7613562285948912,
          -0.23771171579381087,
          1.5575273315827813,
          1.2208806820902678,
          -0.5055711018156419,
          0.1398407158199834,
          1.6737733696833068,
          0.5902418324486395,
          -1.354220393107195,
          0.1981653548616623,
          0.7428480670648311,
          -1.3005935712774936,
          -0.5726294149705826,
          -1.636653300168305,
          -0.024060245673622065,
          1.222600706666361,
          -0.2413364881202377,
          -2.497240921334158,
          -0.7762320139050066,
          -0.3707574613918778,
          -2.0405812836553876,
          0.029180172139666394,
          -0.1615308915621725,
          1.2992385146904681,
          -1.5258914377586683,
          0.8964856285104404,
          0.0002629273228579825,
          0.8102119896423224,
          -1.118565567667181,
          0.13720382267661368,
          -0.4838084889015972,
          0.8922322869338825,
          -0.7694257047722362,
          -0.1727410841405216,
          -0.06154837576601999,
          -0.22111175135751399,
          0.1823946760377119,
          0.3120220054627026,
          -0.651398725036734,
          -1.1866702900445714,
          0.16217621697380522,
          0.6448276206258726,
          0.9825500906304511,
          -0.15342854718734192,
          0.5770188025379072,
          0.848353882525743,
          0.5542450230916298,
          1.4406913152832388,
          -1.9038560456351086,
          0.7705286428034288,
          0.7086800725037821,
          1.8091829274591809,
          0.23812389854779084,
          0.954891119308605,
          -0.7309692341389961,
          -0.4905436831465742,
          -0.21662558824254352,
          -0.5154002483878212,
          0.5379717795807426,
          -1.2655431219078281,
          -0.9210928807655039,
          0.33450442521323787,
          1.1434025647295822,
          0.5446394122836897,
          -0.16842383430099006,
          0.07910828124065356,
          1.6581866888342218,
          -0.15420248019780194,
          0.9938974208260942,
          0.013441654438335282,
          1.515943077362791,
          -0.7743124370314233,
          -0.05755627960216065,
          -0.16861259574817677,
          -1.013325595453456,
          1.2447724715655295,
          0.26102409033414437,
          -0.1415675318446844,
          0.8933486524358141,
          -1.4031619069507906,
          0.8739298866733485,
          1.5203516329909348,
          -0.23818057161268005,
          0.11543630667553045,
          1.0083874918775395,
          0.8647507241845538,
          0.2631527610698617,
          0.6328084442376726,
          -0.020412529109753993,
          -0.4767732001600754,
          -1.6003397785856195,
          0.8615156392358524,
          1.058773707016916,
          0.06782131366077526,
          1.7466049431228858,
          0.0910994786511649,
          -0.6882774880028394,
          0.8311845776396545,
          0.19918446287987307,
          -1.0281870693429178,
          1.037625301646552,
          1.982247554229835,
          1.3945403166752237,
          0.4976347871813834,
          0.7108540243430422,
          -1.3193267607229144,
          -0.8853421143178672,
          0.14297105812028135,
          -0.6366001527977339,
          -0.3416795868277777,
          -2.052463643568106,
          -1.938583717063327,
          -0.7565651108754057,
          -0.32429549226680027,
          -0.2688464821798538,
          2.0656626807612017,
          1.381772266271386,
          -1.3859210471972574,
          0.617705468449708,
          -0.37803093854254227,
          -0.3246482527411524,
          -0.29740799337047047,
          -0.19834582154508804,
          0.5563936816503676,
          -1.530947983688387,
          0.6805358546881216,
          -0.7304268353207676,
          -0.009759953997973438,
          0.2720998539818301,
          0.47308822540458917,
          -1.053448029329513,
          -0.6381725959607427,
          -0.973931544455318,
          -1.8018058152875231,
          -0.6974374799702019,
          -0.5810814725667767,
          -1.910468573274361,
          -1.488171237403324,
          -1.1224933590486057,
          -0.12102497465438566,
          0.6872974476525644,
          -1.3924874978120412,
          -0.5758077980624798,
          0.2522750873694751,
          0.1335963372664291,
          0.5540533895994363,
          0.31918037298751617,
          -0.5708293075733967,
          -0.18960294486443827
         ],
         "y": [
          -0.5355046758963556,
          2.124627909420961,
          0.9997153288175815,
          0.13248493248767063,
          0.47846949418325635,
          -0.07323569566618378,
          0.421460889107261,
          -1.4431802689876125,
          -2.0096973194226013,
          -1.0088428334448405,
          -1.748414507397367,
          0.3856319347660606,
          1.0894224842781264,
          -0.2841522910056305,
          1.2031977018276339,
          1.090020271623525,
          0.707971993368086,
          -0.2993408635225881,
          0.28314159340479067,
          0.5180334556265275,
          -0.9404458331586157,
          -0.031095064892696218,
          -0.5656772620567764,
          -0.8073127974582882,
          -0.6754288631884932,
          1.9271324580147429,
          -1.4417690014442424,
          0.12434734330330315,
          -0.12174716370628694,
          -0.3219701751035709,
          0.05659396112582571,
          0.6330384559503965,
          1.529518992675138,
          -0.8944162389656624,
          -0.5452400060646929,
          -0.24588307880736146,
          -0.5764611666893211,
          -0.5916865647794003,
          0.6817566431155059,
          0.6670988963244059,
          1.8432537632090615,
          -0.553036817403127,
          -0.1813671674738127,
          0.6383817341538998,
          0.09400797282855473,
          -0.042674323718641466,
          -0.3538316628247414,
          -0.6373993370174279,
          -1.2626919759059545,
          0.5009646812986646,
          1.3582747892372706,
          -1.1366137944302088,
          -0.536037049537808,
          -1.6854051310298928,
          0.5345230342639219,
          -0.024391530788953928,
          -1.8497585944700066,
          0.44070907341682847,
          1.827810873278656,
          -1.1677854569351904,
          1.0672501176404874,
          -0.4249998804627675,
          0.09313964548421415,
          -1.5051183054088535,
          0.6269122089996378,
          -0.5299047218690133,
          -1.665495749359156,
          0.7025913146127035,
          -1.5109751878651418,
          -2.9050618160171693,
          0.02324660390268911,
          0.3429041393744198,
          1.541411147805494,
          -0.5959368390184505,
          0.7992000754872017,
          1.213172360787103,
          -0.6956171096668762,
          0.3788772474432158,
          -0.3334148759837974,
          -0.48692709523263505,
          -1.299628717947811,
          -0.260435934501566,
          -0.6435980722246893,
          -0.6172341017070827,
          -0.5920930846755392,
          2.0531889216125125,
          2.8541761955132,
          1.4363108824476345,
          0.3187855351642674,
          0.3812938691278112,
          -0.699339868904475,
          1.051937139416507,
          0.8218646539543226,
          0.9464662689681941,
          0.6848471381677412,
          -0.4108015887936007,
          -0.20328657952833754,
          -0.8682410809986569,
          0.4419560665264107,
          -1.150058293447845,
          0.5143362614297221,
          1.1337734834001976,
          0.23112794606541667,
          -0.549010299624255,
          0.3945091299971173,
          0.5809050964584597,
          -1.079379261177007,
          -0.30671731918863776,
          -0.20519362888971088,
          1.31664801235929,
          -0.6055382811607319,
          -0.2406944749724514,
          -0.3296062396464844,
          -3.7638031930031453,
          2.531854383328742,
          0.7549746415834788,
          -0.4798404184161002,
          1.396303725456929,
          1.372976894252352,
          0.9526833352587434,
          -1.1217489911408465,
          -1.5623466583847783,
          -0.8039574340837432,
          0.5579250100328416,
          0.7531103771671499,
          -1.551284107098804,
          -0.7250566596388006,
          -1.189846687697484,
          -2.931522440773157,
          0.3207406301699966,
          0.9288873419239907,
          -1.2571916603580238,
          0.6174834904328329,
          -0.4951304844862293,
          -0.6224090965343618,
          1.0024763642421255,
          -1.040165106807867,
          0.13528556995167812,
          -0.8630698580376197,
          0.5245941943848785,
          -0.7453246696811873,
          1.0184540195520655,
          1.615448845830107,
          -1.7006820603691204,
          0.2547793516681183,
          -2.211380926126231,
          -0.7071922550895196,
          0.6105341090998946,
          0.435806395229146,
          0.14309814361322964,
          -1.62891845346939,
          -0.751724830571949,
          1.221787657644495,
          -1.2370556063388374,
          -0.26261798439384293,
          0.05700661584793129,
          -0.9826857973108456,
          -0.9242930927573282,
          2.008173617532084,
          -0.9537997867431952,
          0.544557135831679,
          0.12389838121089267,
          -0.6517399056738514,
          -0.008838332906144657,
          -0.7705119141751826,
          -0.013767196996710689,
          -1.4057805873596152,
          -0.4217287727355006,
          1.176787794433749,
          -1.0458708596480584,
          1.2008315547324973,
          -1.0291561724381604,
          1.3519340973676013,
          -0.19522834591140392,
          -0.5747729852035932,
          1.1059822103875026,
          0.840287820124843,
          0.7016958656783645,
          -2.909892668570365,
          -0.09026571281800562,
          -1.1559370125033137,
          0.0898491011662047,
          0.5857940995556743,
          -0.1957033553697,
          1.272310757952812,
          1.646039037653469,
          -2.3312753967941324,
          1.3534487764362362,
          0.986712862850714,
          -0.546493967885695,
          -0.5096676151303053,
          -0.7206230442215765,
          0.05370838829696439,
          -1.7167671387663515,
          0.3535953726063795,
          1.6789913254550561,
          1.8703315354977972,
          -0.11273195229105297,
          -1.1867593413567612,
          0.7237722425932486,
          -1.346077689084973,
          -0.3495845290527601,
          0.9456667857383729,
          0.21693866578025178,
          -0.8425094716175664,
          -0.7081918058713926,
          -0.5586228575044428,
          -0.9327078571892303,
          -0.10419307714312237,
          1.2071876791389191,
          -0.11323674345329729,
          -1.3739427438138225,
          0.5793412160891206,
          -0.3058849440485125,
          -0.18848282657246118,
          -1.0824724646771438,
          -0.6032531745103403,
          0.9330905749755273,
          0.47067646125929297,
          1.9496445395402757,
          0.9874500059770027,
          0.7652378805438385,
          0.8588554322526414,
          1.0025714715752059,
          0.951069583599553,
          0.7882397138686523,
          0.40918523076205693,
          -0.27713051540343314,
          1.4360530928253856,
          0.6854155661459002,
          -0.02812236609840815,
          -0.29670175435657165,
          1.246308160692851,
          0.5444688241469041,
          0.5354773821108091,
          0.09012788642779117,
          1.0208863890976174,
          -0.07073840687820353,
          -0.4455686325415875,
          0.17125700591506587,
          0.873997065458489,
          0.03781765973127358,
          -0.03489095649848428,
          0.11725839540616458,
          -0.8169281798598405,
          -0.6456345340547421,
          -0.41052848273814024,
          2.0003773716529265,
          -0.3928402528148233,
          -0.2385492874720056,
          -0.21505557364748404,
          1.0411432170042567,
          -0.24560895592163354,
          -0.4392249876211039,
          1.0507146508809442,
          -0.2078079955230312,
          -0.511511862721436,
          0.42811072876148315,
          0.45867977117899894,
          -0.1455290406982703,
          0.4301222336073844,
          -1.2665577937849086,
          0.9682866580179427,
          1.782822315326282,
          -0.038066073427686684,
          0.09514624963359612,
          -0.11409054724987205,
          -2.88257582657067,
          -0.31856253251837885,
          -0.5546972863062193,
          -0.22001134406230521,
          0.04151945147105141,
          -0.28089624631946003,
          -1.1046800484181378,
          -0.9471185119400128,
          0.54720747517213,
          0.8573077701022989,
          -0.2969348136437199,
          -0.34054426386096326,
          0.38634972197613493,
          0.4374597977305008,
          0.19240813326653347,
          0.28897360342435874,
          -0.4732179772297686,
          -0.40353953185082536,
          -0.12054742945884338,
          0.40820612869324846,
          -0.8807872480767371,
          -0.32016767522804257,
          0.35986459408387184,
          -0.12549869660493285,
          1.0386596053373511,
          -1.173799705258491,
          0.37580125974054523,
          -0.0789098257624965,
          -1.6641912729131234,
          -2.0636359049638946,
          -0.5949082954757444,
          -1.3678500042495971,
          -0.190388517182561,
          0.5334362256995235,
          -3.200158015590233,
          -0.1532339870325903,
          -1.4180522341103563,
          -0.6929732913632719,
          -1.4861911771201415,
          0.6806994813261453,
          -2.3390105767334974,
          1.6880793553979443,
          -1.5525276181454641,
          -1.5432486851931608,
          0.1813968824676101,
          0.6281722784787558,
          -1.4367417444601926,
          -0.5317953071456645,
          -1.8077345377875178,
          -1.395780957392051,
          0.42333409804462513,
          -0.9761620795067012,
          -0.6698193815833924,
          0.8774161748470448,
          -0.47187927081590675,
          0.11273940508281419,
          2.533435457915079,
          -0.4614419335443185,
          -1.1417368820827773,
          -0.3477836276034479,
          0.05480758735722412,
          -0.3673883826882819,
          0.8885462236819395,
          -0.8426131515844237,
          0.6791416414361066,
          1.635001677680583,
          0.8451485783643182,
          -1.2964930537914081,
          -1.609852876891589,
          -0.2686554228517938,
          1.0615367317403535,
          -0.8240615723628584,
          -1.6675617327088748,
          0.007726951520417794,
          0.575531723119986,
          -0.7054561620130908,
          -0.07528706737626571,
          1.2291451328592213,
          2.4314143532346297,
          -0.36856252902946707,
          0.9888179359704196,
          -1.0996247895335716,
          0.30613471522819835,
          -0.6802047490382772,
          0.4868478059802768,
          1.5155446434711048,
          0.5024015369486634,
          0.04485535182627251,
          -0.8475181304520639,
          -0.26092699174565526,
          0.556413749606965,
          0.10118967805585692,
          0.3765164811477397,
          0.011789803259095346,
          -0.21609312657407875,
          -2.1201227742912776,
          -0.5542438235687843,
          0.09155144119650067,
          -0.8691022063200217,
          0.6990128580651287,
          -0.8383019989903548,
          2.4182770686782584,
          -0.10780088687253526,
          0.6373791704638238,
          -1.0519060008487842,
          -0.11191766548970349,
          2.129692026662669,
          -0.19214408698259813,
          1.3010508437777155,
          -0.3532618159307078,
          -1.059252584947987,
          -1.408572592503918,
          -0.4126561152153954,
          -0.04441433051684741,
          -0.13069991055414745,
          -1.1229562237637762,
          -1.4176599463252513,
          0.5128612107702303,
          -0.9130384235243088,
          2.0268743128591105,
          0.01713412889559872,
          0.39765167935739093,
          -1.0600986002392327,
          0.1902634007387396,
          -0.6253148668435612,
          1.0298588762239698,
          1.5014602855082302,
          -1.1010422739272017,
          -0.2542674343946887,
          0.5238202738999991,
          -0.49103044024593573,
          -2.092732670417682,
          -1.097327540830198
         ],
         "z": [
          0.2024454796085355,
          0.24288035773066535,
          0.8580069032150124,
          -1.6051443060746586,
          2.341386788686899,
          -0.08608072422791169,
          0.23950707299048793,
          -0.4476843614750411,
          -0.11943299846759595,
          -0.6410985313454779,
          -0.9607420593426207,
          -0.3808724982891385,
          -0.4313554335541372,
          0.7503566123035882,
          2.203358645158279,
          -0.7815332673870488,
          0.24585633451507982,
          -0.8167063992134881,
          0.20201417302645708,
          0.8796057909907976,
          -1.2792021243374263,
          -0.7929626462844529,
          1.0276983841415113,
          -1.1526240819806424,
          0.20997242481531325,
          -0.04805118007901696,
          0.731215015989362,
          0.44603010952939504,
          -0.41668261762536357,
          1.3892815045793916,
          1.1368512973820488,
          -1.1194650554386993,
          -0.6394590205827528,
          -0.5739012994364499,
          0.14014310395576113,
          -0.05642347558865123,
          0.23449552736265014,
          -1.0839685421142615,
          0.573381916673002,
          1.1177029595646975,
          -0.6839153050763439,
          -2.6412398697241075,
          0.17159245708038728,
          -0.19784369666750315,
          1.729968020137062,
          -0.663089472944576,
          0.6948209435099126,
          -1.801220331158707,
          -0.06208666631776225,
          0.3064493367608428,
          -0.7176369375769717,
          0.4801870547391584,
          -1.2238449834545286,
          0.6901818768149481,
          -1.2335663359488716,
          -0.17952180302595708,
          0.3658131036498786,
          0.3362709982721299,
          -0.9286010986862436,
          0.5523066848455221,
          -1.7458690188979515,
          -1.4887895620413139,
          -0.8035167315492701,
          0.6469906562687763,
          -1.7763346625865675,
          2.2783891250126342,
          -1.2562759223881912,
          2.1376806021790626,
          -0.33594165620324196,
          -1.6837657726765989,
          -0.42174138947204026,
          -0.858155036942706,
          -0.9273592081360285,
          -0.8054223733272217,
          -0.3168035135317946,
          0.005053142972165977,
          -1.4477255418288675,
          -0.2964115508179024,
          -2.331275760317459,
          0.1310686096257359,
          0.14144595559476436,
          -0.2994288076417745,
          0.37129561347285217,
          -0.6789045308261189,
          0.3004616427445333,
          -0.7432481792123696,
          0.667439775323184,
          0.7261988100123521,
          0.5165600177301508,
          2.133983387435206,
          -1.0618579508606245,
          0.1769389147673536,
          0.7770475922757046,
          -0.2297301109613631,
          -1.1795096609710436,
          1.4947793722646632,
          1.506234409410956,
          -0.999431133822164,
          2.0258989707184885,
          2.086055336752229,
          -1.3430330775435426,
          -0.6026650811622478,
          0.2677668280472505,
          0.618545760489814,
          -1.601509831084656,
          1.1089227530093793,
          -1.8404138479825753,
          -0.6289531140764597,
          1.567985246631232,
          0.32380359067134457,
          0.8293954957670147,
          -1.0972453247533347,
          -1.1587156857749117,
          -1.4607332606679349,
          0.3308605048306736,
          0.4261217433770476,
          -0.6708154097863329,
          0.7151249825020071,
          -0.2949689733473952,
          0.6588730549892132,
          0.5186929659462847,
          0.966690619628308,
          0.2495138213322667,
          0.09930828418964184,
          -1.582154209841533,
          0.15815850481042182,
          -1.7619857382137492,
          -0.6242555821484648,
          -1.1179366545893519,
          -0.4355842383747055,
          -0.4699026508459902,
          0.7458031270044709,
          0.5948298672292628,
          0.9113922338591232,
          -0.08237488747180255,
          0.14006646220452978,
          0.015393523286330283,
          1.8804796605638638,
          0.4082324731245307,
          -1.0936342293724473,
          -1.765476766049784,
          -1.848419494105177,
          -1.1568252651501671,
          -0.4934870561166054,
          0.10092808499565592,
          2.112194495030138,
          -0.12226192178030793,
          -1.2850541654434078,
          -2.6881416844488917,
          -0.23111008735986488,
          -0.5350147275137835,
          1.0025541925764205,
          -0.20798008461354,
          0.44243232254349185,
          -0.5213413493956957,
          -0.9320793861237368,
          1.2941894530222289,
          -0.8246689264077868,
          -0.11860916516373486,
          -0.47450362839228744,
          0.7761347252781569,
          -1.1330096214296455,
          2.367507783941265,
          0.12823701873845764,
          -0.9900672772860205,
          -1.211896043576319,
          0.31160430503674863,
          -1.5468687006986337,
          -0.5613130128779502,
          0.33436109247672025,
          -0.1156139822936332,
          -0.2475911561356197,
          0.05247425197953366,
          -0.19755589424959474,
          2.5285128773442236,
          -1.0760687715868638,
          0.2768577865696641,
          -0.031092804321462022,
          -0.800686866360207,
          -0.8100131095703038,
          0.26723915634875994,
          1.6926029125103805,
          1.0246096593421474,
          0.3443995100043377,
          0.9042272137679139,
          1.3958930473520317,
          0.04316627410999761,
          0.6366011481483793,
          -0.6062595791807543,
          -1.2934936099927072,
          -0.1555083450191526,
          -1.6838970145474756,
          0.43720421247398034,
          0.009318615988041444,
          0.9044219272192784,
          0.6104615636197318,
          -1.782585503097257,
          -2.473009827760291,
          0.8333085239566648,
          0.7408211260152955,
          0.2860093354287956,
          -2.418178167446804,
          -1.0073587748114752,
          -0.5934234906637473,
          0.25194689022310174,
          0.7177771554062721,
          -0.2926254277688627,
          -0.6575575252403623,
          -0.26565767540952556,
          -1.0682295925970797,
          1.9007750617812667,
          -1.0364164216476492,
          -1.012040925284238,
          0.005154203581391905,
          -0.44068624383701815,
          -0.9336935363614695,
          -0.03091374194873133,
          -0.7977408023184808,
          -0.7780532659508546,
          1.6808199304776303,
          -1.0000250110139597,
          -2.1817061106646976,
          -0.3510274444176532,
          -0.8176849087305603,
          0.9681560837155978,
          -1.6688139258949408,
          0.49823922729039016,
          -0.6984300114073161,
          -0.7171040357699189,
          0.1666778716858773,
          0.21572274517367176,
          2.170384321336475,
          0.9417440045199801,
          -0.8053135914935731,
          0.24369223504537507,
          0.1990287616635857,
          -2.4443638386964732,
          -0.4615266378351308,
          -0.08690464281960869,
          1.4406791194374708,
          0.34545571577952044,
          -0.48559583988530447,
          -1.6418182089206355,
          0.6991752333062965,
          1.117807219027912,
          1.2974992534209107,
          0.6141145108198746,
          -0.3764188663719469,
          -0.6531485337643682,
          0.4319103777672319,
          -1.9272402958413264,
          -0.7709326901511245,
          -0.33581579185127247,
          -0.27835017753457103,
          0.5130442763014861,
          -1.693553861044485,
          0.23142267389879273,
          0.4082651608654304,
          -0.3805805569736668,
          -0.2686300494864839,
          -0.5551428511166904,
          -2.1115866815518887,
          -0.8320923569070452,
          1.7495681486155539,
          0.4646784455596442,
          0.8649375316382334,
          -0.7184333333651326,
          -2.359574411707983,
          1.9649215206355328,
          -0.7285788386655123,
          1.0766164705466268,
          0.1965297546220071,
          0.268624933957204,
          -1.7056077139659311,
          0.10114613323971267,
          -0.18090301600975495,
          -1.3343957471476948,
          -0.9083004192539151,
          -0.4985488688570477,
          -2.032237377289457,
          0.5111747193619786,
          1.151498711143347,
          1.9188970168200885,
          0.9661277781330424,
          0.15642951249684361,
          -0.7031240607619753,
          -0.9352290363583527,
          0.14303822238587513,
          -0.024888872209743923,
          0.7385974257958856,
          0.611796365847259,
          -0.5461934333218621,
          -1.1860881049515337,
          -0.41360157254314334,
          -0.5890821108473187,
          0.9605533074863652,
          0.8511437446169405,
          0.14503207056119746,
          0.2636026776061841,
          1.9120353874121025,
          1.2808087106851689,
          0.5354807627924233,
          0.5460182951418363,
          0.14180942093976892,
          2.441544267067676,
          1.335225829075092,
          0.13766341232683676,
          0.8917900908038378,
          -0.9109057275443467,
          -0.05745276099419292,
          -0.3532664094134325,
          0.7781640011156574,
          0.2736674427640031,
          -0.6308761471160877,
          0.9167843951705993,
          0.25549599475648804,
          0.18132741884660836,
          -0.7976354494116233,
          0.1162278031474178,
          -0.1882561714668889,
          1.1522066658814814,
          -0.17828765043524322,
          1.6558341855433085,
          -0.6905624268750897,
          2.1531558311531818,
          0.03362302098187782,
          0.2693381081531708,
          0.13210118507856647,
          -1.7354964084833329,
          -0.17028315807711536,
          -3.297310810915479,
          -0.21860370856860656,
          -1.5562851838681078,
          -0.33963845077859983,
          -0.5780209702272073,
          -1.099296063961852,
          -0.11543306169008932,
          -0.9448986805936017,
          0.158522072723143,
          -0.574148113577886,
          -1.3504952050404697,
          0.0712610968256717,
          -0.6639609797654888,
          -1.078882324597295,
          -0.3786433630277698,
          -0.8814716951973447,
          -0.033920320718076054,
          0.31455237317102397,
          -0.074674439547017,
          -0.14985478528120608,
          -0.31042307923922097,
          -1.0933099441752894,
          0.33650505843754513,
          0.07701890733504721,
          -0.2994892344593881,
          -0.40729296646162383,
          0.3065702747064533,
          -1.1400278867731104,
          0.616376208408221,
          -1.236486251942453,
          0.9078095107968628,
          0.9412350767251791,
          -1.6590195055791772,
          0.20965443262478797,
          -1.5350394083066963,
          -1.7253134500466438,
          -0.6726195448458193,
          -1.0285816639516894,
          0.22008669468639722,
          -1.6387459620995266,
          -0.33405151770626146,
          0.05593329801057091,
          0.4401499435385711,
          -0.942695312792849,
          -0.7378471452112642,
          -0.44500875320225236,
          -0.8769845104948085,
          -1.4345164668119583,
          -0.0942557483410476,
          0.18023300819803545,
          -0.525444589713766,
          -1.148972229917473,
          0.06372697729957794,
          -1.264178979129733,
          -0.8887197708981927,
          -0.06424258417880843,
          1.8935387837324291,
          -2.098572808534038,
          0.5354114842366376,
          -0.4107725690336545,
          -0.319593490395818,
          0.6586807325988806,
          0.8712834742576319,
          1.4785825789924971,
          0.5154769099902305,
          1.1279384973636837,
          0.3871141443342285,
          -1.6070472353783694,
          -1.4711517840028203,
          -0.8393830087901101
         ]
        }
       ],
       "layout": {
        "margin": {
         "b": 0,
         "l": 0,
         "r": 0,
         "t": 0
        },
        "template": {
         "data": {
          "bar": [
           {
            "error_x": {
             "color": "#2a3f5f"
            },
            "error_y": {
             "color": "#2a3f5f"
            },
            "marker": {
             "line": {
              "color": "#E5ECF6",
              "width": 0.5
             }
            },
            "type": "bar"
           }
          ],
          "barpolar": [
           {
            "marker": {
             "line": {
              "color": "#E5ECF6",
              "width": 0.5
             }
            },
            "type": "barpolar"
           }
          ],
          "carpet": [
           {
            "aaxis": {
             "endlinecolor": "#2a3f5f",
             "gridcolor": "white",
             "linecolor": "white",
             "minorgridcolor": "white",
             "startlinecolor": "#2a3f5f"
            },
            "baxis": {
             "endlinecolor": "#2a3f5f",
             "gridcolor": "white",
             "linecolor": "white",
             "minorgridcolor": "white",
             "startlinecolor": "#2a3f5f"
            },
            "type": "carpet"
           }
          ],
          "choropleth": [
           {
            "colorbar": {
             "outlinewidth": 0,
             "ticks": ""
            },
            "type": "choropleth"
           }
          ],
          "contour": [
           {
            "colorbar": {
             "outlinewidth": 0,
             "ticks": ""
            },
            "colorscale": [
             [
              0,
              "#0d0887"
             ],
             [
              0.1111111111111111,
              "#46039f"
             ],
             [
              0.2222222222222222,
              "#7201a8"
             ],
             [
              0.3333333333333333,
              "#9c179e"
             ],
             [
              0.4444444444444444,
              "#bd3786"
             ],
             [
              0.5555555555555556,
              "#d8576b"
             ],
             [
              0.6666666666666666,
              "#ed7953"
             ],
             [
              0.7777777777777778,
              "#fb9f3a"
             ],
             [
              0.8888888888888888,
              "#fdca26"
             ],
             [
              1,
              "#f0f921"
             ]
            ],
            "type": "contour"
           }
          ],
          "contourcarpet": [
           {
            "colorbar": {
             "outlinewidth": 0,
             "ticks": ""
            },
            "type": "contourcarpet"
           }
          ],
          "heatmap": [
           {
            "colorbar": {
             "outlinewidth": 0,
             "ticks": ""
            },
            "colorscale": [
             [
              0,
              "#0d0887"
             ],
             [
              0.1111111111111111,
              "#46039f"
             ],
             [
              0.2222222222222222,
              "#7201a8"
             ],
             [
              0.3333333333333333,
              "#9c179e"
             ],
             [
              0.4444444444444444,
              "#bd3786"
             ],
             [
              0.5555555555555556,
              "#d8576b"
             ],
             [
              0.6666666666666666,
              "#ed7953"
             ],
             [
              0.7777777777777778,
              "#fb9f3a"
             ],
             [
              0.8888888888888888,
              "#fdca26"
             ],
             [
              1,
              "#f0f921"
             ]
            ],
            "type": "heatmap"
           }
          ],
          "heatmapgl": [
           {
            "colorbar": {
             "outlinewidth": 0,
             "ticks": ""
            },
            "colorscale": [
             [
              0,
              "#0d0887"
             ],
             [
              0.1111111111111111,
              "#46039f"
             ],
             [
              0.2222222222222222,
              "#7201a8"
             ],
             [
              0.3333333333333333,
              "#9c179e"
             ],
             [
              0.4444444444444444,
              "#bd3786"
             ],
             [
              0.5555555555555556,
              "#d8576b"
             ],
             [
              0.6666666666666666,
              "#ed7953"
             ],
             [
              0.7777777777777778,
              "#fb9f3a"
             ],
             [
              0.8888888888888888,
              "#fdca26"
             ],
             [
              1,
              "#f0f921"
             ]
            ],
            "type": "heatmapgl"
           }
          ],
          "histogram": [
           {
            "marker": {
             "colorbar": {
              "outlinewidth": 0,
              "ticks": ""
             }
            },
            "type": "histogram"
           }
          ],
          "histogram2d": [
           {
            "colorbar": {
             "outlinewidth": 0,
             "ticks": ""
            },
            "colorscale": [
             [
              0,
              "#0d0887"
             ],
             [
              0.1111111111111111,
              "#46039f"
             ],
             [
              0.2222222222222222,
              "#7201a8"
             ],
             [
              0.3333333333333333,
              "#9c179e"
             ],
             [
              0.4444444444444444,
              "#bd3786"
             ],
             [
              0.5555555555555556,
              "#d8576b"
             ],
             [
              0.6666666666666666,
              "#ed7953"
             ],
             [
              0.7777777777777778,
              "#fb9f3a"
             ],
             [
              0.8888888888888888,
              "#fdca26"
             ],
             [
              1,
              "#f0f921"
             ]
            ],
            "type": "histogram2d"
           }
          ],
          "histogram2dcontour": [
           {
            "colorbar": {
             "outlinewidth": 0,
             "ticks": ""
            },
            "colorscale": [
             [
              0,
              "#0d0887"
             ],
             [
              0.1111111111111111,
              "#46039f"
             ],
             [
              0.2222222222222222,
              "#7201a8"
             ],
             [
              0.3333333333333333,
              "#9c179e"
             ],
             [
              0.4444444444444444,
              "#bd3786"
             ],
             [
              0.5555555555555556,
              "#d8576b"
             ],
             [
              0.6666666666666666,
              "#ed7953"
             ],
             [
              0.7777777777777778,
              "#fb9f3a"
             ],
             [
              0.8888888888888888,
              "#fdca26"
             ],
             [
              1,
              "#f0f921"
             ]
            ],
            "type": "histogram2dcontour"
           }
          ],
          "mesh3d": [
           {
            "colorbar": {
             "outlinewidth": 0,
             "ticks": ""
            },
            "type": "mesh3d"
           }
          ],
          "parcoords": [
           {
            "line": {
             "colorbar": {
              "outlinewidth": 0,
              "ticks": ""
             }
            },
            "type": "parcoords"
           }
          ],
          "pie": [
           {
            "automargin": true,
            "type": "pie"
           }
          ],
          "scatter": [
           {
            "marker": {
             "colorbar": {
              "outlinewidth": 0,
              "ticks": ""
             }
            },
            "type": "scatter"
           }
          ],
          "scatter3d": [
           {
            "line": {
             "colorbar": {
              "outlinewidth": 0,
              "ticks": ""
             }
            },
            "marker": {
             "colorbar": {
              "outlinewidth": 0,
              "ticks": ""
             }
            },
            "type": "scatter3d"
           }
          ],
          "scattercarpet": [
           {
            "marker": {
             "colorbar": {
              "outlinewidth": 0,
              "ticks": ""
             }
            },
            "type": "scattercarpet"
           }
          ],
          "scattergeo": [
           {
            "marker": {
             "colorbar": {
              "outlinewidth": 0,
              "ticks": ""
             }
            },
            "type": "scattergeo"
           }
          ],
          "scattergl": [
           {
            "marker": {
             "colorbar": {
              "outlinewidth": 0,
              "ticks": ""
             }
            },
            "type": "scattergl"
           }
          ],
          "scattermapbox": [
           {
            "marker": {
             "colorbar": {
              "outlinewidth": 0,
              "ticks": ""
             }
            },
            "type": "scattermapbox"
           }
          ],
          "scatterpolar": [
           {
            "marker": {
             "colorbar": {
              "outlinewidth": 0,
              "ticks": ""
             }
            },
            "type": "scatterpolar"
           }
          ],
          "scatterpolargl": [
           {
            "marker": {
             "colorbar": {
              "outlinewidth": 0,
              "ticks": ""
             }
            },
            "type": "scatterpolargl"
           }
          ],
          "scatterternary": [
           {
            "marker": {
             "colorbar": {
              "outlinewidth": 0,
              "ticks": ""
             }
            },
            "type": "scatterternary"
           }
          ],
          "surface": [
           {
            "colorbar": {
             "outlinewidth": 0,
             "ticks": ""
            },
            "colorscale": [
             [
              0,
              "#0d0887"
             ],
             [
              0.1111111111111111,
              "#46039f"
             ],
             [
              0.2222222222222222,
              "#7201a8"
             ],
             [
              0.3333333333333333,
              "#9c179e"
             ],
             [
              0.4444444444444444,
              "#bd3786"
             ],
             [
              0.5555555555555556,
              "#d8576b"
             ],
             [
              0.6666666666666666,
              "#ed7953"
             ],
             [
              0.7777777777777778,
              "#fb9f3a"
             ],
             [
              0.8888888888888888,
              "#fdca26"
             ],
             [
              1,
              "#f0f921"
             ]
            ],
            "type": "surface"
           }
          ],
          "table": [
           {
            "cells": {
             "fill": {
              "color": "#EBF0F8"
             },
             "line": {
              "color": "white"
             }
            },
            "header": {
             "fill": {
              "color": "#C8D4E3"
             },
             "line": {
              "color": "white"
             }
            },
            "type": "table"
           }
          ]
         },
         "layout": {
          "annotationdefaults": {
           "arrowcolor": "#2a3f5f",
           "arrowhead": 0,
           "arrowwidth": 1
          },
          "autotypenumbers": "strict",
          "coloraxis": {
           "colorbar": {
            "outlinewidth": 0,
            "ticks": ""
           }
          },
          "colorscale": {
           "diverging": [
            [
             0,
             "#8e0152"
            ],
            [
             0.1,
             "#c51b7d"
            ],
            [
             0.2,
             "#de77ae"
            ],
            [
             0.3,
             "#f1b6da"
            ],
            [
             0.4,
             "#fde0ef"
            ],
            [
             0.5,
             "#f7f7f7"
            ],
            [
             0.6,
             "#e6f5d0"
            ],
            [
             0.7,
             "#b8e186"
            ],
            [
             0.8,
             "#7fbc41"
            ],
            [
             0.9,
             "#4d9221"
            ],
            [
             1,
             "#276419"
            ]
           ],
           "sequential": [
            [
             0,
             "#0d0887"
            ],
            [
             0.1111111111111111,
             "#46039f"
            ],
            [
             0.2222222222222222,
             "#7201a8"
            ],
            [
             0.3333333333333333,
             "#9c179e"
            ],
            [
             0.4444444444444444,
             "#bd3786"
            ],
            [
             0.5555555555555556,
             "#d8576b"
            ],
            [
             0.6666666666666666,
             "#ed7953"
            ],
            [
             0.7777777777777778,
             "#fb9f3a"
            ],
            [
             0.8888888888888888,
             "#fdca26"
            ],
            [
             1,
             "#f0f921"
            ]
           ],
           "sequentialminus": [
            [
             0,
             "#0d0887"
            ],
            [
             0.1111111111111111,
             "#46039f"
            ],
            [
             0.2222222222222222,
             "#7201a8"
            ],
            [
             0.3333333333333333,
             "#9c179e"
            ],
            [
             0.4444444444444444,
             "#bd3786"
            ],
            [
             0.5555555555555556,
             "#d8576b"
            ],
            [
             0.6666666666666666,
             "#ed7953"
            ],
            [
             0.7777777777777778,
             "#fb9f3a"
            ],
            [
             0.8888888888888888,
             "#fdca26"
            ],
            [
             1,
             "#f0f921"
            ]
           ]
          },
          "colorway": [
           "#636efa",
           "#EF553B",
           "#00cc96",
           "#ab63fa",
           "#FFA15A",
           "#19d3f3",
           "#FF6692",
           "#B6E880",
           "#FF97FF",
           "#FECB52"
          ],
          "font": {
           "color": "#2a3f5f"
          },
          "geo": {
           "bgcolor": "white",
           "lakecolor": "white",
           "landcolor": "#E5ECF6",
           "showlakes": true,
           "showland": true,
           "subunitcolor": "white"
          },
          "hoverlabel": {
           "align": "left"
          },
          "hovermode": "closest",
          "mapbox": {
           "style": "light"
          },
          "paper_bgcolor": "white",
          "plot_bgcolor": "#E5ECF6",
          "polar": {
           "angularaxis": {
            "gridcolor": "white",
            "linecolor": "white",
            "ticks": ""
           },
           "bgcolor": "#E5ECF6",
           "radialaxis": {
            "gridcolor": "white",
            "linecolor": "white",
            "ticks": ""
           }
          },
          "scene": {
           "xaxis": {
            "backgroundcolor": "#E5ECF6",
            "gridcolor": "white",
            "gridwidth": 2,
            "linecolor": "white",
            "showbackground": true,
            "ticks": "",
            "zerolinecolor": "white"
           },
           "yaxis": {
            "backgroundcolor": "#E5ECF6",
            "gridcolor": "white",
            "gridwidth": 2,
            "linecolor": "white",
            "showbackground": true,
            "ticks": "",
            "zerolinecolor": "white"
           },
           "zaxis": {
            "backgroundcolor": "#E5ECF6",
            "gridcolor": "white",
            "gridwidth": 2,
            "linecolor": "white",
            "showbackground": true,
            "ticks": "",
            "zerolinecolor": "white"
           }
          },
          "shapedefaults": {
           "line": {
            "color": "#2a3f5f"
           }
          },
          "ternary": {
           "aaxis": {
            "gridcolor": "white",
            "linecolor": "white",
            "ticks": ""
           },
           "baxis": {
            "gridcolor": "white",
            "linecolor": "white",
            "ticks": ""
           },
           "bgcolor": "#E5ECF6",
           "caxis": {
            "gridcolor": "white",
            "linecolor": "white",
            "ticks": ""
           }
          },
          "title": {
           "x": 0.05
          },
          "xaxis": {
           "automargin": true,
           "gridcolor": "white",
           "linecolor": "white",
           "ticks": "",
           "title": {
            "standoff": 15
           },
           "zerolinecolor": "white",
           "zerolinewidth": 2
          },
          "yaxis": {
           "automargin": true,
           "gridcolor": "white",
           "linecolor": "white",
           "ticks": "",
           "title": {
            "standoff": 15
           },
           "zerolinecolor": "white",
           "zerolinewidth": 2
          }
         }
        }
       }
      },
      "text/html": [
       "<div>                            <div id=\"62930270-4a4d-4fd3-b908-74838ad8a394\" class=\"plotly-graph-div\" style=\"height:525px; width:100%;\"></div>            <script type=\"text/javascript\">                require([\"plotly\"], function(Plotly) {                    window.PLOTLYENV=window.PLOTLYENV || {};                                    if (document.getElementById(\"62930270-4a4d-4fd3-b908-74838ad8a394\")) {                    Plotly.newPlot(                        \"62930270-4a4d-4fd3-b908-74838ad8a394\",                        [{\"marker\": {\"color\": [0.2024454796085355, 0.24288035773066535, 0.8580069032150124, -1.6051443060746586, 2.341386788686899, -0.08608072422791169, 0.23950707299048793, -0.4476843614750411, -0.11943299846759595, -0.6410985313454779, -0.9607420593426207, -0.3808724982891385, -0.4313554335541372, 0.7503566123035882, 2.203358645158279, -0.7815332673870488, 0.24585633451507982, -0.8167063992134881, 0.20201417302645708, 0.8796057909907976, -1.2792021243374263, -0.7929626462844529, 1.0276983841415113, -1.1526240819806424, 0.20997242481531325, -0.04805118007901696, 0.731215015989362, 0.44603010952939504, -0.41668261762536357, 1.3892815045793916, 1.1368512973820488, -1.1194650554386993, -0.6394590205827528, -0.5739012994364499, 0.14014310395576113, -0.05642347558865123, 0.23449552736265014, -1.0839685421142615, 0.573381916673002, 1.1177029595646975, -0.6839153050763439, -2.6412398697241075, 0.17159245708038728, -0.19784369666750315, 1.729968020137062, -0.663089472944576, 0.6948209435099126, -1.801220331158707, -0.06208666631776225, 0.3064493367608428, -0.7176369375769717, 0.4801870547391584, -1.2238449834545286, 0.6901818768149481, -1.2335663359488716, -0.17952180302595708, 0.3658131036498786, 0.3362709982721299, -0.9286010986862436, 0.5523066848455221, -1.7458690188979515, -1.4887895620413139, -0.8035167315492701, 0.6469906562687763, -1.7763346625865675, 2.2783891250126342, -1.2562759223881912, 2.1376806021790626, -0.33594165620324196, -1.6837657726765989, -0.42174138947204026, -0.858155036942706, -0.9273592081360285, -0.8054223733272217, -0.3168035135317946, 0.005053142972165977, -1.4477255418288675, -0.2964115508179024, -2.331275760317459, 0.1310686096257359, 0.14144595559476436, -0.2994288076417745, 0.37129561347285217, -0.6789045308261189, 0.3004616427445333, -0.7432481792123696, 0.667439775323184, 0.7261988100123521, 0.5165600177301508, 2.133983387435206, -1.0618579508606245, 0.1769389147673536, 0.7770475922757046, -0.2297301109613631, -1.1795096609710436, 1.4947793722646632, 1.506234409410956, -0.999431133822164, 2.0258989707184885, 2.086055336752229, -1.3430330775435426, -0.6026650811622478, 0.2677668280472505, 0.618545760489814, -1.601509831084656, 1.1089227530093793, -1.8404138479825753, -0.6289531140764597, 1.567985246631232, 0.32380359067134457, 0.8293954957670147, -1.0972453247533347, -1.1587156857749117, -1.4607332606679349, 0.3308605048306736, 0.4261217433770476, -0.6708154097863329, 0.7151249825020071, -0.2949689733473952, 0.6588730549892132, 0.5186929659462847, 0.966690619628308, 0.2495138213322667, 0.09930828418964184, -1.582154209841533, 0.15815850481042182, -1.7619857382137492, -0.6242555821484648, -1.1179366545893519, -0.4355842383747055, -0.4699026508459902, 0.7458031270044709, 0.5948298672292628, 0.9113922338591232, -0.08237488747180255, 0.14006646220452978, 0.015393523286330283, 1.8804796605638638, 0.4082324731245307, -1.0936342293724473, -1.765476766049784, -1.848419494105177, -1.1568252651501671, -0.4934870561166054, 0.10092808499565592, 2.112194495030138, -0.12226192178030793, -1.2850541654434078, -2.6881416844488917, -0.23111008735986488, -0.5350147275137835, 1.0025541925764205, -0.20798008461354, 0.44243232254349185, -0.5213413493956957, -0.9320793861237368, 1.2941894530222289, -0.8246689264077868, -0.11860916516373486, -0.47450362839228744, 0.7761347252781569, -1.1330096214296455, 2.367507783941265, 0.12823701873845764, -0.9900672772860205, -1.211896043576319, 0.31160430503674863, -1.5468687006986337, -0.5613130128779502, 0.33436109247672025, -0.1156139822936332, -0.2475911561356197, 0.05247425197953366, -0.19755589424959474, 2.5285128773442236, -1.0760687715868638, 0.2768577865696641, -0.031092804321462022, -0.800686866360207, -0.8100131095703038, 0.26723915634875994, 1.6926029125103805, 1.0246096593421474, 0.3443995100043377, 0.9042272137679139, 1.3958930473520317, 0.04316627410999761, 0.6366011481483793, -0.6062595791807543, -1.2934936099927072, -0.1555083450191526, -1.6838970145474756, 0.43720421247398034, 0.009318615988041444, 0.9044219272192784, 0.6104615636197318, -1.782585503097257, -2.473009827760291, 0.8333085239566648, 0.7408211260152955, 0.2860093354287956, -2.418178167446804, -1.0073587748114752, -0.5934234906637473, 0.25194689022310174, 0.7177771554062721, -0.2926254277688627, -0.6575575252403623, -0.26565767540952556, -1.0682295925970797, 1.9007750617812667, -1.0364164216476492, -1.012040925284238, 0.005154203581391905, -0.44068624383701815, -0.9336935363614695, -0.03091374194873133, -0.7977408023184808, -0.7780532659508546, 1.6808199304776303, -1.0000250110139597, -2.1817061106646976, -0.3510274444176532, -0.8176849087305603, 0.9681560837155978, -1.6688139258949408, 0.49823922729039016, -0.6984300114073161, -0.7171040357699189, 0.1666778716858773, 0.21572274517367176, 2.170384321336475, 0.9417440045199801, -0.8053135914935731, 0.24369223504537507, 0.1990287616635857, -2.4443638386964732, -0.4615266378351308, -0.08690464281960869, 1.4406791194374708, 0.34545571577952044, -0.48559583988530447, -1.6418182089206355, 0.6991752333062965, 1.117807219027912, 1.2974992534209107, 0.6141145108198746, -0.3764188663719469, -0.6531485337643682, 0.4319103777672319, -1.9272402958413264, -0.7709326901511245, -0.33581579185127247, -0.27835017753457103, 0.5130442763014861, -1.693553861044485, 0.23142267389879273, 0.4082651608654304, -0.3805805569736668, -0.2686300494864839, -0.5551428511166904, -2.1115866815518887, -0.8320923569070452, 1.7495681486155539, 0.4646784455596442, 0.8649375316382334, -0.7184333333651326, -2.359574411707983, 1.9649215206355328, -0.7285788386655123, 1.0766164705466268, 0.1965297546220071, 0.268624933957204, -1.7056077139659311, 0.10114613323971267, -0.18090301600975495, -1.3343957471476948, -0.9083004192539151, -0.4985488688570477, -2.032237377289457, 0.5111747193619786, 1.151498711143347, 1.9188970168200885, 0.9661277781330424, 0.15642951249684361, -0.7031240607619753, -0.9352290363583527, 0.14303822238587513, -0.024888872209743923, 0.7385974257958856, 0.611796365847259, -0.5461934333218621, -1.1860881049515337, -0.41360157254314334, -0.5890821108473187, 0.9605533074863652, 0.8511437446169405, 0.14503207056119746, 0.2636026776061841, 1.9120353874121025, 1.2808087106851689, 0.5354807627924233, 0.5460182951418363, 0.14180942093976892, 2.441544267067676, 1.335225829075092, 0.13766341232683676, 0.8917900908038378, -0.9109057275443467, -0.05745276099419292, -0.3532664094134325, 0.7781640011156574, 0.2736674427640031, -0.6308761471160877, 0.9167843951705993, 0.25549599475648804, 0.18132741884660836, -0.7976354494116233, 0.1162278031474178, -0.1882561714668889, 1.1522066658814814, -0.17828765043524322, 1.6558341855433085, -0.6905624268750897, 2.1531558311531818, 0.03362302098187782, 0.2693381081531708, 0.13210118507856647, -1.7354964084833329, -0.17028315807711536, -3.297310810915479, -0.21860370856860656, -1.5562851838681078, -0.33963845077859983, -0.5780209702272073, -1.099296063961852, -0.11543306169008932, -0.9448986805936017, 0.158522072723143, -0.574148113577886, -1.3504952050404697, 0.0712610968256717, -0.6639609797654888, -1.078882324597295, -0.3786433630277698, -0.8814716951973447, -0.033920320718076054, 0.31455237317102397, -0.074674439547017, -0.14985478528120608, -0.31042307923922097, -1.0933099441752894, 0.33650505843754513, 0.07701890733504721, -0.2994892344593881, -0.40729296646162383, 0.3065702747064533, -1.1400278867731104, 0.616376208408221, -1.236486251942453, 0.9078095107968628, 0.9412350767251791, -1.6590195055791772, 0.20965443262478797, -1.5350394083066963, -1.7253134500466438, -0.6726195448458193, -1.0285816639516894, 0.22008669468639722, -1.6387459620995266, -0.33405151770626146, 0.05593329801057091, 0.4401499435385711, -0.942695312792849, -0.7378471452112642, -0.44500875320225236, -0.8769845104948085, -1.4345164668119583, -0.0942557483410476, 0.18023300819803545, -0.525444589713766, -1.148972229917473, 0.06372697729957794, -1.264178979129733, -0.8887197708981927, -0.06424258417880843, 1.8935387837324291, -2.098572808534038, 0.5354114842366376, -0.4107725690336545, -0.319593490395818, 0.6586807325988806, 0.8712834742576319, 1.4785825789924971, 0.5154769099902305, 1.1279384973636837, 0.3871141443342285, -1.6070472353783694, -1.4711517840028203, -0.8393830087901101], \"colorscale\": [[0.0, \"#440154\"], [0.1111111111111111, \"#482878\"], [0.2222222222222222, \"#3e4989\"], [0.3333333333333333, \"#31688e\"], [0.4444444444444444, \"#26828e\"], [0.5555555555555556, \"#1f9e89\"], [0.6666666666666666, \"#35b779\"], [0.7777777777777778, \"#6ece58\"], [0.8888888888888888, \"#b5de2b\"], [1.0, \"#fde725\"]], \"opacity\": 0.8, \"size\": 12}, \"mode\": \"markers\", \"type\": \"scatter3d\", \"x\": [0.2910189103786836, -0.15519088599550124, 1.01150650196648, 0.3695000179236485, -0.792741174261747, 2.0805335721841547, 0.8198638358918428, 1.2534058908106667, -1.5514354508495196, 0.9109685824561612, 1.355446239705072, 0.9220276049520364, 0.3811259346640745, -0.09377440400609058, 0.25774929755859627, 0.9614682796458298, 0.36920179822771343, -0.6397671400543197, -2.10445749323058, 0.5366782603523869, -1.2219889092640877, 0.1203497139498087, 0.46144658311935627, 0.9024767586409815, -0.5205004393771346, -0.25066681642623956, 0.12983083340213689, 0.5756368150829275, 0.030205641249774692, 0.35627480307806625, 0.21808359312773407, 1.9516499298291807, 0.031454197500696, -1.025265372591754, 0.1911439103150731, -1.6660014958524867, -0.3871749827813613, 2.059810276870669, 0.10745552796854746, -1.4916682229263605, 0.03414899537415199, 0.6755899529639595, 0.45425845373505547, -0.40154787804674813, 0.0012532980150569938, -1.2723684249149316, -0.5780213978509301, -1.8558527490905212, 0.7767601399813565, 0.9435031814687277, -1.013786526320771, -1.106413950720383, -1.600674803724271, 0.08825000864313966, 1.459687277167464, 0.3348763672737735, -0.20474660278465381, 0.9071282209201305, 1.1015960377824652, -2.2491759992501654, 1.2759128917554121, -0.8809555032318097, -1.4373601111089993, 0.4372048265763209, 1.3495199963337559, -1.996672342341273, 0.917233166332423, -0.09614455291393546, -0.8619844077325949, 0.10251163882266136, -1.15465248541131, 0.2638700114274907, 0.9743360689791832, 1.039161722558673, -0.0828551244715905, 0.686956896830892, -1.7111158023251112, -0.2867974491446994, -0.6834258079289138, -0.8923614684133607, -0.44110841227457576, 0.9041739212350525, -0.16947846682621162, -0.2970850168861706, -0.7169988644784914, -0.42107100763009314, -0.7299632043558936, -0.5663842884054484, -0.6240370862951847, -1.350319563899944, -0.002283303397314073, -0.3043716640386528, 0.0547911114981311, 0.3265735295536326, -0.4230917384183751, 0.4997694254878154, 1.6097170776325873, -0.5495265891900698, -2.5820929045270002, 1.2779135550610834, 0.870602645117625, -1.0933171083947437, 0.8065061381798856, -0.11349190315661532, -0.5934750334200414, 0.011710808239534208, 0.7087844586559533, -1.0834362785315392, 0.16853696738106225, -0.12780667173953073, 1.208721291919637, -0.6397129317126141, -1.3922664644860483, -0.9251893444111714, -0.530171815035456, -0.4605259406151571, 1.345980173620759, 0.2715388167122324, 1.1195514130347142, -0.52956219356432, -1.3486093454225516, -1.7114073093720106, 0.052665906357611925, -0.19531811876050467, 0.2265217175312243, 0.4352415791772754, 0.20214457729630095, 0.6709737074114752, 0.12242233115286537, -1.6318587961199515, 0.6848943663685474, -0.6430801165431239, -0.5077710044484788, 0.5010780319170992, -0.41736661068660774, -0.4453330199538429, 0.13234911616342548, 0.18939827506004137, 0.1332911813653802, -1.910155534908834, -0.4600614506250767, -1.2423884057662025, -1.1073449966887239, 1.0175542589710753, -0.6495866536943427, -0.341560066525086, -0.5719626287004302, -0.11389869085615634, -1.7006838991212294, -0.5465890019040955, 0.8316375612439879, 1.027314623731856, 0.15369994308093363, -2.0062835487350834, 0.8524613941853721, 0.11597065456757912, -0.1941220898927514, -0.31660390364166974, 0.3323991817400047, -0.6831655196021632, 0.18496598039242984, -1.3138887862505069, 0.49300263301318503, 0.7774619300847676, -0.24815213757796556, -1.8634433701058706, -0.2429897689800808, 0.6772738891031767, -0.4793349805108619, -0.44195164176128654, 1.4754415483702457, 0.629371088182905, 0.36617525317483857, -0.6544391900324753, -0.40491739594226983, 0.4161237558332358, 1.0057136643611806, 0.9316185696917064, 0.7661883696328329, 1.3304887475625737, -1.0153802828398995, -1.874087922061233, -2.1542499919069518, 1.3161798234080238, -0.2552744861714479, -0.10777674700695372, -0.8421075603618855, 0.19059556866001373, 2.7890479163361346, 0.19130240153757486, -0.1160160074706727, 0.433124218526592, -0.21159301703523403, 0.04855588336467662, -0.5542324915480129, 1.175183298632312, 0.021206450007955645, -2.3460068742287787, -0.5513991583064816, 0.12955891716603082, -0.9915851964871265, -0.2921869972975707, -2.027844055458378, 2.656415275199345, -0.5633613222693934, -1.07604048795575, 2.644652928772393, 1.0398033635274906, 1.2745941131445977, -0.36091870376958657, 1.8059637011289367, 0.4686656340258041, 1.3672930434606934, 0.7085840155382668, 1.5058532798674065, 2.709132449406489, 0.25381655233074785, -0.9795184148121205, -0.5727996260899705, 0.30289464487020906, 1.0538473763385021, -0.5195841973254824, -0.7950917590087375, -0.3126593022874755, -0.03756832041461683, 0.5307235796968257, -0.4204608781207693, 0.3873044087096335, 0.643661957705288, -1.4804873374043923, 0.12435841121280916, 1.879536640440937, 0.019055676029005687, -0.11185526610433956, 0.28454110998769294, -0.24144483600248134, -0.46319125873771094, 1.0201569268536046, 0.4262419443646775, 1.0952803717750736, 0.6748937582942818, 0.22229972247523275, 0.7219100639650151, -1.9304982462091023, -0.16204698533849324, -0.47202742126358543, 0.7369501970028487, 0.20631814890566808, -0.1085847927541772, 0.7163603066671542, 1.1081472261695915, 1.7613562285948912, -0.23771171579381087, 1.5575273315827813, 1.2208806820902678, -0.5055711018156419, 0.1398407158199834, 1.6737733696833068, 0.5902418324486395, -1.354220393107195, 0.1981653548616623, 0.7428480670648311, -1.3005935712774936, -0.5726294149705826, -1.636653300168305, -0.024060245673622065, 1.222600706666361, -0.2413364881202377, -2.497240921334158, -0.7762320139050066, -0.3707574613918778, -2.0405812836553876, 0.029180172139666394, -0.1615308915621725, 1.2992385146904681, -1.5258914377586683, 0.8964856285104404, 0.0002629273228579825, 0.8102119896423224, -1.118565567667181, 0.13720382267661368, -0.4838084889015972, 0.8922322869338825, -0.7694257047722362, -0.1727410841405216, -0.06154837576601999, -0.22111175135751399, 0.1823946760377119, 0.3120220054627026, -0.651398725036734, -1.1866702900445714, 0.16217621697380522, 0.6448276206258726, 0.9825500906304511, -0.15342854718734192, 0.5770188025379072, 0.848353882525743, 0.5542450230916298, 1.4406913152832388, -1.9038560456351086, 0.7705286428034288, 0.7086800725037821, 1.8091829274591809, 0.23812389854779084, 0.954891119308605, -0.7309692341389961, -0.4905436831465742, -0.21662558824254352, -0.5154002483878212, 0.5379717795807426, -1.2655431219078281, -0.9210928807655039, 0.33450442521323787, 1.1434025647295822, 0.5446394122836897, -0.16842383430099006, 0.07910828124065356, 1.6581866888342218, -0.15420248019780194, 0.9938974208260942, 0.013441654438335282, 1.515943077362791, -0.7743124370314233, -0.05755627960216065, -0.16861259574817677, -1.013325595453456, 1.2447724715655295, 0.26102409033414437, -0.1415675318446844, 0.8933486524358141, -1.4031619069507906, 0.8739298866733485, 1.5203516329909348, -0.23818057161268005, 0.11543630667553045, 1.0083874918775395, 0.8647507241845538, 0.2631527610698617, 0.6328084442376726, -0.020412529109753993, -0.4767732001600754, -1.6003397785856195, 0.8615156392358524, 1.058773707016916, 0.06782131366077526, 1.7466049431228858, 0.0910994786511649, -0.6882774880028394, 0.8311845776396545, 0.19918446287987307, -1.0281870693429178, 1.037625301646552, 1.982247554229835, 1.3945403166752237, 0.4976347871813834, 0.7108540243430422, -1.3193267607229144, -0.8853421143178672, 0.14297105812028135, -0.6366001527977339, -0.3416795868277777, -2.052463643568106, -1.938583717063327, -0.7565651108754057, -0.32429549226680027, -0.2688464821798538, 2.0656626807612017, 1.381772266271386, -1.3859210471972574, 0.617705468449708, -0.37803093854254227, -0.3246482527411524, -0.29740799337047047, -0.19834582154508804, 0.5563936816503676, -1.530947983688387, 0.6805358546881216, -0.7304268353207676, -0.009759953997973438, 0.2720998539818301, 0.47308822540458917, -1.053448029329513, -0.6381725959607427, -0.973931544455318, -1.8018058152875231, -0.6974374799702019, -0.5810814725667767, -1.910468573274361, -1.488171237403324, -1.1224933590486057, -0.12102497465438566, 0.6872974476525644, -1.3924874978120412, -0.5758077980624798, 0.2522750873694751, 0.1335963372664291, 0.5540533895994363, 0.31918037298751617, -0.5708293075733967, -0.18960294486443827], \"y\": [-0.5355046758963556, 2.124627909420961, 0.9997153288175815, 0.13248493248767063, 0.47846949418325635, -0.07323569566618378, 0.421460889107261, -1.4431802689876125, -2.0096973194226013, -1.0088428334448405, -1.748414507397367, 0.3856319347660606, 1.0894224842781264, -0.2841522910056305, 1.2031977018276339, 1.090020271623525, 0.707971993368086, -0.2993408635225881, 0.28314159340479067, 0.5180334556265275, -0.9404458331586157, -0.031095064892696218, -0.5656772620567764, -0.8073127974582882, -0.6754288631884932, 1.9271324580147429, -1.4417690014442424, 0.12434734330330315, -0.12174716370628694, -0.3219701751035709, 0.05659396112582571, 0.6330384559503965, 1.529518992675138, -0.8944162389656624, -0.5452400060646929, -0.24588307880736146, -0.5764611666893211, -0.5916865647794003, 0.6817566431155059, 0.6670988963244059, 1.8432537632090615, -0.553036817403127, -0.1813671674738127, 0.6383817341538998, 0.09400797282855473, -0.042674323718641466, -0.3538316628247414, -0.6373993370174279, -1.2626919759059545, 0.5009646812986646, 1.3582747892372706, -1.1366137944302088, -0.536037049537808, -1.6854051310298928, 0.5345230342639219, -0.024391530788953928, -1.8497585944700066, 0.44070907341682847, 1.827810873278656, -1.1677854569351904, 1.0672501176404874, -0.4249998804627675, 0.09313964548421415, -1.5051183054088535, 0.6269122089996378, -0.5299047218690133, -1.665495749359156, 0.7025913146127035, -1.5109751878651418, -2.9050618160171693, 0.02324660390268911, 0.3429041393744198, 1.541411147805494, -0.5959368390184505, 0.7992000754872017, 1.213172360787103, -0.6956171096668762, 0.3788772474432158, -0.3334148759837974, -0.48692709523263505, -1.299628717947811, -0.260435934501566, -0.6435980722246893, -0.6172341017070827, -0.5920930846755392, 2.0531889216125125, 2.8541761955132, 1.4363108824476345, 0.3187855351642674, 0.3812938691278112, -0.699339868904475, 1.051937139416507, 0.8218646539543226, 0.9464662689681941, 0.6848471381677412, -0.4108015887936007, -0.20328657952833754, -0.8682410809986569, 0.4419560665264107, -1.150058293447845, 0.5143362614297221, 1.1337734834001976, 0.23112794606541667, -0.549010299624255, 0.3945091299971173, 0.5809050964584597, -1.079379261177007, -0.30671731918863776, -0.20519362888971088, 1.31664801235929, -0.6055382811607319, -0.2406944749724514, -0.3296062396464844, -3.7638031930031453, 2.531854383328742, 0.7549746415834788, -0.4798404184161002, 1.396303725456929, 1.372976894252352, 0.9526833352587434, -1.1217489911408465, -1.5623466583847783, -0.8039574340837432, 0.5579250100328416, 0.7531103771671499, -1.551284107098804, -0.7250566596388006, -1.189846687697484, -2.931522440773157, 0.3207406301699966, 0.9288873419239907, -1.2571916603580238, 0.6174834904328329, -0.4951304844862293, -0.6224090965343618, 1.0024763642421255, -1.040165106807867, 0.13528556995167812, -0.8630698580376197, 0.5245941943848785, -0.7453246696811873, 1.0184540195520655, 1.615448845830107, -1.7006820603691204, 0.2547793516681183, -2.211380926126231, -0.7071922550895196, 0.6105341090998946, 0.435806395229146, 0.14309814361322964, -1.62891845346939, -0.751724830571949, 1.221787657644495, -1.2370556063388374, -0.26261798439384293, 0.05700661584793129, -0.9826857973108456, -0.9242930927573282, 2.008173617532084, -0.9537997867431952, 0.544557135831679, 0.12389838121089267, -0.6517399056738514, -0.008838332906144657, -0.7705119141751826, -0.013767196996710689, -1.4057805873596152, -0.4217287727355006, 1.176787794433749, -1.0458708596480584, 1.2008315547324973, -1.0291561724381604, 1.3519340973676013, -0.19522834591140392, -0.5747729852035932, 1.1059822103875026, 0.840287820124843, 0.7016958656783645, -2.909892668570365, -0.09026571281800562, -1.1559370125033137, 0.0898491011662047, 0.5857940995556743, -0.1957033553697, 1.272310757952812, 1.646039037653469, -2.3312753967941324, 1.3534487764362362, 0.986712862850714, -0.546493967885695, -0.5096676151303053, -0.7206230442215765, 0.05370838829696439, -1.7167671387663515, 0.3535953726063795, 1.6789913254550561, 1.8703315354977972, -0.11273195229105297, -1.1867593413567612, 0.7237722425932486, -1.346077689084973, -0.3495845290527601, 0.9456667857383729, 0.21693866578025178, -0.8425094716175664, -0.7081918058713926, -0.5586228575044428, -0.9327078571892303, -0.10419307714312237, 1.2071876791389191, -0.11323674345329729, -1.3739427438138225, 0.5793412160891206, -0.3058849440485125, -0.18848282657246118, -1.0824724646771438, -0.6032531745103403, 0.9330905749755273, 0.47067646125929297, 1.9496445395402757, 0.9874500059770027, 0.7652378805438385, 0.8588554322526414, 1.0025714715752059, 0.951069583599553, 0.7882397138686523, 0.40918523076205693, -0.27713051540343314, 1.4360530928253856, 0.6854155661459002, -0.02812236609840815, -0.29670175435657165, 1.246308160692851, 0.5444688241469041, 0.5354773821108091, 0.09012788642779117, 1.0208863890976174, -0.07073840687820353, -0.4455686325415875, 0.17125700591506587, 0.873997065458489, 0.03781765973127358, -0.03489095649848428, 0.11725839540616458, -0.8169281798598405, -0.6456345340547421, -0.41052848273814024, 2.0003773716529265, -0.3928402528148233, -0.2385492874720056, -0.21505557364748404, 1.0411432170042567, -0.24560895592163354, -0.4392249876211039, 1.0507146508809442, -0.2078079955230312, -0.511511862721436, 0.42811072876148315, 0.45867977117899894, -0.1455290406982703, 0.4301222336073844, -1.2665577937849086, 0.9682866580179427, 1.782822315326282, -0.038066073427686684, 0.09514624963359612, -0.11409054724987205, -2.88257582657067, -0.31856253251837885, -0.5546972863062193, -0.22001134406230521, 0.04151945147105141, -0.28089624631946003, -1.1046800484181378, -0.9471185119400128, 0.54720747517213, 0.8573077701022989, -0.2969348136437199, -0.34054426386096326, 0.38634972197613493, 0.4374597977305008, 0.19240813326653347, 0.28897360342435874, -0.4732179772297686, -0.40353953185082536, -0.12054742945884338, 0.40820612869324846, -0.8807872480767371, -0.32016767522804257, 0.35986459408387184, -0.12549869660493285, 1.0386596053373511, -1.173799705258491, 0.37580125974054523, -0.0789098257624965, -1.6641912729131234, -2.0636359049638946, -0.5949082954757444, -1.3678500042495971, -0.190388517182561, 0.5334362256995235, -3.200158015590233, -0.1532339870325903, -1.4180522341103563, -0.6929732913632719, -1.4861911771201415, 0.6806994813261453, -2.3390105767334974, 1.6880793553979443, -1.5525276181454641, -1.5432486851931608, 0.1813968824676101, 0.6281722784787558, -1.4367417444601926, -0.5317953071456645, -1.8077345377875178, -1.395780957392051, 0.42333409804462513, -0.9761620795067012, -0.6698193815833924, 0.8774161748470448, -0.47187927081590675, 0.11273940508281419, 2.533435457915079, -0.4614419335443185, -1.1417368820827773, -0.3477836276034479, 0.05480758735722412, -0.3673883826882819, 0.8885462236819395, -0.8426131515844237, 0.6791416414361066, 1.635001677680583, 0.8451485783643182, -1.2964930537914081, -1.609852876891589, -0.2686554228517938, 1.0615367317403535, -0.8240615723628584, -1.6675617327088748, 0.007726951520417794, 0.575531723119986, -0.7054561620130908, -0.07528706737626571, 1.2291451328592213, 2.4314143532346297, -0.36856252902946707, 0.9888179359704196, -1.0996247895335716, 0.30613471522819835, -0.6802047490382772, 0.4868478059802768, 1.5155446434711048, 0.5024015369486634, 0.04485535182627251, -0.8475181304520639, -0.26092699174565526, 0.556413749606965, 0.10118967805585692, 0.3765164811477397, 0.011789803259095346, -0.21609312657407875, -2.1201227742912776, -0.5542438235687843, 0.09155144119650067, -0.8691022063200217, 0.6990128580651287, -0.8383019989903548, 2.4182770686782584, -0.10780088687253526, 0.6373791704638238, -1.0519060008487842, -0.11191766548970349, 2.129692026662669, -0.19214408698259813, 1.3010508437777155, -0.3532618159307078, -1.059252584947987, -1.408572592503918, -0.4126561152153954, -0.04441433051684741, -0.13069991055414745, -1.1229562237637762, -1.4176599463252513, 0.5128612107702303, -0.9130384235243088, 2.0268743128591105, 0.01713412889559872, 0.39765167935739093, -1.0600986002392327, 0.1902634007387396, -0.6253148668435612, 1.0298588762239698, 1.5014602855082302, -1.1010422739272017, -0.2542674343946887, 0.5238202738999991, -0.49103044024593573, -2.092732670417682, -1.097327540830198], \"z\": [0.2024454796085355, 0.24288035773066535, 0.8580069032150124, -1.6051443060746586, 2.341386788686899, -0.08608072422791169, 0.23950707299048793, -0.4476843614750411, -0.11943299846759595, -0.6410985313454779, -0.9607420593426207, -0.3808724982891385, -0.4313554335541372, 0.7503566123035882, 2.203358645158279, -0.7815332673870488, 0.24585633451507982, -0.8167063992134881, 0.20201417302645708, 0.8796057909907976, -1.2792021243374263, -0.7929626462844529, 1.0276983841415113, -1.1526240819806424, 0.20997242481531325, -0.04805118007901696, 0.731215015989362, 0.44603010952939504, -0.41668261762536357, 1.3892815045793916, 1.1368512973820488, -1.1194650554386993, -0.6394590205827528, -0.5739012994364499, 0.14014310395576113, -0.05642347558865123, 0.23449552736265014, -1.0839685421142615, 0.573381916673002, 1.1177029595646975, -0.6839153050763439, -2.6412398697241075, 0.17159245708038728, -0.19784369666750315, 1.729968020137062, -0.663089472944576, 0.6948209435099126, -1.801220331158707, -0.06208666631776225, 0.3064493367608428, -0.7176369375769717, 0.4801870547391584, -1.2238449834545286, 0.6901818768149481, -1.2335663359488716, -0.17952180302595708, 0.3658131036498786, 0.3362709982721299, -0.9286010986862436, 0.5523066848455221, -1.7458690188979515, -1.4887895620413139, -0.8035167315492701, 0.6469906562687763, -1.7763346625865675, 2.2783891250126342, -1.2562759223881912, 2.1376806021790626, -0.33594165620324196, -1.6837657726765989, -0.42174138947204026, -0.858155036942706, -0.9273592081360285, -0.8054223733272217, -0.3168035135317946, 0.005053142972165977, -1.4477255418288675, -0.2964115508179024, -2.331275760317459, 0.1310686096257359, 0.14144595559476436, -0.2994288076417745, 0.37129561347285217, -0.6789045308261189, 0.3004616427445333, -0.7432481792123696, 0.667439775323184, 0.7261988100123521, 0.5165600177301508, 2.133983387435206, -1.0618579508606245, 0.1769389147673536, 0.7770475922757046, -0.2297301109613631, -1.1795096609710436, 1.4947793722646632, 1.506234409410956, -0.999431133822164, 2.0258989707184885, 2.086055336752229, -1.3430330775435426, -0.6026650811622478, 0.2677668280472505, 0.618545760489814, -1.601509831084656, 1.1089227530093793, -1.8404138479825753, -0.6289531140764597, 1.567985246631232, 0.32380359067134457, 0.8293954957670147, -1.0972453247533347, -1.1587156857749117, -1.4607332606679349, 0.3308605048306736, 0.4261217433770476, -0.6708154097863329, 0.7151249825020071, -0.2949689733473952, 0.6588730549892132, 0.5186929659462847, 0.966690619628308, 0.2495138213322667, 0.09930828418964184, -1.582154209841533, 0.15815850481042182, -1.7619857382137492, -0.6242555821484648, -1.1179366545893519, -0.4355842383747055, -0.4699026508459902, 0.7458031270044709, 0.5948298672292628, 0.9113922338591232, -0.08237488747180255, 0.14006646220452978, 0.015393523286330283, 1.8804796605638638, 0.4082324731245307, -1.0936342293724473, -1.765476766049784, -1.848419494105177, -1.1568252651501671, -0.4934870561166054, 0.10092808499565592, 2.112194495030138, -0.12226192178030793, -1.2850541654434078, -2.6881416844488917, -0.23111008735986488, -0.5350147275137835, 1.0025541925764205, -0.20798008461354, 0.44243232254349185, -0.5213413493956957, -0.9320793861237368, 1.2941894530222289, -0.8246689264077868, -0.11860916516373486, -0.47450362839228744, 0.7761347252781569, -1.1330096214296455, 2.367507783941265, 0.12823701873845764, -0.9900672772860205, -1.211896043576319, 0.31160430503674863, -1.5468687006986337, -0.5613130128779502, 0.33436109247672025, -0.1156139822936332, -0.2475911561356197, 0.05247425197953366, -0.19755589424959474, 2.5285128773442236, -1.0760687715868638, 0.2768577865696641, -0.031092804321462022, -0.800686866360207, -0.8100131095703038, 0.26723915634875994, 1.6926029125103805, 1.0246096593421474, 0.3443995100043377, 0.9042272137679139, 1.3958930473520317, 0.04316627410999761, 0.6366011481483793, -0.6062595791807543, -1.2934936099927072, -0.1555083450191526, -1.6838970145474756, 0.43720421247398034, 0.009318615988041444, 0.9044219272192784, 0.6104615636197318, -1.782585503097257, -2.473009827760291, 0.8333085239566648, 0.7408211260152955, 0.2860093354287956, -2.418178167446804, -1.0073587748114752, -0.5934234906637473, 0.25194689022310174, 0.7177771554062721, -0.2926254277688627, -0.6575575252403623, -0.26565767540952556, -1.0682295925970797, 1.9007750617812667, -1.0364164216476492, -1.012040925284238, 0.005154203581391905, -0.44068624383701815, -0.9336935363614695, -0.03091374194873133, -0.7977408023184808, -0.7780532659508546, 1.6808199304776303, -1.0000250110139597, -2.1817061106646976, -0.3510274444176532, -0.8176849087305603, 0.9681560837155978, -1.6688139258949408, 0.49823922729039016, -0.6984300114073161, -0.7171040357699189, 0.1666778716858773, 0.21572274517367176, 2.170384321336475, 0.9417440045199801, -0.8053135914935731, 0.24369223504537507, 0.1990287616635857, -2.4443638386964732, -0.4615266378351308, -0.08690464281960869, 1.4406791194374708, 0.34545571577952044, -0.48559583988530447, -1.6418182089206355, 0.6991752333062965, 1.117807219027912, 1.2974992534209107, 0.6141145108198746, -0.3764188663719469, -0.6531485337643682, 0.4319103777672319, -1.9272402958413264, -0.7709326901511245, -0.33581579185127247, -0.27835017753457103, 0.5130442763014861, -1.693553861044485, 0.23142267389879273, 0.4082651608654304, -0.3805805569736668, -0.2686300494864839, -0.5551428511166904, -2.1115866815518887, -0.8320923569070452, 1.7495681486155539, 0.4646784455596442, 0.8649375316382334, -0.7184333333651326, -2.359574411707983, 1.9649215206355328, -0.7285788386655123, 1.0766164705466268, 0.1965297546220071, 0.268624933957204, -1.7056077139659311, 0.10114613323971267, -0.18090301600975495, -1.3343957471476948, -0.9083004192539151, -0.4985488688570477, -2.032237377289457, 0.5111747193619786, 1.151498711143347, 1.9188970168200885, 0.9661277781330424, 0.15642951249684361, -0.7031240607619753, -0.9352290363583527, 0.14303822238587513, -0.024888872209743923, 0.7385974257958856, 0.611796365847259, -0.5461934333218621, -1.1860881049515337, -0.41360157254314334, -0.5890821108473187, 0.9605533074863652, 0.8511437446169405, 0.14503207056119746, 0.2636026776061841, 1.9120353874121025, 1.2808087106851689, 0.5354807627924233, 0.5460182951418363, 0.14180942093976892, 2.441544267067676, 1.335225829075092, 0.13766341232683676, 0.8917900908038378, -0.9109057275443467, -0.05745276099419292, -0.3532664094134325, 0.7781640011156574, 0.2736674427640031, -0.6308761471160877, 0.9167843951705993, 0.25549599475648804, 0.18132741884660836, -0.7976354494116233, 0.1162278031474178, -0.1882561714668889, 1.1522066658814814, -0.17828765043524322, 1.6558341855433085, -0.6905624268750897, 2.1531558311531818, 0.03362302098187782, 0.2693381081531708, 0.13210118507856647, -1.7354964084833329, -0.17028315807711536, -3.297310810915479, -0.21860370856860656, -1.5562851838681078, -0.33963845077859983, -0.5780209702272073, -1.099296063961852, -0.11543306169008932, -0.9448986805936017, 0.158522072723143, -0.574148113577886, -1.3504952050404697, 0.0712610968256717, -0.6639609797654888, -1.078882324597295, -0.3786433630277698, -0.8814716951973447, -0.033920320718076054, 0.31455237317102397, -0.074674439547017, -0.14985478528120608, -0.31042307923922097, -1.0933099441752894, 0.33650505843754513, 0.07701890733504721, -0.2994892344593881, -0.40729296646162383, 0.3065702747064533, -1.1400278867731104, 0.616376208408221, -1.236486251942453, 0.9078095107968628, 0.9412350767251791, -1.6590195055791772, 0.20965443262478797, -1.5350394083066963, -1.7253134500466438, -0.6726195448458193, -1.0285816639516894, 0.22008669468639722, -1.6387459620995266, -0.33405151770626146, 0.05593329801057091, 0.4401499435385711, -0.942695312792849, -0.7378471452112642, -0.44500875320225236, -0.8769845104948085, -1.4345164668119583, -0.0942557483410476, 0.18023300819803545, -0.525444589713766, -1.148972229917473, 0.06372697729957794, -1.264178979129733, -0.8887197708981927, -0.06424258417880843, 1.8935387837324291, -2.098572808534038, 0.5354114842366376, -0.4107725690336545, -0.319593490395818, 0.6586807325988806, 0.8712834742576319, 1.4785825789924971, 0.5154769099902305, 1.1279384973636837, 0.3871141443342285, -1.6070472353783694, -1.4711517840028203, -0.8393830087901101]}],                        {\"margin\": {\"b\": 0, \"l\": 0, \"r\": 0, \"t\": 0}, \"template\": {\"data\": {\"bar\": [{\"error_x\": {\"color\": \"#2a3f5f\"}, \"error_y\": {\"color\": \"#2a3f5f\"}, \"marker\": {\"line\": {\"color\": \"#E5ECF6\", \"width\": 0.5}}, \"type\": \"bar\"}], \"barpolar\": [{\"marker\": {\"line\": {\"color\": \"#E5ECF6\", \"width\": 0.5}}, \"type\": \"barpolar\"}], \"carpet\": [{\"aaxis\": {\"endlinecolor\": \"#2a3f5f\", \"gridcolor\": \"white\", \"linecolor\": \"white\", \"minorgridcolor\": \"white\", \"startlinecolor\": \"#2a3f5f\"}, \"baxis\": {\"endlinecolor\": \"#2a3f5f\", \"gridcolor\": \"white\", \"linecolor\": \"white\", \"minorgridcolor\": \"white\", \"startlinecolor\": \"#2a3f5f\"}, \"type\": \"carpet\"}], \"choropleth\": [{\"colorbar\": {\"outlinewidth\": 0, \"ticks\": \"\"}, \"type\": \"choropleth\"}], \"contour\": [{\"colorbar\": {\"outlinewidth\": 0, \"ticks\": \"\"}, \"colorscale\": [[0.0, \"#0d0887\"], [0.1111111111111111, \"#46039f\"], [0.2222222222222222, \"#7201a8\"], [0.3333333333333333, \"#9c179e\"], [0.4444444444444444, \"#bd3786\"], [0.5555555555555556, \"#d8576b\"], [0.6666666666666666, \"#ed7953\"], [0.7777777777777778, \"#fb9f3a\"], [0.8888888888888888, \"#fdca26\"], [1.0, \"#f0f921\"]], \"type\": \"contour\"}], \"contourcarpet\": [{\"colorbar\": {\"outlinewidth\": 0, \"ticks\": \"\"}, \"type\": \"contourcarpet\"}], \"heatmap\": [{\"colorbar\": {\"outlinewidth\": 0, \"ticks\": \"\"}, \"colorscale\": [[0.0, \"#0d0887\"], [0.1111111111111111, \"#46039f\"], [0.2222222222222222, \"#7201a8\"], [0.3333333333333333, \"#9c179e\"], [0.4444444444444444, \"#bd3786\"], [0.5555555555555556, \"#d8576b\"], [0.6666666666666666, \"#ed7953\"], [0.7777777777777778, \"#fb9f3a\"], [0.8888888888888888, \"#fdca26\"], [1.0, \"#f0f921\"]], \"type\": \"heatmap\"}], \"heatmapgl\": [{\"colorbar\": {\"outlinewidth\": 0, \"ticks\": \"\"}, \"colorscale\": [[0.0, \"#0d0887\"], [0.1111111111111111, \"#46039f\"], [0.2222222222222222, \"#7201a8\"], [0.3333333333333333, \"#9c179e\"], [0.4444444444444444, \"#bd3786\"], [0.5555555555555556, \"#d8576b\"], [0.6666666666666666, \"#ed7953\"], [0.7777777777777778, \"#fb9f3a\"], [0.8888888888888888, \"#fdca26\"], [1.0, \"#f0f921\"]], \"type\": \"heatmapgl\"}], \"histogram\": [{\"marker\": {\"colorbar\": {\"outlinewidth\": 0, \"ticks\": \"\"}}, \"type\": \"histogram\"}], \"histogram2d\": [{\"colorbar\": {\"outlinewidth\": 0, \"ticks\": \"\"}, \"colorscale\": [[0.0, \"#0d0887\"], [0.1111111111111111, \"#46039f\"], [0.2222222222222222, \"#7201a8\"], [0.3333333333333333, \"#9c179e\"], [0.4444444444444444, \"#bd3786\"], [0.5555555555555556, \"#d8576b\"], [0.6666666666666666, \"#ed7953\"], [0.7777777777777778, \"#fb9f3a\"], [0.8888888888888888, \"#fdca26\"], [1.0, \"#f0f921\"]], \"type\": \"histogram2d\"}], \"histogram2dcontour\": [{\"colorbar\": {\"outlinewidth\": 0, \"ticks\": \"\"}, \"colorscale\": [[0.0, \"#0d0887\"], [0.1111111111111111, \"#46039f\"], [0.2222222222222222, \"#7201a8\"], [0.3333333333333333, \"#9c179e\"], [0.4444444444444444, \"#bd3786\"], [0.5555555555555556, \"#d8576b\"], [0.6666666666666666, \"#ed7953\"], [0.7777777777777778, \"#fb9f3a\"], [0.8888888888888888, \"#fdca26\"], [1.0, \"#f0f921\"]], \"type\": \"histogram2dcontour\"}], \"mesh3d\": [{\"colorbar\": {\"outlinewidth\": 0, \"ticks\": \"\"}, \"type\": \"mesh3d\"}], \"parcoords\": [{\"line\": {\"colorbar\": {\"outlinewidth\": 0, \"ticks\": \"\"}}, \"type\": \"parcoords\"}], \"pie\": [{\"automargin\": true, \"type\": \"pie\"}], \"scatter\": [{\"marker\": {\"colorbar\": {\"outlinewidth\": 0, \"ticks\": \"\"}}, \"type\": \"scatter\"}], \"scatter3d\": [{\"line\": {\"colorbar\": {\"outlinewidth\": 0, \"ticks\": \"\"}}, \"marker\": {\"colorbar\": {\"outlinewidth\": 0, \"ticks\": \"\"}}, \"type\": \"scatter3d\"}], \"scattercarpet\": [{\"marker\": {\"colorbar\": {\"outlinewidth\": 0, \"ticks\": \"\"}}, \"type\": \"scattercarpet\"}], \"scattergeo\": [{\"marker\": {\"colorbar\": {\"outlinewidth\": 0, \"ticks\": \"\"}}, \"type\": \"scattergeo\"}], \"scattergl\": [{\"marker\": {\"colorbar\": {\"outlinewidth\": 0, \"ticks\": \"\"}}, \"type\": \"scattergl\"}], \"scattermapbox\": [{\"marker\": {\"colorbar\": {\"outlinewidth\": 0, \"ticks\": \"\"}}, \"type\": \"scattermapbox\"}], \"scatterpolar\": [{\"marker\": {\"colorbar\": {\"outlinewidth\": 0, \"ticks\": \"\"}}, \"type\": \"scatterpolar\"}], \"scatterpolargl\": [{\"marker\": {\"colorbar\": {\"outlinewidth\": 0, \"ticks\": \"\"}}, \"type\": \"scatterpolargl\"}], \"scatterternary\": [{\"marker\": {\"colorbar\": {\"outlinewidth\": 0, \"ticks\": \"\"}}, \"type\": \"scatterternary\"}], \"surface\": [{\"colorbar\": {\"outlinewidth\": 0, \"ticks\": \"\"}, \"colorscale\": [[0.0, \"#0d0887\"], [0.1111111111111111, \"#46039f\"], [0.2222222222222222, \"#7201a8\"], [0.3333333333333333, \"#9c179e\"], [0.4444444444444444, \"#bd3786\"], [0.5555555555555556, \"#d8576b\"], [0.6666666666666666, \"#ed7953\"], [0.7777777777777778, \"#fb9f3a\"], [0.8888888888888888, \"#fdca26\"], [1.0, \"#f0f921\"]], \"type\": \"surface\"}], \"table\": [{\"cells\": {\"fill\": {\"color\": \"#EBF0F8\"}, \"line\": {\"color\": \"white\"}}, \"header\": {\"fill\": {\"color\": \"#C8D4E3\"}, \"line\": {\"color\": \"white\"}}, \"type\": \"table\"}]}, \"layout\": {\"annotationdefaults\": {\"arrowcolor\": \"#2a3f5f\", \"arrowhead\": 0, \"arrowwidth\": 1}, \"autotypenumbers\": \"strict\", \"coloraxis\": {\"colorbar\": {\"outlinewidth\": 0, \"ticks\": \"\"}}, \"colorscale\": {\"diverging\": [[0, \"#8e0152\"], [0.1, \"#c51b7d\"], [0.2, \"#de77ae\"], [0.3, \"#f1b6da\"], [0.4, \"#fde0ef\"], [0.5, \"#f7f7f7\"], [0.6, \"#e6f5d0\"], [0.7, \"#b8e186\"], [0.8, \"#7fbc41\"], [0.9, \"#4d9221\"], [1, \"#276419\"]], \"sequential\": [[0.0, \"#0d0887\"], [0.1111111111111111, \"#46039f\"], [0.2222222222222222, \"#7201a8\"], [0.3333333333333333, \"#9c179e\"], [0.4444444444444444, \"#bd3786\"], [0.5555555555555556, \"#d8576b\"], [0.6666666666666666, \"#ed7953\"], [0.7777777777777778, \"#fb9f3a\"], [0.8888888888888888, \"#fdca26\"], [1.0, \"#f0f921\"]], \"sequentialminus\": [[0.0, \"#0d0887\"], [0.1111111111111111, \"#46039f\"], [0.2222222222222222, \"#7201a8\"], [0.3333333333333333, \"#9c179e\"], [0.4444444444444444, \"#bd3786\"], [0.5555555555555556, \"#d8576b\"], [0.6666666666666666, \"#ed7953\"], [0.7777777777777778, \"#fb9f3a\"], [0.8888888888888888, \"#fdca26\"], [1.0, \"#f0f921\"]]}, \"colorway\": [\"#636efa\", \"#EF553B\", \"#00cc96\", \"#ab63fa\", \"#FFA15A\", \"#19d3f3\", \"#FF6692\", \"#B6E880\", \"#FF97FF\", \"#FECB52\"], \"font\": {\"color\": \"#2a3f5f\"}, \"geo\": {\"bgcolor\": \"white\", \"lakecolor\": \"white\", \"landcolor\": \"#E5ECF6\", \"showlakes\": true, \"showland\": true, \"subunitcolor\": \"white\"}, \"hoverlabel\": {\"align\": \"left\"}, \"hovermode\": \"closest\", \"mapbox\": {\"style\": \"light\"}, \"paper_bgcolor\": \"white\", \"plot_bgcolor\": \"#E5ECF6\", \"polar\": {\"angularaxis\": {\"gridcolor\": \"white\", \"linecolor\": \"white\", \"ticks\": \"\"}, \"bgcolor\": \"#E5ECF6\", \"radialaxis\": {\"gridcolor\": \"white\", \"linecolor\": \"white\", \"ticks\": \"\"}}, \"scene\": {\"xaxis\": {\"backgroundcolor\": \"#E5ECF6\", \"gridcolor\": \"white\", \"gridwidth\": 2, \"linecolor\": \"white\", \"showbackground\": true, \"ticks\": \"\", \"zerolinecolor\": \"white\"}, \"yaxis\": {\"backgroundcolor\": \"#E5ECF6\", \"gridcolor\": \"white\", \"gridwidth\": 2, \"linecolor\": \"white\", \"showbackground\": true, \"ticks\": \"\", \"zerolinecolor\": \"white\"}, \"zaxis\": {\"backgroundcolor\": \"#E5ECF6\", \"gridcolor\": \"white\", \"gridwidth\": 2, \"linecolor\": \"white\", \"showbackground\": true, \"ticks\": \"\", \"zerolinecolor\": \"white\"}}, \"shapedefaults\": {\"line\": {\"color\": \"#2a3f5f\"}}, \"ternary\": {\"aaxis\": {\"gridcolor\": \"white\", \"linecolor\": \"white\", \"ticks\": \"\"}, \"baxis\": {\"gridcolor\": \"white\", \"linecolor\": \"white\", \"ticks\": \"\"}, \"bgcolor\": \"#E5ECF6\", \"caxis\": {\"gridcolor\": \"white\", \"linecolor\": \"white\", \"ticks\": \"\"}}, \"title\": {\"x\": 0.05}, \"xaxis\": {\"automargin\": true, \"gridcolor\": \"white\", \"linecolor\": \"white\", \"ticks\": \"\", \"title\": {\"standoff\": 15}, \"zerolinecolor\": \"white\", \"zerolinewidth\": 2}, \"yaxis\": {\"automargin\": true, \"gridcolor\": \"white\", \"linecolor\": \"white\", \"ticks\": \"\", \"title\": {\"standoff\": 15}, \"zerolinecolor\": \"white\", \"zerolinewidth\": 2}}}},                        {\"responsive\": true}                    ).then(function(){\n",
       "                            \n",
       "var gd = document.getElementById('62930270-4a4d-4fd3-b908-74838ad8a394');\n",
       "var x = new MutationObserver(function (mutations, observer) {{\n",
       "        var display = window.getComputedStyle(gd).display;\n",
       "        if (!display || display === 'none') {{\n",
       "            console.log([gd, 'removed!']);\n",
       "            Plotly.purge(gd);\n",
       "            observer.disconnect();\n",
       "        }}\n",
       "}});\n",
       "\n",
       "// Listen for the removal of the full notebook cells\n",
       "var notebookContainer = gd.closest('#notebook-container');\n",
       "if (notebookContainer) {{\n",
       "    x.observe(notebookContainer, {childList: true});\n",
       "}}\n",
       "\n",
       "// Listen for the clearing of the current output cell\n",
       "var outputEl = gd.closest('.output');\n",
       "if (outputEl) {{\n",
       "    x.observe(outputEl, {childList: true});\n",
       "}}\n",
       "\n",
       "                        })                };                });            </script>        </div>"
      ]
     },
     "metadata": {},
     "output_type": "display_data"
    }
   ],
   "source": [
    "x, y, z = np.random.multivariate_normal(np.array([0,0,0]), np.eye(3), 400).transpose()\n",
    "\n",
    "trace1 = go.Scatter3d(x = x,\n",
    "                      y = y,\n",
    "                      z = z,\n",
    "                      mode = 'markers',\n",
    "                      marker = dict(size = 12,\n",
    "                                    color = z,\n",
    "                                    colorscale = 'Viridis',\n",
    "                                    opacity =0.8))\n",
    "\n",
    "data = [trace1]\n",
    "layout = go.Layout(margin = dict(l = 0,\n",
    "                                 r = 0,\n",
    "                                 b = 0,\n",
    "                                 t = 0))\n",
    "fig = go.Figure(data = data, layout = layout)\n",
    "plotly.offline.iplot(fig, filename = '3d-scatter-colorscale')"
   ]
  },
  {
   "cell_type": "code",
   "execution_count": null,
   "metadata": {},
   "outputs": [],
   "source": []
  }
 ],
 "metadata": {
  "kernelspec": {
   "display_name": "Python 3",
   "language": "python",
   "name": "python3"
  },
  "language_info": {
   "codemirror_mode": {
    "name": "ipython",
    "version": 3
   },
   "file_extension": ".py",
   "mimetype": "text/x-python",
   "name": "python",
   "nbconvert_exporter": "python",
   "pygments_lexer": "ipython3",
   "version": "3.8.8"
  }
 },
 "nbformat": 4,
 "nbformat_minor": 2
}
